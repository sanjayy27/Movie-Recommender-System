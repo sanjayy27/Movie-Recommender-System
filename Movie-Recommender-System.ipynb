{
 "cells": [
  {
   "cell_type": "code",
   "execution_count": 1,
   "id": "444eaf78",
   "metadata": {
    "_cell_guid": "b1076dfc-b9ad-4769-8c92-a6c4dae69d19",
    "_uuid": "8f2839f25d086af736a60e9eeb907d3b93b6e0e5",
    "execution": {
     "iopub.execute_input": "2023-02-23T17:23:16.197500Z",
     "iopub.status.busy": "2023-02-23T17:23:16.196896Z",
     "iopub.status.idle": "2023-02-23T17:23:16.212028Z",
     "shell.execute_reply": "2023-02-23T17:23:16.210974Z"
    },
    "papermill": {
     "duration": 0.04339,
     "end_time": "2023-02-23T17:23:16.215351",
     "exception": false,
     "start_time": "2023-02-23T17:23:16.171961",
     "status": "completed"
    },
    "tags": []
   },
   "outputs": [],
   "source": [
    "import pandas as pd\n",
    "import ast\n",
    "import numpy as np\n",
    "import warnings\n",
    "warnings.filterwarnings(\"ignore\")\n",
    "pd.set_option('display.max_columns', None)"
   ]
  },
  {
   "cell_type": "code",
   "execution_count": 2,
   "id": "1dedf609",
   "metadata": {
    "execution": {
     "iopub.execute_input": "2023-02-23T17:23:16.265731Z",
     "iopub.status.busy": "2023-02-23T17:23:16.264892Z",
     "iopub.status.idle": "2023-02-23T17:23:44.330426Z",
     "shell.execute_reply": "2023-02-23T17:23:44.329022Z"
    },
    "papermill": {
     "duration": 28.097334,
     "end_time": "2023-02-23T17:23:44.333623",
     "exception": false,
     "start_time": "2023-02-23T17:23:16.236289",
     "status": "completed"
    },
    "tags": []
   },
   "outputs": [],
   "source": [
    "df_credits=pd.read_csv('/kaggle/input/the-movies-dataset/credits.csv')\n",
    "df_keywords=pd.read_csv('/kaggle/input/the-movies-dataset/keywords.csv')\n",
    "df_movies=pd.read_csv('/kaggle/input/the-movies-dataset/movies_metadata.csv')\n",
    "df_ratings=pd.read_csv('/kaggle/input/the-movies-dataset/ratings.csv')"
   ]
  },
  {
   "cell_type": "code",
   "execution_count": 3,
   "id": "e15da04c",
   "metadata": {
    "execution": {
     "iopub.execute_input": "2023-02-23T17:23:44.376260Z",
     "iopub.status.busy": "2023-02-23T17:23:44.375825Z",
     "iopub.status.idle": "2023-02-23T17:23:44.399943Z",
     "shell.execute_reply": "2023-02-23T17:23:44.398644Z"
    },
    "papermill": {
     "duration": 0.049001,
     "end_time": "2023-02-23T17:23:44.403326",
     "exception": false,
     "start_time": "2023-02-23T17:23:44.354325",
     "status": "completed"
    },
    "tags": []
   },
   "outputs": [
    {
     "data": {
      "text/html": [
       "<div>\n",
       "<style scoped>\n",
       "    .dataframe tbody tr th:only-of-type {\n",
       "        vertical-align: middle;\n",
       "    }\n",
       "\n",
       "    .dataframe tbody tr th {\n",
       "        vertical-align: top;\n",
       "    }\n",
       "\n",
       "    .dataframe thead th {\n",
       "        text-align: right;\n",
       "    }\n",
       "</style>\n",
       "<table border=\"1\" class=\"dataframe\">\n",
       "  <thead>\n",
       "    <tr style=\"text-align: right;\">\n",
       "      <th></th>\n",
       "      <th>cast</th>\n",
       "      <th>crew</th>\n",
       "      <th>id</th>\n",
       "    </tr>\n",
       "  </thead>\n",
       "  <tbody>\n",
       "    <tr>\n",
       "      <th>0</th>\n",
       "      <td>[{'cast_id': 14, 'character': 'Woody (voice)',...</td>\n",
       "      <td>[{'credit_id': '52fe4284c3a36847f8024f49', 'de...</td>\n",
       "      <td>862</td>\n",
       "    </tr>\n",
       "    <tr>\n",
       "      <th>1</th>\n",
       "      <td>[{'cast_id': 1, 'character': 'Alan Parrish', '...</td>\n",
       "      <td>[{'credit_id': '52fe44bfc3a36847f80a7cd1', 'de...</td>\n",
       "      <td>8844</td>\n",
       "    </tr>\n",
       "  </tbody>\n",
       "</table>\n",
       "</div>"
      ],
      "text/plain": [
       "                                                cast  \\\n",
       "0  [{'cast_id': 14, 'character': 'Woody (voice)',...   \n",
       "1  [{'cast_id': 1, 'character': 'Alan Parrish', '...   \n",
       "\n",
       "                                                crew    id  \n",
       "0  [{'credit_id': '52fe4284c3a36847f8024f49', 'de...   862  \n",
       "1  [{'credit_id': '52fe44bfc3a36847f80a7cd1', 'de...  8844  "
      ]
     },
     "execution_count": 3,
     "metadata": {},
     "output_type": "execute_result"
    }
   ],
   "source": [
    "df_credits.head(2)"
   ]
  },
  {
   "cell_type": "code",
   "execution_count": 4,
   "id": "431360cf",
   "metadata": {
    "execution": {
     "iopub.execute_input": "2023-02-23T17:23:44.447927Z",
     "iopub.status.busy": "2023-02-23T17:23:44.445802Z",
     "iopub.status.idle": "2023-02-23T17:23:44.457463Z",
     "shell.execute_reply": "2023-02-23T17:23:44.455719Z"
    },
    "papermill": {
     "duration": 0.036464,
     "end_time": "2023-02-23T17:23:44.460474",
     "exception": false,
     "start_time": "2023-02-23T17:23:44.424010",
     "status": "completed"
    },
    "tags": []
   },
   "outputs": [
    {
     "data": {
      "text/plain": [
       "cast    object\n",
       "crew    object\n",
       "id       int64\n",
       "dtype: object"
      ]
     },
     "execution_count": 4,
     "metadata": {},
     "output_type": "execute_result"
    }
   ],
   "source": [
    "df_credits.dtypes"
   ]
  },
  {
   "cell_type": "code",
   "execution_count": 5,
   "id": "a25c64ab",
   "metadata": {
    "execution": {
     "iopub.execute_input": "2023-02-23T17:23:44.502252Z",
     "iopub.status.busy": "2023-02-23T17:23:44.501752Z",
     "iopub.status.idle": "2023-02-23T17:23:44.525992Z",
     "shell.execute_reply": "2023-02-23T17:23:44.525026Z"
    },
    "papermill": {
     "duration": 0.048105,
     "end_time": "2023-02-23T17:23:44.528562",
     "exception": false,
     "start_time": "2023-02-23T17:23:44.480457",
     "status": "completed"
    },
    "tags": []
   },
   "outputs": [
    {
     "data": {
      "text/plain": [
       "cast    0\n",
       "crew    0\n",
       "id      0\n",
       "dtype: int64"
      ]
     },
     "execution_count": 5,
     "metadata": {},
     "output_type": "execute_result"
    }
   ],
   "source": [
    "df_credits.isnull().sum()"
   ]
  },
  {
   "cell_type": "code",
   "execution_count": 6,
   "id": "661d5df1",
   "metadata": {
    "execution": {
     "iopub.execute_input": "2023-02-23T17:23:44.573485Z",
     "iopub.status.busy": "2023-02-23T17:23:44.572942Z",
     "iopub.status.idle": "2023-02-23T17:23:44.585662Z",
     "shell.execute_reply": "2023-02-23T17:23:44.584439Z"
    },
    "papermill": {
     "duration": 0.038021,
     "end_time": "2023-02-23T17:23:44.588094",
     "exception": false,
     "start_time": "2023-02-23T17:23:44.550073",
     "status": "completed"
    },
    "tags": []
   },
   "outputs": [
    {
     "data": {
      "text/plain": [
       "\"[{'cast_id': 14, 'character': 'Woody (voice)', 'credit_id': '52fe4284c3a36847f8024f95', 'gender': 2, 'id': 31, 'name': 'Tom Hanks', 'order': 0, 'profile_path': '/pQFoyx7rp09CJTAb932F2g8Nlho.jpg'}, {'cast_id': 15, 'character': 'Buzz Lightyear (voice)', 'credit_id': '52fe4284c3a36847f8024f99', 'gender': 2, 'id': 12898, 'name': 'Tim Allen', 'order': 1, 'profile_path': '/uX2xVf6pMmPepxnvFWyBtjexzgY.jpg'}, {'cast_id': 16, 'character': 'Mr. Potato Head (voice)', 'credit_id': '52fe4284c3a36847f8024f9d', 'gender': 2, 'id': 7167, 'name': 'Don Rickles', 'order': 2, 'profile_path': '/h5BcaDMPRVLHLDzbQavec4xfSdt.jpg'}, {'cast_id': 17, 'character': 'Slinky Dog (voice)', 'credit_id': '52fe4284c3a36847f8024fa1', 'gender': 2, 'id': 12899, 'name': 'Jim Varney', 'order': 3, 'profile_path': '/eIo2jVVXYgjDtaHoF19Ll9vtW7h.jpg'}, {'cast_id': 18, 'character': 'Rex (voice)', 'credit_id': '52fe4284c3a36847f8024fa5', 'gender': 2, 'id': 12900, 'name': 'Wallace Shawn', 'order': 4, 'profile_path': '/oGE6JqPP2xH4tNORKNqxbNPYi7u.jpg'}, {'cast_id': 19, 'character': 'Hamm (voice)', 'credit_id': '52fe4284c3a36847f8024fa9', 'gender': 2, 'id': 7907, 'name': 'John Ratzenberger', 'order': 5, 'profile_path': '/yGechiKWL6TJDfVE2KPSJYqdMsY.jpg'}, {'cast_id': 20, 'character': 'Bo Peep (voice)', 'credit_id': '52fe4284c3a36847f8024fad', 'gender': 1, 'id': 8873, 'name': 'Annie Potts', 'order': 6, 'profile_path': '/eryXT84RL41jHSJcMy4kS3u9y6w.jpg'}, {'cast_id': 26, 'character': 'Andy (voice)', 'credit_id': '52fe4284c3a36847f8024fc1', 'gender': 0, 'id': 1116442, 'name': 'John Morris', 'order': 7, 'profile_path': '/vYGyvK4LzeaUCoNSHtsuqJUY15M.jpg'}, {'cast_id': 22, 'character': 'Sid (voice)', 'credit_id': '52fe4284c3a36847f8024fb1', 'gender': 2, 'id': 12901, 'name': 'Erik von Detten', 'order': 8, 'profile_path': '/twnF1ZaJ1FUNUuo6xLXwcxjayBE.jpg'}, {'cast_id': 23, 'character': 'Mrs. Davis (voice)', 'credit_id': '52fe4284c3a36847f8024fb5', 'gender': 1, 'id': 12133, 'name': 'Laurie Metcalf', 'order': 9, 'profile_path': '/unMMIT60eoBM2sN2nyR7EZ2BvvD.jpg'}, {'cast_id': 24, 'character': 'Sergeant (voice)', 'credit_id': '52fe4284c3a36847f8024fb9', 'gender': 2, 'id': 8655, 'name': 'R. Lee Ermey', 'order': 10, 'profile_path': '/r8GBqFBjypLUP9VVqDqfZ7wYbSs.jpg'}, {'cast_id': 25, 'character': 'Hannah (voice)', 'credit_id': '52fe4284c3a36847f8024fbd', 'gender': 1, 'id': 12903, 'name': 'Sarah Freeman', 'order': 11, 'profile_path': None}, {'cast_id': 27, 'character': 'TV Announcer (voice)', 'credit_id': '52fe4284c3a36847f8024fc5', 'gender': 2, 'id': 37221, 'name': 'Penn Jillette', 'order': 12, 'profile_path': '/zmAaXUdx12NRsssgHbk1T31j2x9.jpg'}]\""
      ]
     },
     "execution_count": 6,
     "metadata": {},
     "output_type": "execute_result"
    }
   ],
   "source": [
    "df_credits['cast'][0]"
   ]
  },
  {
   "cell_type": "code",
   "execution_count": 7,
   "id": "f672c729",
   "metadata": {
    "execution": {
     "iopub.execute_input": "2023-02-23T17:23:44.632449Z",
     "iopub.status.busy": "2023-02-23T17:23:44.632036Z",
     "iopub.status.idle": "2023-02-23T17:23:44.638480Z",
     "shell.execute_reply": "2023-02-23T17:23:44.637169Z"
    },
    "papermill": {
     "duration": 0.031624,
     "end_time": "2023-02-23T17:23:44.640980",
     "exception": false,
     "start_time": "2023-02-23T17:23:44.609356",
     "status": "completed"
    },
    "tags": []
   },
   "outputs": [],
   "source": [
    "def convert1(obj):\n",
    "    count=0\n",
    "    L=[]\n",
    "    for i in ast.literal_eval(obj):\n",
    "        if count!=3:\n",
    "            L.append(i['name'])\n",
    "            count+=1\n",
    "        else :\n",
    "            break\n",
    "    return L"
   ]
  },
  {
   "cell_type": "code",
   "execution_count": 8,
   "id": "ea147b4f",
   "metadata": {
    "execution": {
     "iopub.execute_input": "2023-02-23T17:23:44.684669Z",
     "iopub.status.busy": "2023-02-23T17:23:44.684245Z",
     "iopub.status.idle": "2023-02-23T17:24:04.791989Z",
     "shell.execute_reply": "2023-02-23T17:24:04.790514Z"
    },
    "papermill": {
     "duration": 20.133106,
     "end_time": "2023-02-23T17:24:04.794944",
     "exception": false,
     "start_time": "2023-02-23T17:23:44.661838",
     "status": "completed"
    },
    "tags": []
   },
   "outputs": [],
   "source": [
    "df_credits['cast']=df_credits['cast'].apply(convert1)"
   ]
  },
  {
   "cell_type": "code",
   "execution_count": 9,
   "id": "065a5c60",
   "metadata": {
    "execution": {
     "iopub.execute_input": "2023-02-23T17:24:04.836483Z",
     "iopub.status.busy": "2023-02-23T17:24:04.836087Z",
     "iopub.status.idle": "2023-02-23T17:24:04.848852Z",
     "shell.execute_reply": "2023-02-23T17:24:04.847511Z"
    },
    "papermill": {
     "duration": 0.036113,
     "end_time": "2023-02-23T17:24:04.851041",
     "exception": false,
     "start_time": "2023-02-23T17:24:04.814928",
     "status": "completed"
    },
    "tags": []
   },
   "outputs": [
    {
     "data": {
      "text/html": [
       "<div>\n",
       "<style scoped>\n",
       "    .dataframe tbody tr th:only-of-type {\n",
       "        vertical-align: middle;\n",
       "    }\n",
       "\n",
       "    .dataframe tbody tr th {\n",
       "        vertical-align: top;\n",
       "    }\n",
       "\n",
       "    .dataframe thead th {\n",
       "        text-align: right;\n",
       "    }\n",
       "</style>\n",
       "<table border=\"1\" class=\"dataframe\">\n",
       "  <thead>\n",
       "    <tr style=\"text-align: right;\">\n",
       "      <th></th>\n",
       "      <th>cast</th>\n",
       "      <th>crew</th>\n",
       "      <th>id</th>\n",
       "    </tr>\n",
       "  </thead>\n",
       "  <tbody>\n",
       "    <tr>\n",
       "      <th>0</th>\n",
       "      <td>[Tom Hanks, Tim Allen, Don Rickles]</td>\n",
       "      <td>[{'credit_id': '52fe4284c3a36847f8024f49', 'de...</td>\n",
       "      <td>862</td>\n",
       "    </tr>\n",
       "    <tr>\n",
       "      <th>1</th>\n",
       "      <td>[Robin Williams, Jonathan Hyde, Kirsten Dunst]</td>\n",
       "      <td>[{'credit_id': '52fe44bfc3a36847f80a7cd1', 'de...</td>\n",
       "      <td>8844</td>\n",
       "    </tr>\n",
       "  </tbody>\n",
       "</table>\n",
       "</div>"
      ],
      "text/plain": [
       "                                             cast  \\\n",
       "0             [Tom Hanks, Tim Allen, Don Rickles]   \n",
       "1  [Robin Williams, Jonathan Hyde, Kirsten Dunst]   \n",
       "\n",
       "                                                crew    id  \n",
       "0  [{'credit_id': '52fe4284c3a36847f8024f49', 'de...   862  \n",
       "1  [{'credit_id': '52fe44bfc3a36847f80a7cd1', 'de...  8844  "
      ]
     },
     "execution_count": 9,
     "metadata": {},
     "output_type": "execute_result"
    }
   ],
   "source": [
    "df_credits.head(2)"
   ]
  },
  {
   "cell_type": "code",
   "execution_count": 10,
   "id": "613f4687",
   "metadata": {
    "execution": {
     "iopub.execute_input": "2023-02-23T17:24:04.893341Z",
     "iopub.status.busy": "2023-02-23T17:24:04.892376Z",
     "iopub.status.idle": "2023-02-23T17:24:04.900727Z",
     "shell.execute_reply": "2023-02-23T17:24:04.899346Z"
    },
    "papermill": {
     "duration": 0.032722,
     "end_time": "2023-02-23T17:24:04.903807",
     "exception": false,
     "start_time": "2023-02-23T17:24:04.871085",
     "status": "completed"
    },
    "tags": []
   },
   "outputs": [
    {
     "data": {
      "text/plain": [
       "['Tom Hanks', 'Tim Allen', 'Don Rickles']"
      ]
     },
     "execution_count": 10,
     "metadata": {},
     "output_type": "execute_result"
    }
   ],
   "source": [
    "df_credits['cast'][0]"
   ]
  },
  {
   "cell_type": "code",
   "execution_count": 11,
   "id": "e574c532",
   "metadata": {
    "execution": {
     "iopub.execute_input": "2023-02-23T17:24:04.947797Z",
     "iopub.status.busy": "2023-02-23T17:24:04.947311Z",
     "iopub.status.idle": "2023-02-23T17:24:04.955636Z",
     "shell.execute_reply": "2023-02-23T17:24:04.954452Z"
    },
    "papermill": {
     "duration": 0.03405,
     "end_time": "2023-02-23T17:24:04.958626",
     "exception": false,
     "start_time": "2023-02-23T17:24:04.924576",
     "status": "completed"
    },
    "tags": []
   },
   "outputs": [
    {
     "data": {
      "text/plain": [
       "'[{\\'credit_id\\': \\'52fe4284c3a36847f8024f49\\', \\'department\\': \\'Directing\\', \\'gender\\': 2, \\'id\\': 7879, \\'job\\': \\'Director\\', \\'name\\': \\'John Lasseter\\', \\'profile_path\\': \\'/7EdqiNbr4FRjIhKHyPPdFfEEEFG.jpg\\'}, {\\'credit_id\\': \\'52fe4284c3a36847f8024f4f\\', \\'department\\': \\'Writing\\', \\'gender\\': 2, \\'id\\': 12891, \\'job\\': \\'Screenplay\\', \\'name\\': \\'Joss Whedon\\', \\'profile_path\\': \\'/dTiVsuaTVTeGmvkhcyJvKp2A5kr.jpg\\'}, {\\'credit_id\\': \\'52fe4284c3a36847f8024f55\\', \\'department\\': \\'Writing\\', \\'gender\\': 2, \\'id\\': 7, \\'job\\': \\'Screenplay\\', \\'name\\': \\'Andrew Stanton\\', \\'profile_path\\': \\'/pvQWsu0qc8JFQhMVJkTHuexUAa1.jpg\\'}, {\\'credit_id\\': \\'52fe4284c3a36847f8024f5b\\', \\'department\\': \\'Writing\\', \\'gender\\': 2, \\'id\\': 12892, \\'job\\': \\'Screenplay\\', \\'name\\': \\'Joel Cohen\\', \\'profile_path\\': \\'/dAubAiZcvKFbboWlj7oXOkZnTSu.jpg\\'}, {\\'credit_id\\': \\'52fe4284c3a36847f8024f61\\', \\'department\\': \\'Writing\\', \\'gender\\': 0, \\'id\\': 12893, \\'job\\': \\'Screenplay\\', \\'name\\': \\'Alec Sokolow\\', \\'profile_path\\': \\'/v79vlRYi94BZUQnkkyznbGUZLjT.jpg\\'}, {\\'credit_id\\': \\'52fe4284c3a36847f8024f67\\', \\'department\\': \\'Production\\', \\'gender\\': 1, \\'id\\': 12894, \\'job\\': \\'Producer\\', \\'name\\': \\'Bonnie Arnold\\', \\'profile_path\\': None}, {\\'credit_id\\': \\'52fe4284c3a36847f8024f6d\\', \\'department\\': \\'Production\\', \\'gender\\': 0, \\'id\\': 12895, \\'job\\': \\'Executive Producer\\', \\'name\\': \\'Ed Catmull\\', \\'profile_path\\': None}, {\\'credit_id\\': \\'52fe4284c3a36847f8024f73\\', \\'department\\': \\'Production\\', \\'gender\\': 2, \\'id\\': 12896, \\'job\\': \\'Producer\\', \\'name\\': \\'Ralph Guggenheim\\', \\'profile_path\\': None}, {\\'credit_id\\': \\'52fe4284c3a36847f8024f79\\', \\'department\\': \\'Production\\', \\'gender\\': 2, \\'id\\': 12897, \\'job\\': \\'Executive Producer\\', \\'name\\': \\'Steve Jobs\\', \\'profile_path\\': \\'/mOMP3SwD5qWQSR0ldCIByd3guTV.jpg\\'}, {\\'credit_id\\': \\'52fe4284c3a36847f8024f8b\\', \\'department\\': \\'Editing\\', \\'gender\\': 2, \\'id\\': 8, \\'job\\': \\'Editor\\', \\'name\\': \\'Lee Unkrich\\', \\'profile_path\\': \\'/bdTCCXjgOV3YyaNmLGYGOxFQMOc.jpg\\'}, {\\'credit_id\\': \\'52fe4284c3a36847f8024f91\\', \\'department\\': \\'Art\\', \\'gender\\': 2, \\'id\\': 7883, \\'job\\': \\'Art Direction\\', \\'name\\': \\'Ralph Eggleston\\', \\'profile_path\\': \\'/uUfcGKDsKO1aROMpXRs67Hn6RvR.jpg\\'}, {\\'credit_id\\': \\'598331bf925141421201044b\\', \\'department\\': \\'Editing\\', \\'gender\\': 2, \\'id\\': 1168870, \\'job\\': \\'Editor\\', \\'name\\': \\'Robert Gordon\\', \\'profile_path\\': None}, {\\'credit_id\\': \\'5892168cc3a36809660095f9\\', \\'department\\': \\'Sound\\', \\'gender\\': 0, \\'id\\': 1552883, \\'job\\': \\'Foley Editor\\', \\'name\\': \\'Mary Helen Leasman\\', \\'profile_path\\': None}, {\\'credit_id\\': \\'5531824d9251415289000945\\', \\'department\\': \\'Visual Effects\\', \\'gender\\': 0, \\'id\\': 1453514, \\'job\\': \\'Animation\\', \\'name\\': \\'Kim Blanchette\\', \\'profile_path\\': None}, {\\'credit_id\\': \\'589215969251412dcb009bf6\\', \\'department\\': \\'Sound\\', \\'gender\\': 0, \\'id\\': 1414182, \\'job\\': \\'ADR Editor\\', \\'name\\': \\'Marilyn McCoppen\\', \\'profile_path\\': None}, {\\'credit_id\\': \\'589217099251412dc500a018\\', \\'department\\': \\'Sound\\', \\'gender\\': 2, \\'id\\': 7885, \\'job\\': \\'Orchestrator\\', \\'name\\': \\'Randy Newman\\', \\'profile_path\\': \\'/w0JzfoiM25nrnxYOzosPHRq6mlE.jpg\\'}, {\\'credit_id\\': \\'5693e6b29251417b0e0000e3\\', \\'department\\': \\'Editing\\', \\'gender\\': 0, \\'id\\': 1429549, \\'job\\': \\'Color Timer\\', \\'name\\': \\'Dale E. Grahn\\', \\'profile_path\\': None}, {\\'credit_id\\': \\'572e2522c3a36869e6001a9c\\', \\'department\\': \\'Visual Effects\\', \\'gender\\': 0, \\'id\\': 7949, \\'job\\': \\'CG Painter\\', \\'name\\': \\'Robin Cooper\\', \\'profile_path\\': None}, {\\'credit_id\\': \\'574f12309251415ca1000012\\', \\'department\\': \\'Writing\\', \\'gender\\': 2, \\'id\\': 7879, \\'job\\': \\'Original Story\\', \\'name\\': \\'John Lasseter\\', \\'profile_path\\': \\'/7EdqiNbr4FRjIhKHyPPdFfEEEFG.jpg\\'}, {\\'credit_id\\': \\'574f1240c3a3682e7300001c\\', \\'department\\': \\'Writing\\', \\'gender\\': 2, \\'id\\': 12890, \\'job\\': \\'Original Story\\', \\'name\\': \\'Pete Docter\\', \\'profile_path\\': \\'/r6ngPgnReA3RHmKjmSoVsc6Awjp.jpg\\'}, {\\'credit_id\\': \\'574f12519251415c92000015\\', \\'department\\': \\'Writing\\', \\'gender\\': 0, \\'id\\': 7911, \\'job\\': \\'Original Story\\', \\'name\\': \\'Joe Ranft\\', \\'profile_path\\': \\'/f1BoWC2JbCcfP1e5hKfGsxkHzVU.jpg\\'}, {\\'credit_id\\': \\'574f12cec3a3682e82000022\\', \\'department\\': \\'Crew\\', \\'gender\\': 0, \\'id\\': 1629419, \\'job\\': \\'Post Production Supervisor\\', \\'name\\': \\'Patsy Bouge\\', \\'profile_path\\': None}, {\\'credit_id\\': \\'574f14f19251415ca1000082\\', \\'department\\': \\'Art\\', \\'gender\\': 0, \\'id\\': 7961, \\'job\\': \\'Sculptor\\', \\'name\\': \\'Norm DeCarlo\\', \\'profile_path\\': None}, {\\'credit_id\\': \\'5751ae4bc3a3683772002b7f\\', \\'department\\': \\'Visual Effects\\', \\'gender\\': 2, \\'id\\': 12905, \\'job\\': \\'Animation Director\\', \\'name\\': \\'Ash Brannon\\', \\'profile_path\\': \\'/6ueWgPEEBHvS3De2BHYQnYjRTig.jpg\\'}, {\\'credit_id\\': \\'5891edbe9251412dc5007cd6\\', \\'department\\': \\'Sound\\', \\'gender\\': 2, \\'id\\': 7885, \\'job\\': \\'Music\\', \\'name\\': \\'Randy Newman\\', \\'profile_path\\': \\'/w0JzfoiM25nrnxYOzosPHRq6mlE.jpg\\'}, {\\'credit_id\\': \\'589213d39251412dc8009832\\', \\'department\\': \\'Directing\\', \\'gender\\': 0, \\'id\\': 1748707, \\'job\\': \\'Layout\\', \\'name\\': \\'Roman Figun\\', \\'profile_path\\': None}, {\\'credit_id\\': \\'5892173dc3a3680968009351\\', \\'department\\': \\'Sound\\', \\'gender\\': 2, \\'id\\': 4949, \\'job\\': \\'Orchestrator\\', \\'name\\': \\'Don Davis\\', \\'profile_path\\': None}, {\\'credit_id\\': \\'589217cec3a3686b0a0052ba\\', \\'department\\': \\'Sound\\', \\'gender\\': 0, \\'id\\': 1372885, \\'job\\': \\'Music Editor\\', \\'name\\': \\'James Flamberg\\', \\'profile_path\\': None}, {\\'credit_id\\': \\'58921831c3a3686348004a64\\', \\'department\\': \\'Editing\\', \\'gender\\': 0, \\'id\\': 1739962, \\'job\\': \\'Negative Cutter\\', \\'name\\': \\'Mary Beth Smith\\', \\'profile_path\\': None}, {\\'credit_id\\': \\'58921838c3a36809700096c0\\', \\'department\\': \\'Editing\\', \\'gender\\': 0, \\'id\\': 1748513, \\'job\\': \\'Negative Cutter\\', \\'name\\': \\'Rick Mackay\\', \\'profile_path\\': None}, {\\'credit_id\\': \\'589218429251412dd1009d1b\\', \\'department\\': \\'Art\\', \\'gender\\': 0, \\'id\\': 1458006, \\'job\\': \\'Title Designer\\', \\'name\\': \\'Susan Bradley\\', \\'profile_path\\': None}, {\\'credit_id\\': \\'5891ed99c3a3680966007670\\', \\'department\\': \\'Crew\\', \\'gender\\': 0, \\'id\\': 1748557, \\'job\\': \\'Supervising Technical Director\\', \\'name\\': \\'William Reeves\\', \\'profile_path\\': None}, {\\'credit_id\\': \\'5891edcec3a3686b0a002eb2\\', \\'department\\': \\'Sound\\', \\'gender\\': 2, \\'id\\': 7885, \\'job\\': \\'Songs\\', \\'name\\': \\'Randy Newman\\', \\'profile_path\\': \\'/w0JzfoiM25nrnxYOzosPHRq6mlE.jpg\\'}, {\\'credit_id\\': \\'5891edf9c3a36809700075e6\\', \\'department\\': \\'Writing\\', \\'gender\\': 2, \\'id\\': 7, \\'job\\': \\'Original Story\\', \\'name\\': \\'Andrew Stanton\\', \\'profile_path\\': \\'/pvQWsu0qc8JFQhMVJkTHuexUAa1.jpg\\'}, {\\'credit_id\\': \\'58920f0b9251412dd7009104\\', \\'department\\': \\'Crew\\', \\'gender\\': 2, \\'id\\': 12890, \\'job\\': \\'Supervising Animator\\', \\'name\\': \\'Pete Docter\\', \\'profile_path\\': \\'/r6ngPgnReA3RHmKjmSoVsc6Awjp.jpg\\'}, {\\'credit_id\\': \\'58920f1fc3a3680977009021\\', \\'department\\': \\'Sound\\', \\'gender\\': 2, \\'id\\': 2216, \\'job\\': \\'Sound Designer\\', \\'name\\': \\'Gary Rydstrom\\', \\'profile_path\\': \\'/jZpr1nVfO7lldWI0YtmP1FGw7Rj.jpg\\'}, {\\'credit_id\\': \\'58920f389251412dd700912d\\', \\'department\\': \\'Production\\', \\'gender\\': 0, \\'id\\': 12909, \\'job\\': \\'Production Supervisor\\', \\'name\\': \\'Karen Robert Jackson\\', \\'profile_path\\': None}, {\\'credit_id\\': \\'58920fbd9251412dcb00969c\\', \\'department\\': \\'Crew\\', \\'gender\\': 0, \\'id\\': 953331, \\'job\\': \\'Executive Music Producer\\', \\'name\\': \\'Chris Montan\\', \\'profile_path\\': None}, {\\'credit_id\\': \\'589210069251412dd7009219\\', \\'department\\': \\'Visual Effects\\', \\'gender\\': 0, \\'id\\': 7893, \\'job\\': \\'Animation Director\\', \\'name\\': \\'Rich Quade\\', \\'profile_path\\': None}, {\\'credit_id\\': \\'589210329251412dcd00943b\\', \\'department\\': \\'Visual Effects\\', \\'gender\\': 0, \\'id\\': 8025, \\'job\\': \\'Animation\\', \\'name\\': \\'Michael Berenstein\\', \\'profile_path\\': None}, {\\'credit_id\\': \\'5892103bc3a368096a009180\\', \\'department\\': \\'Visual Effects\\', \\'gender\\': 0, \\'id\\': 78009, \\'job\\': \\'Animation\\', \\'name\\': \\'Colin Brady\\', \\'profile_path\\': None}, {\\'credit_id\\': \\'5892105dc3a3680968008db2\\', \\'department\\': \\'Visual Effects\\', \\'gender\\': 0, \\'id\\': 1748682, \\'job\\': \\'Animation\\', \\'name\\': \\'Davey Crockett Feiten\\', \\'profile_path\\': None}, {\\'credit_id\\': \\'589210669251412dcd009466\\', \\'department\\': \\'Visual Effects\\', \\'gender\\': 0, \\'id\\': 1454030, \\'job\\': \\'Animation\\', \\'name\\': \\'Angie Glocka\\', \\'profile_path\\': None}, {\\'credit_id\\': \\'5892107c9251412dd1009613\\', \\'department\\': \\'Visual Effects\\', \\'gender\\': 0, \\'id\\': 1748683, \\'job\\': \\'Animation\\', \\'name\\': \\'Rex Grignon\\', \\'profile_path\\': None}, {\\'credit_id\\': \\'5892108ac3a3680973008d3f\\', \\'department\\': \\'Visual Effects\\', \\'gender\\': 0, \\'id\\': 1748684, \\'job\\': \\'Animation\\', \\'name\\': \\'Tom K. Gurney\\', \\'profile_path\\': None}, {\\'credit_id\\': \\'58921093c3a3686348004477\\', \\'department\\': \\'Visual Effects\\', \\'gender\\': 2, \\'id\\': 8029, \\'job\\': \\'Animation\\', \\'name\\': \\'Jimmy Hayward\\', \\'profile_path\\': \\'/lTDRpudEY7BDwTefXbXzMlmb0ui.jpg\\'}, {\\'credit_id\\': \\'5892109b9251412dcd0094b0\\', \\'department\\': \\'Visual Effects\\', \\'gender\\': 0, \\'id\\': 1426773, \\'job\\': \\'Animation\\', \\'name\\': \\'Hal T. Hickel\\', \\'profile_path\\': None}, {\\'credit_id\\': \\'589210a29251412dc5009a29\\', \\'department\\': \\'Visual Effects\\', \\'gender\\': 0, \\'id\\': 8035, \\'job\\': \\'Animation\\', \\'name\\': \\'Karen Kiser\\', \\'profile_path\\': None}, {\\'credit_id\\': \\'589210ccc3a3680977009191\\', \\'department\\': \\'Visual Effects\\', \\'gender\\': 0, \\'id\\': 1748688, \\'job\\': \\'Animation\\', \\'name\\': \\'Anthony B. LaMolinara\\', \\'profile_path\\': None}, {\\'credit_id\\': \\'589210d7c3a3686b0a004c1f\\', \\'department\\': \\'Visual Effects\\', \\'gender\\': 0, \\'id\\': 587314, \\'job\\': \\'Animation\\', \\'name\\': \\'Guionne Leroy\\', \\'profile_path\\': None}, {\\'credit_id\\': \\'589210e1c3a36809770091a7\\', \\'department\\': \\'Visual Effects\\', \\'gender\\': 2, \\'id\\': 7918, \\'job\\': \\'Animation\\', \\'name\\': \\'Bud Luckey\\', \\'profile_path\\': \\'/pcCh7G19FKMNijmPQg1PMH1btic.jpg\\'}, {\\'credit_id\\': \\'589210ee9251412dc200978a\\', \\'department\\': \\'Visual Effects\\', \\'gender\\': 0, \\'id\\': 1748689, \\'job\\': \\'Animation\\', \\'name\\': \\'Les Major\\', \\'profile_path\\': None}, {\\'credit_id\\': \\'589210fa9251412dc8009595\\', \\'department\\': \\'Visual Effects\\', \\'gender\\': 2, \\'id\\': 7892, \\'job\\': \\'Animation\\', \\'name\\': \\'Glenn McQueen\\', \\'profile_path\\': None}, {\\'credit_id\\': \\'589211029251412dc8009598\\', \\'department\\': \\'Visual Effects\\', \\'gender\\': 0, \\'id\\': 555795, \\'job\\': \\'Animation\\', \\'name\\': \\'Mark Oftedal\\', \\'profile_path\\': None}, {\\'credit_id\\': \\'5892110b9251412dc800959d\\', \\'department\\': \\'Visual Effects\\', \\'gender\\': 2, \\'id\\': 7882, \\'job\\': \\'Animation\\', \\'name\\': \\'Jeff Pidgeon\\', \\'profile_path\\': \\'/yLddkg5HcgbJg00cS13GVBnP0HY.jpg\\'}, {\\'credit_id\\': \\'58921113c3a36863480044e4\\', \\'department\\': \\'Visual Effects\\', \\'gender\\': 0, \\'id\\': 8017, \\'job\\': \\'Animation\\', \\'name\\': \\'Jeff Pratt\\', \\'profile_path\\': None}, {\\'credit_id\\': \\'5892111c9251412dcb0097e9\\', \\'department\\': \\'Visual Effects\\', \\'gender\\': 0, \\'id\\': 1184140, \\'job\\': \\'Animation\\', \\'name\\': \\'Steve Rabatich\\', \\'profile_path\\': None}, {\\'credit_id\\': \\'58921123c3a36809700090f6\\', \\'department\\': \\'Visual Effects\\', \\'gender\\': 0, \\'id\\': 8049, \\'job\\': \\'Animation\\', \\'name\\': \\'Roger Rose\\', \\'profile_path\\': None}, {\\'credit_id\\': \\'5892112b9251412dcb0097fb\\', \\'department\\': \\'Visual Effects\\', \\'gender\\': 0, \\'id\\': 1509559, \\'job\\': \\'Animation\\', \\'name\\': \\'Steve Segal\\', \\'profile_path\\': None}, {\\'credit_id\\': \\'589211349251412dc80095c3\\', \\'department\\': \\'Visual Effects\\', \\'gender\\': 0, \\'id\\': 1748691, \\'job\\': \\'Animation\\', \\'name\\': \\'Doug Sheppeck\\', \\'profile_path\\': None}, {\\'credit_id\\': \\'5892113cc3a3680970009106\\', \\'department\\': \\'Visual Effects\\', \\'gender\\': 0, \\'id\\': 8050, \\'job\\': \\'Animation\\', \\'name\\': \\'Alan Sperling\\', \\'profile_path\\': None}, {\\'credit_id\\': \\'58921148c3a3686b0a004c99\\', \\'department\\': \\'Visual Effects\\', \\'gender\\': 0, \\'id\\': 8010, \\'job\\': \\'Animation\\', \\'name\\': \\'Doug Sweetland\\', \\'profile_path\\': None}, {\\'credit_id\\': \\'58921150c3a3680966009125\\', \\'department\\': \\'Visual Effects\\', \\'gender\\': 0, \\'id\\': 8044, \\'job\\': \\'Animation\\', \\'name\\': \\'David Tart\\', \\'profile_path\\': None}, {\\'credit_id\\': \\'589211629251412dc5009b00\\', \\'department\\': \\'Visual Effects\\', \\'gender\\': 0, \\'id\\': 1454034, \\'job\\': \\'Animation\\', \\'name\\': \\'Ken Willard\\', \\'profile_path\\': None}, {\\'credit_id\\': \\'589211c1c3a3686b0a004d28\\', \\'department\\': \\'Visual Effects\\', \\'gender\\': 0, \\'id\\': 7887, \\'job\\': \\'Visual Effects Supervisor\\', \\'name\\': \\'Thomas Porter\\', \\'profile_path\\': None}, {\\'credit_id\\': \\'589211d4c3a3680968008ed9\\', \\'department\\': \\'Visual Effects\\', \\'gender\\': 0, \\'id\\': 1406878, \\'job\\': \\'Visual Effects\\', \\'name\\': \\'Mark Thomas Henne\\', \\'profile_path\\': None}, {\\'credit_id\\': \\'589211f59251412dd4008e65\\', \\'department\\': \\'Visual Effects\\', \\'gender\\': 0, \\'id\\': 1748698, \\'job\\': \\'Visual Effects\\', \\'name\\': \\'Oren Jacob\\', \\'profile_path\\': None}, {\\'credit_id\\': \\'58921242c3a368096a00939b\\', \\'department\\': \\'Visual Effects\\', \\'gender\\': 0, \\'id\\': 1748699, \\'job\\': \\'Visual Effects\\', \\'name\\': \\'Darwyn Peachey\\', \\'profile_path\\': None}, {\\'credit_id\\': \\'5892124b9251412dc5009bd2\\', \\'department\\': \\'Visual Effects\\', \\'gender\\': 0, \\'id\\': 1748701, \\'job\\': \\'Visual Effects\\', \\'name\\': \\'Mitch Prater\\', \\'profile_path\\': None}, {\\'credit_id\\': \\'58921264c3a3686b0a004dbf\\', \\'department\\': \\'Visual Effects\\', \\'gender\\': 0, \\'id\\': 1748703, \\'job\\': \\'Visual Effects\\', \\'name\\': \\'Brian M. Rosen\\', \\'profile_path\\': None}, {\\'credit_id\\': \\'589212709251412dcd009676\\', \\'department\\': \\'Lighting\\', \\'gender\\': 1, \\'id\\': 12912, \\'job\\': \\'Lighting Supervisor\\', \\'name\\': \\'Sharon Calahan\\', \\'profile_path\\': None}, {\\'credit_id\\': \\'5892127fc3a3686b0a004de5\\', \\'department\\': \\'Lighting\\', \\'gender\\': 0, \\'id\\': 7899, \\'job\\': \\'Lighting Supervisor\\', \\'name\\': \\'Galyn Susman\\', \\'profile_path\\': None}, {\\'credit_id\\': \\'589212cdc3a3680970009268\\', \\'department\\': \\'Visual Effects\\', \\'gender\\': 0, \\'id\\': 12915, \\'job\\': \\'CG Painter\\', \\'name\\': \\'William Cone\\', \\'profile_path\\': None}, {\\'credit_id\\': \\'5892130f9251412dc8009791\\', \\'department\\': \\'Art\\', \\'gender\\': 0, \\'id\\': 1748705, \\'job\\': \\'Sculptor\\', \\'name\\': \\'Shelley Daniels Lekven\\', \\'profile_path\\': None}, {\\'credit_id\\': \\'5892131c9251412dd4008f4c\\', \\'department\\': \\'Visual Effects\\', \\'gender\\': 2, \\'id\\': 7889, \\'job\\': \\'Character Designer\\', \\'name\\': \\'Bob Pauley\\', \\'profile_path\\': None}, {\\'credit_id\\': \\'589213249251412dd100987b\\', \\'department\\': \\'Visual Effects\\', \\'gender\\': 2, \\'id\\': 7918, \\'job\\': \\'Character Designer\\', \\'name\\': \\'Bud Luckey\\', \\'profile_path\\': \\'/pcCh7G19FKMNijmPQg1PMH1btic.jpg\\'}, {\\'credit_id\\': \\'5892132b9251412dc80097b1\\', \\'department\\': \\'Visual Effects\\', \\'gender\\': 2, \\'id\\': 7, \\'job\\': \\'Character Designer\\', \\'name\\': \\'Andrew Stanton\\', \\'profile_path\\': \\'/pvQWsu0qc8JFQhMVJkTHuexUAa1.jpg\\'}, {\\'credit_id\\': \\'58921332c3a368634800467b\\', \\'department\\': \\'Visual Effects\\', \\'gender\\': 0, \\'id\\': 12915, \\'job\\': \\'Character Designer\\', \\'name\\': \\'William Cone\\', \\'profile_path\\': None}, {\\'credit_id\\': \\'5892135f9251412dd4008f90\\', \\'department\\': \\'Visual Effects\\', \\'gender\\': 0, \\'id\\': 1748706, \\'job\\': \\'Character Designer\\', \\'name\\': \\'Steve Johnson\\', \\'profile_path\\': None}, {\\'credit_id\\': \\'58921384c3a3680973008fd4\\', \\'department\\': \\'Visual Effects\\', \\'gender\\': 0, \\'id\\': 1176752, \\'job\\': \\'Character Designer\\', \\'name\\': \\'Dan Haskett\\', \\'profile_path\\': None}, {\\'credit_id\\': \\'5892138e9251412dc20099fc\\', \\'department\\': \\'Visual Effects\\', \\'gender\\': 0, \\'id\\': 1088034, \\'job\\': \\'Character Designer\\', \\'name\\': \\'Tom Holloway\\', \\'profile_path\\': \\'/a0r0T2usTBpgMI5aZbRBDW1fTl8.jpg\\'}, {\\'credit_id\\': \\'58921395c3a368097700942f\\', \\'department\\': \\'Visual Effects\\', \\'gender\\': 0, \\'id\\': 1447465, \\'job\\': \\'Character Designer\\', \\'name\\': \\'Jean Gillmore\\', \\'profile_path\\': None}, {\\'credit_id\\': \\'589213e2c3a3680973009026\\', \\'department\\': \\'Directing\\', \\'gender\\': 0, \\'id\\': 1748709, \\'job\\': \\'Layout\\', \\'name\\': \\'Desirée Mourad\\', \\'profile_path\\': None}, {\\'credit_id\\': \\'589214099251412dc5009d57\\', \\'department\\': \\'Art\\', \\'gender\\': 0, \\'id\\': 1748710, \\'job\\': \\'Set Dresser\\', \\'name\\': \"Kelly O\\'Connell\", \\'profile_path\\': None}, {\\'credit_id\\': \\'58921411c3a3686b0a004f70\\', \\'department\\': \\'Art\\', \\'gender\\': 0, \\'id\\': 1443471, \\'job\\': \\'Set Dresser\\', \\'name\\': \\'Sonoko Konishi\\', \\'profile_path\\': None}, {\\'credit_id\\': \\'58921434c3a368096a00956e\\', \\'department\\': \\'Art\\', \\'gender\\': 0, \\'id\\': 1748711, \\'job\\': \\'Set Dresser\\', \\'name\\': \\'Ann M. Rockwell\\', \\'profile_path\\': None}, {\\'credit_id\\': \\'5892144ac3a36809680090de\\', \\'department\\': \\'Editing\\', \\'gender\\': 0, \\'id\\': 1748712, \\'job\\': \\'Editorial Manager\\', \\'name\\': \\'Julie M. McDonald\\', \\'profile_path\\': None}, {\\'credit_id\\': \\'58921479c3a368096800910f\\', \\'department\\': \\'Editing\\', \\'gender\\': 0, \\'id\\': 1589729, \\'job\\': \\'Assistant Editor\\', \\'name\\': \\'Robin Lee\\', \\'profile_path\\': None}, {\\'credit_id\\': \\'5892148b9251412dd10099cc\\', \\'department\\': \\'Editing\\', \\'gender\\': 0, \\'id\\': 1748716, \\'job\\': \\'Assistant Editor\\', \\'name\\': \\'Tom Freeman\\', \\'profile_path\\': None}, {\\'credit_id\\': \\'589214959251412dcb009b1f\\', \\'department\\': \\'Editing\\', \\'gender\\': 0, \\'id\\': 1748717, \\'job\\': \\'Assistant Editor\\', \\'name\\': \\'Ada Cochavi\\', \\'profile_path\\': None}, {\\'credit_id\\': \\'5892149ec3a3686348004798\\', \\'department\\': \\'Editing\\', \\'gender\\': 0, \\'id\\': 1336438, \\'job\\': \\'Assistant Editor\\', \\'name\\': \\'Dana Mulligan\\', \\'profile_path\\': None}, {\\'credit_id\\': \\'589214adc3a368096a0095db\\', \\'department\\': \\'Editing\\', \\'gender\\': 0, \\'id\\': 1748718, \\'job\\': \\'Editorial Coordinator\\', \\'name\\': \\'Deirdre Morrison\\', \\'profile_path\\': None}, {\\'credit_id\\': \\'589214c7c3a368097700952b\\', \\'department\\': \\'Production\\', \\'gender\\': 0, \\'id\\': 1748719, \\'job\\': \\'Production Coordinator\\', \\'name\\': \\'Lori Lombardo\\', \\'profile_path\\': None}, {\\'credit_id\\': \\'589214cec3a368096a009603\\', \\'department\\': \\'Production\\', \\'gender\\': 0, \\'id\\': 1748720, \\'job\\': \\'Production Coordinator\\', \\'name\\': \\'Ellen Devine\\', \\'profile_path\\': None}, {\\'credit_id\\': \\'589214e39251412dc8009904\\', \\'department\\': \\'Crew\\', \\'gender\\': 0, \\'id\\': 1468014, \\'job\\': \\'Unit Publicist\\', \\'name\\': \\'Lauren Beth Strogoff\\', \\'profile_path\\': None}, {\\'credit_id\\': \\'58921544c3a3686b0a00507d\\', \\'department\\': \\'Sound\\', \\'gender\\': 2, \\'id\\': 2216, \\'job\\': \\'Sound Re-Recording Mixer\\', \\'name\\': \\'Gary Rydstrom\\', \\'profile_path\\': \\'/jZpr1nVfO7lldWI0YtmP1FGw7Rj.jpg\\'}, {\\'credit_id\\': \\'5892154c9251412dd1009a56\\', \\'department\\': \\'Sound\\', \\'gender\\': 0, \\'id\\': 1425978, \\'job\\': \\'Sound Re-Recording Mixer\\', \\'name\\': \\'Gary Summers\\', \\'profile_path\\': None}, {\\'credit_id\\': \\'58921555c3a36809680091bd\\', \\'department\\': \\'Sound\\', \\'gender\\': 2, \\'id\\': 8276, \\'job\\': \\'Supervising Sound Editor\\', \\'name\\': \\'Tim Holland\\', \\'profile_path\\': None}, {\\'credit_id\\': \\'589215c39251412dcb009c12\\', \\'department\\': \\'Sound\\', \\'gender\\': 0, \\'id\\': 7069, \\'job\\': \\'Sound Effects Editor\\', \\'name\\': \\'Pat Jackson\\', \\'profile_path\\': None}, {\\'credit_id\\': \\'58921698c3a368096a009788\\', \\'department\\': \\'Crew\\', \\'gender\\': 2, \\'id\\': 15894, \\'job\\': \\'Sound Design Assistant\\', \\'name\\': \\'Tom Myers\\', \\'profile_path\\': None}, {\\'credit_id\\': \\'589216a89251412dc2009ca4\\', \\'department\\': \\'Sound\\', \\'gender\\': 0, \\'id\\': 1414177, \\'job\\': \\'Assistant Sound Editor\\', \\'name\\': \\'J.R. Grubbs\\', \\'profile_path\\': None}, {\\'credit_id\\': \\'589216c19251412dc2009cb9\\', \\'department\\': \\'Sound\\', \\'gender\\': 1, \\'id\\': 1748724, \\'job\\': \\'Assistant Sound Editor\\', \\'name\\': \\'Susan Sanford\\', \\'profile_path\\': None}, {\\'credit_id\\': \\'589216ccc3a3680973009274\\', \\'department\\': \\'Sound\\', \\'gender\\': 0, \\'id\\': 1748725, \\'job\\': \\'Assistant Sound Editor\\', \\'name\\': \\'Susan Popovic\\', \\'profile_path\\': None}, {\\'credit_id\\': \\'589216d79251412dc8009aa0\\', \\'department\\': \\'Sound\\', \\'gender\\': 0, \\'id\\': 8067, \\'job\\': \\'Assistant Sound Editor\\', \\'name\\': \\'Dan Engstrom\\', \\'profile_path\\': None}, {\\'credit_id\\': \\'589216e49251412dcd009a4f\\', \\'department\\': \\'Production\\', \\'gender\\': 1, \\'id\\': 7902, \\'job\\': \\'Casting Consultant\\', \\'name\\': \\'Ruth Lambert\\', \\'profile_path\\': None}, {\\'credit_id\\': \\'589216f39251412dc2009cf3\\', \\'department\\': \\'Production\\', \\'gender\\': 0, \\'id\\': 84493, \\'job\\': \\'ADR Voice Casting\\', \\'name\\': \\'Mickie McGowan\\', \\'profile_path\\': \\'/k7TjJBfINsg8vLQxJwos6XObAD6.jpg\\'}]'"
      ]
     },
     "execution_count": 11,
     "metadata": {},
     "output_type": "execute_result"
    }
   ],
   "source": [
    "df_credits['crew'][0]"
   ]
  },
  {
   "cell_type": "code",
   "execution_count": 12,
   "id": "b4d2ee2d",
   "metadata": {
    "execution": {
     "iopub.execute_input": "2023-02-23T17:24:05.002495Z",
     "iopub.status.busy": "2023-02-23T17:24:05.001644Z",
     "iopub.status.idle": "2023-02-23T17:24:05.009372Z",
     "shell.execute_reply": "2023-02-23T17:24:05.008018Z"
    },
    "papermill": {
     "duration": 0.032794,
     "end_time": "2023-02-23T17:24:05.012145",
     "exception": false,
     "start_time": "2023-02-23T17:24:04.979351",
     "status": "completed"
    },
    "tags": []
   },
   "outputs": [
    {
     "data": {
      "text/plain": [
       "\"[{'credit_id': '52fe44bfc3a36847f80a7cd1', 'department': 'Production', 'gender': 2, 'id': 511, 'job': 'Executive Producer', 'name': 'Larry J. Franco', 'profile_path': None}, {'credit_id': '52fe44bfc3a36847f80a7c89', 'department': 'Writing', 'gender': 2, 'id': 876, 'job': 'Screenplay', 'name': 'Jonathan Hensleigh', 'profile_path': '/l1c4UFD3g0HVWj5f0CxXAvMAGiT.jpg'}, {'credit_id': '52fe44bfc3a36847f80a7cdd', 'department': 'Sound', 'gender': 2, 'id': 1729, 'job': 'Original Music Composer', 'name': 'James Horner', 'profile_path': '/oLOtXxXsYk8X4qq0ud4xVypXudi.jpg'}, {'credit_id': '52fe44bfc3a36847f80a7c7d', 'department': 'Directing', 'gender': 2, 'id': 4945, 'job': 'Director', 'name': 'Joe Johnston', 'profile_path': '/fok4jaO62v5IP6hkpaaAcXuw2H.jpg'}, {'credit_id': '52fe44bfc3a36847f80a7cd7', 'department': 'Editing', 'gender': 2, 'id': 4951, 'job': 'Editor', 'name': 'Robert Dalva', 'profile_path': None}, {'credit_id': '573523bec3a368025100062c', 'department': 'Production', 'gender': 0, 'id': 4952, 'job': 'Casting', 'name': 'Nancy Foy', 'profile_path': '/blCkmS4dqNsbPGuQfozHE6wgWBw.jpg'}, {'credit_id': '5722a924c3a3682d1e000b41', 'department': 'Visual Effects', 'gender': 0, 'id': 8023, 'job': 'Animation Supervisor', 'name': 'Kyle Balda', 'profile_path': '/jR8iAP6uC0V42KbUG87qBIUO3Hj.jpg'}, {'credit_id': '52fe44c0c3a36847f80a7ce3', 'department': 'Art', 'gender': 2, 'id': 9967, 'job': 'Production Design', 'name': 'James D. Bissell', 'profile_path': None}, {'credit_id': '52fe44bfc3a36847f80a7cb9', 'department': 'Production', 'gender': 2, 'id': 9184, 'job': 'Producer', 'name': 'Scott Kroopf', 'profile_path': None}, {'credit_id': '52fe44bfc3a36847f80a7ccb', 'department': 'Production', 'gender': 2, 'id': 9196, 'job': 'Executive Producer', 'name': 'Ted Field', 'profile_path': '/qmB7sZcgRUq7mRFBSTlSsVXh7sH.jpg'}, {'credit_id': '52fe44bfc3a36847f80a7cc5', 'department': 'Production', 'gender': 2, 'id': 18389, 'job': 'Executive Producer', 'name': 'Robert W. Cort', 'profile_path': None}, {'credit_id': '52fe44bfc3a36847f80a7cbf', 'department': 'Camera', 'gender': 2, 'id': 11371, 'job': 'Director of Photography', 'name': 'Thomas E. Ackerman', 'profile_path': '/xFDbxk53icM1ofL4iCIwB4GkUxN.jpg'}, {'credit_id': '52fe44bfc3a36847f80a7c83', 'department': 'Writing', 'gender': 2, 'id': 42356, 'job': 'Novel', 'name': 'Chris van Allsburg', 'profile_path': None}, {'credit_id': '52fe44bfc3a36847f80a7cb3', 'department': 'Production', 'gender': 2, 'id': 42357, 'job': 'Producer', 'name': 'William Teitler', 'profile_path': None}, {'credit_id': '52fe44bfc3a36847f80a7c8f', 'department': 'Writing', 'gender': 2, 'id': 56520, 'job': 'Screenplay', 'name': 'Greg Taylor', 'profile_path': None}, {'credit_id': '52fe44bfc3a36847f80a7c95', 'department': 'Writing', 'gender': 2, 'id': 56521, 'job': 'Screenplay', 'name': 'Jim Strain', 'profile_path': None}]\""
      ]
     },
     "execution_count": 12,
     "metadata": {},
     "output_type": "execute_result"
    }
   ],
   "source": [
    "df_credits['crew'][1]"
   ]
  },
  {
   "cell_type": "code",
   "execution_count": 13,
   "id": "b0f2ffaa",
   "metadata": {
    "execution": {
     "iopub.execute_input": "2023-02-23T17:24:05.057157Z",
     "iopub.status.busy": "2023-02-23T17:24:05.055880Z",
     "iopub.status.idle": "2023-02-23T17:24:05.062985Z",
     "shell.execute_reply": "2023-02-23T17:24:05.061704Z"
    },
    "papermill": {
     "duration": 0.032439,
     "end_time": "2023-02-23T17:24:05.065891",
     "exception": false,
     "start_time": "2023-02-23T17:24:05.033452",
     "status": "completed"
    },
    "tags": []
   },
   "outputs": [],
   "source": [
    "#Extracting director from crew\n",
    "def convert_dir(obj):\n",
    "    L=[]\n",
    "    for i in ast.literal_eval(obj):\n",
    "        if i['job']=='Director':\n",
    "            L.append(i['name'])\n",
    "        else:\n",
    "            continue\n",
    "    return L"
   ]
  },
  {
   "cell_type": "code",
   "execution_count": 14,
   "id": "0a8d5fae",
   "metadata": {
    "execution": {
     "iopub.execute_input": "2023-02-23T17:24:05.110276Z",
     "iopub.status.busy": "2023-02-23T17:24:05.109810Z",
     "iopub.status.idle": "2023-02-23T17:24:20.848130Z",
     "shell.execute_reply": "2023-02-23T17:24:20.845565Z"
    },
    "papermill": {
     "duration": 15.764505,
     "end_time": "2023-02-23T17:24:20.851705",
     "exception": false,
     "start_time": "2023-02-23T17:24:05.087200",
     "status": "completed"
    },
    "tags": []
   },
   "outputs": [],
   "source": [
    "df_credits['director']=df_credits['crew'].apply(convert_dir)"
   ]
  },
  {
   "cell_type": "code",
   "execution_count": 15,
   "id": "febb6fa3",
   "metadata": {
    "execution": {
     "iopub.execute_input": "2023-02-23T17:24:20.905680Z",
     "iopub.status.busy": "2023-02-23T17:24:20.905189Z",
     "iopub.status.idle": "2023-02-23T17:24:20.923824Z",
     "shell.execute_reply": "2023-02-23T17:24:20.922143Z"
    },
    "papermill": {
     "duration": 0.052626,
     "end_time": "2023-02-23T17:24:20.929700",
     "exception": false,
     "start_time": "2023-02-23T17:24:20.877074",
     "status": "completed"
    },
    "tags": []
   },
   "outputs": [
    {
     "data": {
      "text/html": [
       "<div>\n",
       "<style scoped>\n",
       "    .dataframe tbody tr th:only-of-type {\n",
       "        vertical-align: middle;\n",
       "    }\n",
       "\n",
       "    .dataframe tbody tr th {\n",
       "        vertical-align: top;\n",
       "    }\n",
       "\n",
       "    .dataframe thead th {\n",
       "        text-align: right;\n",
       "    }\n",
       "</style>\n",
       "<table border=\"1\" class=\"dataframe\">\n",
       "  <thead>\n",
       "    <tr style=\"text-align: right;\">\n",
       "      <th></th>\n",
       "      <th>cast</th>\n",
       "      <th>crew</th>\n",
       "      <th>id</th>\n",
       "      <th>director</th>\n",
       "    </tr>\n",
       "  </thead>\n",
       "  <tbody>\n",
       "    <tr>\n",
       "      <th>0</th>\n",
       "      <td>[Tom Hanks, Tim Allen, Don Rickles]</td>\n",
       "      <td>[{'credit_id': '52fe4284c3a36847f8024f49', 'de...</td>\n",
       "      <td>862</td>\n",
       "      <td>[John Lasseter]</td>\n",
       "    </tr>\n",
       "    <tr>\n",
       "      <th>1</th>\n",
       "      <td>[Robin Williams, Jonathan Hyde, Kirsten Dunst]</td>\n",
       "      <td>[{'credit_id': '52fe44bfc3a36847f80a7cd1', 'de...</td>\n",
       "      <td>8844</td>\n",
       "      <td>[Joe Johnston]</td>\n",
       "    </tr>\n",
       "    <tr>\n",
       "      <th>2</th>\n",
       "      <td>[Walter Matthau, Jack Lemmon, Ann-Margret]</td>\n",
       "      <td>[{'credit_id': '52fe466a9251416c75077a89', 'de...</td>\n",
       "      <td>15602</td>\n",
       "      <td>[Howard Deutch]</td>\n",
       "    </tr>\n",
       "  </tbody>\n",
       "</table>\n",
       "</div>"
      ],
      "text/plain": [
       "                                             cast  \\\n",
       "0             [Tom Hanks, Tim Allen, Don Rickles]   \n",
       "1  [Robin Williams, Jonathan Hyde, Kirsten Dunst]   \n",
       "2      [Walter Matthau, Jack Lemmon, Ann-Margret]   \n",
       "\n",
       "                                                crew     id         director  \n",
       "0  [{'credit_id': '52fe4284c3a36847f8024f49', 'de...    862  [John Lasseter]  \n",
       "1  [{'credit_id': '52fe44bfc3a36847f80a7cd1', 'de...   8844   [Joe Johnston]  \n",
       "2  [{'credit_id': '52fe466a9251416c75077a89', 'de...  15602  [Howard Deutch]  "
      ]
     },
     "execution_count": 15,
     "metadata": {},
     "output_type": "execute_result"
    }
   ],
   "source": [
    "df_credits.head(3)"
   ]
  },
  {
   "cell_type": "code",
   "execution_count": 16,
   "id": "d66a786c",
   "metadata": {
    "execution": {
     "iopub.execute_input": "2023-02-23T17:24:20.993036Z",
     "iopub.status.busy": "2023-02-23T17:24:20.992283Z",
     "iopub.status.idle": "2023-02-23T17:24:21.035957Z",
     "shell.execute_reply": "2023-02-23T17:24:21.034462Z"
    },
    "papermill": {
     "duration": 0.079546,
     "end_time": "2023-02-23T17:24:21.039032",
     "exception": false,
     "start_time": "2023-02-23T17:24:20.959486",
     "status": "completed"
    },
    "tags": []
   },
   "outputs": [
    {
     "data": {
      "text/html": [
       "<div>\n",
       "<style scoped>\n",
       "    .dataframe tbody tr th:only-of-type {\n",
       "        vertical-align: middle;\n",
       "    }\n",
       "\n",
       "    .dataframe tbody tr th {\n",
       "        vertical-align: top;\n",
       "    }\n",
       "\n",
       "    .dataframe thead th {\n",
       "        text-align: right;\n",
       "    }\n",
       "</style>\n",
       "<table border=\"1\" class=\"dataframe\">\n",
       "  <thead>\n",
       "    <tr style=\"text-align: right;\">\n",
       "      <th></th>\n",
       "      <th>id</th>\n",
       "      <th>director</th>\n",
       "      <th>cast</th>\n",
       "    </tr>\n",
       "  </thead>\n",
       "  <tbody>\n",
       "    <tr>\n",
       "      <th>0</th>\n",
       "      <td>862</td>\n",
       "      <td>[John Lasseter]</td>\n",
       "      <td>[Tom Hanks, Tim Allen, Don Rickles]</td>\n",
       "    </tr>\n",
       "    <tr>\n",
       "      <th>1</th>\n",
       "      <td>8844</td>\n",
       "      <td>[Joe Johnston]</td>\n",
       "      <td>[Robin Williams, Jonathan Hyde, Kirsten Dunst]</td>\n",
       "    </tr>\n",
       "  </tbody>\n",
       "</table>\n",
       "</div>"
      ],
      "text/plain": [
       "     id         director                                            cast\n",
       "0   862  [John Lasseter]             [Tom Hanks, Tim Allen, Don Rickles]\n",
       "1  8844   [Joe Johnston]  [Robin Williams, Jonathan Hyde, Kirsten Dunst]"
      ]
     },
     "execution_count": 16,
     "metadata": {},
     "output_type": "execute_result"
    }
   ],
   "source": [
    "df_credits=df_credits[['id','director','cast']]\n",
    "df_credits.head(2)"
   ]
  },
  {
   "cell_type": "code",
   "execution_count": 17,
   "id": "32a055a8",
   "metadata": {
    "execution": {
     "iopub.execute_input": "2023-02-23T17:24:21.086447Z",
     "iopub.status.busy": "2023-02-23T17:24:21.086020Z",
     "iopub.status.idle": "2023-02-23T17:24:21.106333Z",
     "shell.execute_reply": "2023-02-23T17:24:21.104476Z"
    },
    "papermill": {
     "duration": 0.048939,
     "end_time": "2023-02-23T17:24:21.110446",
     "exception": false,
     "start_time": "2023-02-23T17:24:21.061507",
     "status": "completed"
    },
    "tags": []
   },
   "outputs": [
    {
     "data": {
      "text/plain": [
       "id          0\n",
       "director    0\n",
       "cast        0\n",
       "dtype: int64"
      ]
     },
     "execution_count": 17,
     "metadata": {},
     "output_type": "execute_result"
    }
   ],
   "source": [
    "df_credits.isnull().sum()"
   ]
  },
  {
   "cell_type": "code",
   "execution_count": 18,
   "id": "52d2b069",
   "metadata": {
    "execution": {
     "iopub.execute_input": "2023-02-23T17:24:21.162457Z",
     "iopub.status.busy": "2023-02-23T17:24:21.161753Z",
     "iopub.status.idle": "2023-02-23T17:24:21.174439Z",
     "shell.execute_reply": "2023-02-23T17:24:21.173029Z"
    },
    "papermill": {
     "duration": 0.042612,
     "end_time": "2023-02-23T17:24:21.177166",
     "exception": false,
     "start_time": "2023-02-23T17:24:21.134554",
     "status": "completed"
    },
    "tags": []
   },
   "outputs": [
    {
     "data": {
      "text/html": [
       "<div>\n",
       "<style scoped>\n",
       "    .dataframe tbody tr th:only-of-type {\n",
       "        vertical-align: middle;\n",
       "    }\n",
       "\n",
       "    .dataframe tbody tr th {\n",
       "        vertical-align: top;\n",
       "    }\n",
       "\n",
       "    .dataframe thead th {\n",
       "        text-align: right;\n",
       "    }\n",
       "</style>\n",
       "<table border=\"1\" class=\"dataframe\">\n",
       "  <thead>\n",
       "    <tr style=\"text-align: right;\">\n",
       "      <th></th>\n",
       "      <th>id</th>\n",
       "      <th>keywords</th>\n",
       "    </tr>\n",
       "  </thead>\n",
       "  <tbody>\n",
       "    <tr>\n",
       "      <th>0</th>\n",
       "      <td>862</td>\n",
       "      <td>[{'id': 931, 'name': 'jealousy'}, {'id': 4290,...</td>\n",
       "    </tr>\n",
       "    <tr>\n",
       "      <th>1</th>\n",
       "      <td>8844</td>\n",
       "      <td>[{'id': 10090, 'name': 'board game'}, {'id': 1...</td>\n",
       "    </tr>\n",
       "    <tr>\n",
       "      <th>2</th>\n",
       "      <td>15602</td>\n",
       "      <td>[{'id': 1495, 'name': 'fishing'}, {'id': 12392...</td>\n",
       "    </tr>\n",
       "  </tbody>\n",
       "</table>\n",
       "</div>"
      ],
      "text/plain": [
       "      id                                           keywords\n",
       "0    862  [{'id': 931, 'name': 'jealousy'}, {'id': 4290,...\n",
       "1   8844  [{'id': 10090, 'name': 'board game'}, {'id': 1...\n",
       "2  15602  [{'id': 1495, 'name': 'fishing'}, {'id': 12392..."
      ]
     },
     "execution_count": 18,
     "metadata": {},
     "output_type": "execute_result"
    }
   ],
   "source": [
    "df_keywords.head(3)"
   ]
  },
  {
   "cell_type": "code",
   "execution_count": 19,
   "id": "ecf21702",
   "metadata": {
    "execution": {
     "iopub.execute_input": "2023-02-23T17:24:21.224691Z",
     "iopub.status.busy": "2023-02-23T17:24:21.224225Z",
     "iopub.status.idle": "2023-02-23T17:24:21.233727Z",
     "shell.execute_reply": "2023-02-23T17:24:21.232461Z"
    },
    "papermill": {
     "duration": 0.036268,
     "end_time": "2023-02-23T17:24:21.237370",
     "exception": false,
     "start_time": "2023-02-23T17:24:21.201102",
     "status": "completed"
    },
    "tags": []
   },
   "outputs": [
    {
     "data": {
      "text/plain": [
       "\"[{'id': 931, 'name': 'jealousy'}, {'id': 4290, 'name': 'toy'}, {'id': 5202, 'name': 'boy'}, {'id': 6054, 'name': 'friendship'}, {'id': 9713, 'name': 'friends'}, {'id': 9823, 'name': 'rivalry'}, {'id': 165503, 'name': 'boy next door'}, {'id': 170722, 'name': 'new toy'}, {'id': 187065, 'name': 'toy comes to life'}]\""
      ]
     },
     "execution_count": 19,
     "metadata": {},
     "output_type": "execute_result"
    }
   ],
   "source": [
    "df_keywords['keywords'][0]"
   ]
  },
  {
   "cell_type": "code",
   "execution_count": 20,
   "id": "67d62563",
   "metadata": {
    "execution": {
     "iopub.execute_input": "2023-02-23T17:24:21.285884Z",
     "iopub.status.busy": "2023-02-23T17:24:21.285441Z",
     "iopub.status.idle": "2023-02-23T17:24:21.291365Z",
     "shell.execute_reply": "2023-02-23T17:24:21.289954Z"
    },
    "papermill": {
     "duration": 0.034027,
     "end_time": "2023-02-23T17:24:21.294285",
     "exception": false,
     "start_time": "2023-02-23T17:24:21.260258",
     "status": "completed"
    },
    "tags": []
   },
   "outputs": [],
   "source": [
    "def convert(obj):\n",
    "    L=[]\n",
    "    for i in ast.literal_eval(obj):\n",
    "        L.append(i['name'])\n",
    "    return L"
   ]
  },
  {
   "cell_type": "code",
   "execution_count": 21,
   "id": "1a3c3b46",
   "metadata": {
    "execution": {
     "iopub.execute_input": "2023-02-23T17:24:21.342201Z",
     "iopub.status.busy": "2023-02-23T17:24:21.341762Z",
     "iopub.status.idle": "2023-02-23T17:24:23.575087Z",
     "shell.execute_reply": "2023-02-23T17:24:23.573524Z"
    },
    "papermill": {
     "duration": 2.261082,
     "end_time": "2023-02-23T17:24:23.577866",
     "exception": false,
     "start_time": "2023-02-23T17:24:21.316784",
     "status": "completed"
    },
    "tags": []
   },
   "outputs": [],
   "source": [
    "df_keywords['keywords']=df_keywords['keywords'].apply(convert)"
   ]
  },
  {
   "cell_type": "code",
   "execution_count": 22,
   "id": "689841ce",
   "metadata": {
    "execution": {
     "iopub.execute_input": "2023-02-23T17:24:23.628334Z",
     "iopub.status.busy": "2023-02-23T17:24:23.627877Z",
     "iopub.status.idle": "2023-02-23T17:24:23.643481Z",
     "shell.execute_reply": "2023-02-23T17:24:23.642008Z"
    },
    "papermill": {
     "duration": 0.045793,
     "end_time": "2023-02-23T17:24:23.646632",
     "exception": false,
     "start_time": "2023-02-23T17:24:23.600839",
     "status": "completed"
    },
    "tags": []
   },
   "outputs": [
    {
     "data": {
      "text/plain": [
       "id          0\n",
       "keywords    0\n",
       "dtype: int64"
      ]
     },
     "execution_count": 22,
     "metadata": {},
     "output_type": "execute_result"
    }
   ],
   "source": [
    "df_keywords.isnull().sum()"
   ]
  },
  {
   "cell_type": "code",
   "execution_count": 23,
   "id": "768a31b3",
   "metadata": {
    "execution": {
     "iopub.execute_input": "2023-02-23T17:24:23.700059Z",
     "iopub.status.busy": "2023-02-23T17:24:23.699291Z",
     "iopub.status.idle": "2023-02-23T17:24:23.731829Z",
     "shell.execute_reply": "2023-02-23T17:24:23.730219Z"
    },
    "papermill": {
     "duration": 0.062049,
     "end_time": "2023-02-23T17:24:23.734794",
     "exception": false,
     "start_time": "2023-02-23T17:24:23.672745",
     "status": "completed"
    },
    "tags": []
   },
   "outputs": [
    {
     "data": {
      "text/html": [
       "<div>\n",
       "<style scoped>\n",
       "    .dataframe tbody tr th:only-of-type {\n",
       "        vertical-align: middle;\n",
       "    }\n",
       "\n",
       "    .dataframe tbody tr th {\n",
       "        vertical-align: top;\n",
       "    }\n",
       "\n",
       "    .dataframe thead th {\n",
       "        text-align: right;\n",
       "    }\n",
       "</style>\n",
       "<table border=\"1\" class=\"dataframe\">\n",
       "  <thead>\n",
       "    <tr style=\"text-align: right;\">\n",
       "      <th></th>\n",
       "      <th>adult</th>\n",
       "      <th>belongs_to_collection</th>\n",
       "      <th>budget</th>\n",
       "      <th>genres</th>\n",
       "      <th>homepage</th>\n",
       "      <th>id</th>\n",
       "      <th>imdb_id</th>\n",
       "      <th>original_language</th>\n",
       "      <th>original_title</th>\n",
       "      <th>overview</th>\n",
       "      <th>popularity</th>\n",
       "      <th>poster_path</th>\n",
       "      <th>production_companies</th>\n",
       "      <th>production_countries</th>\n",
       "      <th>release_date</th>\n",
       "      <th>revenue</th>\n",
       "      <th>runtime</th>\n",
       "      <th>spoken_languages</th>\n",
       "      <th>status</th>\n",
       "      <th>tagline</th>\n",
       "      <th>title</th>\n",
       "      <th>video</th>\n",
       "      <th>vote_average</th>\n",
       "      <th>vote_count</th>\n",
       "    </tr>\n",
       "  </thead>\n",
       "  <tbody>\n",
       "    <tr>\n",
       "      <th>0</th>\n",
       "      <td>False</td>\n",
       "      <td>{'id': 10194, 'name': 'Toy Story Collection', ...</td>\n",
       "      <td>30000000</td>\n",
       "      <td>[{'id': 16, 'name': 'Animation'}, {'id': 35, '...</td>\n",
       "      <td>http://toystory.disney.com/toy-story</td>\n",
       "      <td>862</td>\n",
       "      <td>tt0114709</td>\n",
       "      <td>en</td>\n",
       "      <td>Toy Story</td>\n",
       "      <td>Led by Woody, Andy's toys live happily in his ...</td>\n",
       "      <td>21.946943</td>\n",
       "      <td>/rhIRbceoE9lR4veEXuwCC2wARtG.jpg</td>\n",
       "      <td>[{'name': 'Pixar Animation Studios', 'id': 3}]</td>\n",
       "      <td>[{'iso_3166_1': 'US', 'name': 'United States o...</td>\n",
       "      <td>1995-10-30</td>\n",
       "      <td>373554033.0</td>\n",
       "      <td>81.0</td>\n",
       "      <td>[{'iso_639_1': 'en', 'name': 'English'}]</td>\n",
       "      <td>Released</td>\n",
       "      <td>NaN</td>\n",
       "      <td>Toy Story</td>\n",
       "      <td>False</td>\n",
       "      <td>7.7</td>\n",
       "      <td>5415.0</td>\n",
       "    </tr>\n",
       "    <tr>\n",
       "      <th>1</th>\n",
       "      <td>False</td>\n",
       "      <td>NaN</td>\n",
       "      <td>65000000</td>\n",
       "      <td>[{'id': 12, 'name': 'Adventure'}, {'id': 14, '...</td>\n",
       "      <td>NaN</td>\n",
       "      <td>8844</td>\n",
       "      <td>tt0113497</td>\n",
       "      <td>en</td>\n",
       "      <td>Jumanji</td>\n",
       "      <td>When siblings Judy and Peter discover an encha...</td>\n",
       "      <td>17.015539</td>\n",
       "      <td>/vzmL6fP7aPKNKPRTFnZmiUfciyV.jpg</td>\n",
       "      <td>[{'name': 'TriStar Pictures', 'id': 559}, {'na...</td>\n",
       "      <td>[{'iso_3166_1': 'US', 'name': 'United States o...</td>\n",
       "      <td>1995-12-15</td>\n",
       "      <td>262797249.0</td>\n",
       "      <td>104.0</td>\n",
       "      <td>[{'iso_639_1': 'en', 'name': 'English'}, {'iso...</td>\n",
       "      <td>Released</td>\n",
       "      <td>Roll the dice and unleash the excitement!</td>\n",
       "      <td>Jumanji</td>\n",
       "      <td>False</td>\n",
       "      <td>6.9</td>\n",
       "      <td>2413.0</td>\n",
       "    </tr>\n",
       "  </tbody>\n",
       "</table>\n",
       "</div>"
      ],
      "text/plain": [
       "   adult                              belongs_to_collection    budget  \\\n",
       "0  False  {'id': 10194, 'name': 'Toy Story Collection', ...  30000000   \n",
       "1  False                                                NaN  65000000   \n",
       "\n",
       "                                              genres  \\\n",
       "0  [{'id': 16, 'name': 'Animation'}, {'id': 35, '...   \n",
       "1  [{'id': 12, 'name': 'Adventure'}, {'id': 14, '...   \n",
       "\n",
       "                               homepage    id    imdb_id original_language  \\\n",
       "0  http://toystory.disney.com/toy-story   862  tt0114709                en   \n",
       "1                                   NaN  8844  tt0113497                en   \n",
       "\n",
       "  original_title                                           overview  \\\n",
       "0      Toy Story  Led by Woody, Andy's toys live happily in his ...   \n",
       "1        Jumanji  When siblings Judy and Peter discover an encha...   \n",
       "\n",
       "  popularity                       poster_path  \\\n",
       "0  21.946943  /rhIRbceoE9lR4veEXuwCC2wARtG.jpg   \n",
       "1  17.015539  /vzmL6fP7aPKNKPRTFnZmiUfciyV.jpg   \n",
       "\n",
       "                                production_companies  \\\n",
       "0     [{'name': 'Pixar Animation Studios', 'id': 3}]   \n",
       "1  [{'name': 'TriStar Pictures', 'id': 559}, {'na...   \n",
       "\n",
       "                                production_countries release_date  \\\n",
       "0  [{'iso_3166_1': 'US', 'name': 'United States o...   1995-10-30   \n",
       "1  [{'iso_3166_1': 'US', 'name': 'United States o...   1995-12-15   \n",
       "\n",
       "       revenue  runtime                                   spoken_languages  \\\n",
       "0  373554033.0     81.0           [{'iso_639_1': 'en', 'name': 'English'}]   \n",
       "1  262797249.0    104.0  [{'iso_639_1': 'en', 'name': 'English'}, {'iso...   \n",
       "\n",
       "     status                                    tagline      title  video  \\\n",
       "0  Released                                        NaN  Toy Story  False   \n",
       "1  Released  Roll the dice and unleash the excitement!    Jumanji  False   \n",
       "\n",
       "   vote_average  vote_count  \n",
       "0           7.7      5415.0  \n",
       "1           6.9      2413.0  "
      ]
     },
     "execution_count": 23,
     "metadata": {},
     "output_type": "execute_result"
    }
   ],
   "source": [
    "df_movies.head(2)"
   ]
  },
  {
   "cell_type": "code",
   "execution_count": 24,
   "id": "7b0fe892",
   "metadata": {
    "execution": {
     "iopub.execute_input": "2023-02-23T17:24:23.791867Z",
     "iopub.status.busy": "2023-02-23T17:24:23.791403Z",
     "iopub.status.idle": "2023-02-23T17:24:23.803575Z",
     "shell.execute_reply": "2023-02-23T17:24:23.801835Z"
    },
    "papermill": {
     "duration": 0.045938,
     "end_time": "2023-02-23T17:24:23.808527",
     "exception": false,
     "start_time": "2023-02-23T17:24:23.762589",
     "status": "completed"
    },
    "tags": []
   },
   "outputs": [
    {
     "data": {
      "text/plain": [
       "adult                     object\n",
       "belongs_to_collection     object\n",
       "budget                    object\n",
       "genres                    object\n",
       "homepage                  object\n",
       "id                        object\n",
       "imdb_id                   object\n",
       "original_language         object\n",
       "original_title            object\n",
       "overview                  object\n",
       "popularity                object\n",
       "poster_path               object\n",
       "production_companies      object\n",
       "production_countries      object\n",
       "release_date              object\n",
       "revenue                  float64\n",
       "runtime                  float64\n",
       "spoken_languages          object\n",
       "status                    object\n",
       "tagline                   object\n",
       "title                     object\n",
       "video                     object\n",
       "vote_average             float64\n",
       "vote_count               float64\n",
       "dtype: object"
      ]
     },
     "execution_count": 24,
     "metadata": {},
     "output_type": "execute_result"
    }
   ],
   "source": [
    "df_movies.dtypes"
   ]
  },
  {
   "cell_type": "code",
   "execution_count": 25,
   "id": "885ef2fc",
   "metadata": {
    "execution": {
     "iopub.execute_input": "2023-02-23T17:24:23.861938Z",
     "iopub.status.busy": "2023-02-23T17:24:23.861395Z",
     "iopub.status.idle": "2023-02-23T17:24:23.921728Z",
     "shell.execute_reply": "2023-02-23T17:24:23.920430Z"
    },
    "papermill": {
     "duration": 0.090749,
     "end_time": "2023-02-23T17:24:23.924865",
     "exception": false,
     "start_time": "2023-02-23T17:24:23.834116",
     "status": "completed"
    },
    "tags": []
   },
   "outputs": [
    {
     "data": {
      "text/plain": [
       "adult                        0\n",
       "belongs_to_collection    40972\n",
       "budget                       0\n",
       "genres                       0\n",
       "homepage                 37684\n",
       "id                           0\n",
       "imdb_id                     17\n",
       "original_language           11\n",
       "original_title               0\n",
       "overview                   954\n",
       "popularity                   5\n",
       "poster_path                386\n",
       "production_companies         3\n",
       "production_countries         3\n",
       "release_date                87\n",
       "revenue                      6\n",
       "runtime                    263\n",
       "spoken_languages             6\n",
       "status                      87\n",
       "tagline                  25054\n",
       "title                        6\n",
       "video                        6\n",
       "vote_average                 6\n",
       "vote_count                   6\n",
       "dtype: int64"
      ]
     },
     "execution_count": 25,
     "metadata": {},
     "output_type": "execute_result"
    }
   ],
   "source": [
    "df_movies.isnull().sum()"
   ]
  },
  {
   "cell_type": "code",
   "execution_count": 26,
   "id": "6475bf21",
   "metadata": {
    "execution": {
     "iopub.execute_input": "2023-02-23T17:24:23.973113Z",
     "iopub.status.busy": "2023-02-23T17:24:23.972663Z",
     "iopub.status.idle": "2023-02-23T17:24:23.981548Z",
     "shell.execute_reply": "2023-02-23T17:24:23.980160Z"
    },
    "papermill": {
     "duration": 0.036335,
     "end_time": "2023-02-23T17:24:23.984077",
     "exception": false,
     "start_time": "2023-02-23T17:24:23.947742",
     "status": "completed"
    },
    "tags": []
   },
   "outputs": [
    {
     "data": {
      "text/plain": [
       "6"
      ]
     },
     "execution_count": 26,
     "metadata": {},
     "output_type": "execute_result"
    }
   ],
   "source": [
    "df_movies['revenue'].isnull().sum()"
   ]
  },
  {
   "cell_type": "code",
   "execution_count": 27,
   "id": "bb0416ed",
   "metadata": {
    "execution": {
     "iopub.execute_input": "2023-02-23T17:24:24.032565Z",
     "iopub.status.busy": "2023-02-23T17:24:24.032168Z",
     "iopub.status.idle": "2023-02-23T17:24:24.063413Z",
     "shell.execute_reply": "2023-02-23T17:24:24.062097Z"
    },
    "papermill": {
     "duration": 0.058861,
     "end_time": "2023-02-23T17:24:24.066534",
     "exception": false,
     "start_time": "2023-02-23T17:24:24.007673",
     "status": "completed"
    },
    "tags": []
   },
   "outputs": [
    {
     "data": {
      "text/html": [
       "<div>\n",
       "<style scoped>\n",
       "    .dataframe tbody tr th:only-of-type {\n",
       "        vertical-align: middle;\n",
       "    }\n",
       "\n",
       "    .dataframe tbody tr th {\n",
       "        vertical-align: top;\n",
       "    }\n",
       "\n",
       "    .dataframe thead th {\n",
       "        text-align: right;\n",
       "    }\n",
       "</style>\n",
       "<table border=\"1\" class=\"dataframe\">\n",
       "  <thead>\n",
       "    <tr style=\"text-align: right;\">\n",
       "      <th></th>\n",
       "      <th>adult</th>\n",
       "      <th>belongs_to_collection</th>\n",
       "      <th>budget</th>\n",
       "      <th>genres</th>\n",
       "      <th>homepage</th>\n",
       "      <th>id</th>\n",
       "      <th>imdb_id</th>\n",
       "      <th>original_language</th>\n",
       "      <th>original_title</th>\n",
       "      <th>overview</th>\n",
       "      <th>popularity</th>\n",
       "      <th>poster_path</th>\n",
       "      <th>production_companies</th>\n",
       "      <th>production_countries</th>\n",
       "      <th>release_date</th>\n",
       "      <th>revenue</th>\n",
       "      <th>runtime</th>\n",
       "      <th>spoken_languages</th>\n",
       "      <th>status</th>\n",
       "      <th>tagline</th>\n",
       "      <th>title</th>\n",
       "      <th>video</th>\n",
       "      <th>vote_average</th>\n",
       "      <th>vote_count</th>\n",
       "    </tr>\n",
       "  </thead>\n",
       "  <tbody>\n",
       "    <tr>\n",
       "      <th>19729</th>\n",
       "      <td>False</td>\n",
       "      <td>NaN</td>\n",
       "      <td>0</td>\n",
       "      <td>[{'id': 28, 'name': 'Action'}, {'id': 53, 'nam...</td>\n",
       "      <td>NaN</td>\n",
       "      <td>82663</td>\n",
       "      <td>tt0113002</td>\n",
       "      <td>en</td>\n",
       "      <td>Midnight Man</td>\n",
       "      <td>British soldiers force a recently captured IRA...</td>\n",
       "      <td>NaN</td>\n",
       "      <td>NaN</td>\n",
       "      <td>NaN</td>\n",
       "      <td>NaN</td>\n",
       "      <td>NaN</td>\n",
       "      <td>NaN</td>\n",
       "      <td>NaN</td>\n",
       "      <td>NaN</td>\n",
       "      <td>NaN</td>\n",
       "      <td>NaN</td>\n",
       "      <td>NaN</td>\n",
       "      <td>NaN</td>\n",
       "      <td>NaN</td>\n",
       "      <td>NaN</td>\n",
       "    </tr>\n",
       "    <tr>\n",
       "      <th>19730</th>\n",
       "      <td>- Written by Ørnås</td>\n",
       "      <td>0.065736</td>\n",
       "      <td>/ff9qCepilowshEtG2GYWwzt2bs4.jpg</td>\n",
       "      <td>[{'name': 'Carousel Productions', 'id': 11176}...</td>\n",
       "      <td>[{'iso_3166_1': 'CA', 'name': 'Canada'}, {'iso...</td>\n",
       "      <td>1997-08-20</td>\n",
       "      <td>0</td>\n",
       "      <td>104.0</td>\n",
       "      <td>[{'iso_639_1': 'en', 'name': 'English'}]</td>\n",
       "      <td>Released</td>\n",
       "      <td>NaN</td>\n",
       "      <td>Midnight Man</td>\n",
       "      <td>False</td>\n",
       "      <td>6.0</td>\n",
       "      <td>1</td>\n",
       "      <td>NaN</td>\n",
       "      <td>NaN</td>\n",
       "      <td>NaN</td>\n",
       "      <td>NaN</td>\n",
       "      <td>NaN</td>\n",
       "      <td>NaN</td>\n",
       "      <td>NaN</td>\n",
       "      <td>NaN</td>\n",
       "      <td>NaN</td>\n",
       "    </tr>\n",
       "    <tr>\n",
       "      <th>29502</th>\n",
       "      <td>False</td>\n",
       "      <td>{'id': 122661, 'name': 'Mardock Scramble Colle...</td>\n",
       "      <td>0</td>\n",
       "      <td>[{'id': 16, 'name': 'Animation'}, {'id': 878, ...</td>\n",
       "      <td>http://m-scramble.jp/exhaust/</td>\n",
       "      <td>122662</td>\n",
       "      <td>tt2423504</td>\n",
       "      <td>ja</td>\n",
       "      <td>マルドゥック・スクランブル 排気</td>\n",
       "      <td>Third film of the Mardock Scramble series.</td>\n",
       "      <td>NaN</td>\n",
       "      <td>NaN</td>\n",
       "      <td>NaN</td>\n",
       "      <td>NaN</td>\n",
       "      <td>NaN</td>\n",
       "      <td>NaN</td>\n",
       "      <td>NaN</td>\n",
       "      <td>NaN</td>\n",
       "      <td>NaN</td>\n",
       "      <td>NaN</td>\n",
       "      <td>NaN</td>\n",
       "      <td>NaN</td>\n",
       "      <td>NaN</td>\n",
       "      <td>NaN</td>\n",
       "    </tr>\n",
       "    <tr>\n",
       "      <th>29503</th>\n",
       "      <td>Rune Balot goes to a casino connected to the ...</td>\n",
       "      <td>1.931659</td>\n",
       "      <td>/zV8bHuSL6WXoD6FWogP9j4x80bL.jpg</td>\n",
       "      <td>[{'name': 'Aniplex', 'id': 2883}, {'name': 'Go...</td>\n",
       "      <td>[{'iso_3166_1': 'US', 'name': 'United States o...</td>\n",
       "      <td>2012-09-29</td>\n",
       "      <td>0</td>\n",
       "      <td>68.0</td>\n",
       "      <td>[{'iso_639_1': 'ja', 'name': '日本語'}]</td>\n",
       "      <td>Released</td>\n",
       "      <td>NaN</td>\n",
       "      <td>Mardock Scramble: The Third Exhaust</td>\n",
       "      <td>False</td>\n",
       "      <td>7.0</td>\n",
       "      <td>12</td>\n",
       "      <td>NaN</td>\n",
       "      <td>NaN</td>\n",
       "      <td>NaN</td>\n",
       "      <td>NaN</td>\n",
       "      <td>NaN</td>\n",
       "      <td>NaN</td>\n",
       "      <td>NaN</td>\n",
       "      <td>NaN</td>\n",
       "      <td>NaN</td>\n",
       "    </tr>\n",
       "    <tr>\n",
       "      <th>35586</th>\n",
       "      <td>False</td>\n",
       "      <td>NaN</td>\n",
       "      <td>0</td>\n",
       "      <td>[{'id': 10770, 'name': 'TV Movie'}, {'id': 28,...</td>\n",
       "      <td>NaN</td>\n",
       "      <td>249260</td>\n",
       "      <td>tt2622826</td>\n",
       "      <td>en</td>\n",
       "      <td>Avalanche Sharks</td>\n",
       "      <td>A group of skiers are terrorized during spring...</td>\n",
       "      <td>NaN</td>\n",
       "      <td>NaN</td>\n",
       "      <td>NaN</td>\n",
       "      <td>NaN</td>\n",
       "      <td>NaN</td>\n",
       "      <td>NaN</td>\n",
       "      <td>NaN</td>\n",
       "      <td>NaN</td>\n",
       "      <td>NaN</td>\n",
       "      <td>NaN</td>\n",
       "      <td>NaN</td>\n",
       "      <td>NaN</td>\n",
       "      <td>NaN</td>\n",
       "      <td>NaN</td>\n",
       "    </tr>\n",
       "    <tr>\n",
       "      <th>35587</th>\n",
       "      <td>Avalanche Sharks tells the story of a bikini ...</td>\n",
       "      <td>2.185485</td>\n",
       "      <td>/zaSf5OG7V8X8gqFvly88zDdRm46.jpg</td>\n",
       "      <td>[{'name': 'Odyssey Media', 'id': 17161}, {'nam...</td>\n",
       "      <td>[{'iso_3166_1': 'CA', 'name': 'Canada'}]</td>\n",
       "      <td>2014-01-01</td>\n",
       "      <td>0</td>\n",
       "      <td>82.0</td>\n",
       "      <td>[{'iso_639_1': 'en', 'name': 'English'}]</td>\n",
       "      <td>Released</td>\n",
       "      <td>Beware Of Frost Bites</td>\n",
       "      <td>Avalanche Sharks</td>\n",
       "      <td>False</td>\n",
       "      <td>4.3</td>\n",
       "      <td>22</td>\n",
       "      <td>NaN</td>\n",
       "      <td>NaN</td>\n",
       "      <td>NaN</td>\n",
       "      <td>NaN</td>\n",
       "      <td>NaN</td>\n",
       "      <td>NaN</td>\n",
       "      <td>NaN</td>\n",
       "      <td>NaN</td>\n",
       "      <td>NaN</td>\n",
       "    </tr>\n",
       "  </tbody>\n",
       "</table>\n",
       "</div>"
      ],
      "text/plain": [
       "                                                   adult  \\\n",
       "19729                                              False   \n",
       "19730                                 - Written by Ørnås   \n",
       "29502                                              False   \n",
       "29503   Rune Balot goes to a casino connected to the ...   \n",
       "35586                                              False   \n",
       "35587   Avalanche Sharks tells the story of a bikini ...   \n",
       "\n",
       "                                   belongs_to_collection  \\\n",
       "19729                                                NaN   \n",
       "19730                                           0.065736   \n",
       "29502  {'id': 122661, 'name': 'Mardock Scramble Colle...   \n",
       "29503                                           1.931659   \n",
       "35586                                                NaN   \n",
       "35587                                           2.185485   \n",
       "\n",
       "                                 budget  \\\n",
       "19729                                 0   \n",
       "19730  /ff9qCepilowshEtG2GYWwzt2bs4.jpg   \n",
       "29502                                 0   \n",
       "29503  /zV8bHuSL6WXoD6FWogP9j4x80bL.jpg   \n",
       "35586                                 0   \n",
       "35587  /zaSf5OG7V8X8gqFvly88zDdRm46.jpg   \n",
       "\n",
       "                                                  genres  \\\n",
       "19729  [{'id': 28, 'name': 'Action'}, {'id': 53, 'nam...   \n",
       "19730  [{'name': 'Carousel Productions', 'id': 11176}...   \n",
       "29502  [{'id': 16, 'name': 'Animation'}, {'id': 878, ...   \n",
       "29503  [{'name': 'Aniplex', 'id': 2883}, {'name': 'Go...   \n",
       "35586  [{'id': 10770, 'name': 'TV Movie'}, {'id': 28,...   \n",
       "35587  [{'name': 'Odyssey Media', 'id': 17161}, {'nam...   \n",
       "\n",
       "                                                homepage          id  \\\n",
       "19729                                                NaN       82663   \n",
       "19730  [{'iso_3166_1': 'CA', 'name': 'Canada'}, {'iso...  1997-08-20   \n",
       "29502                      http://m-scramble.jp/exhaust/      122662   \n",
       "29503  [{'iso_3166_1': 'US', 'name': 'United States o...  2012-09-29   \n",
       "35586                                                NaN      249260   \n",
       "35587           [{'iso_3166_1': 'CA', 'name': 'Canada'}]  2014-01-01   \n",
       "\n",
       "         imdb_id original_language                            original_title  \\\n",
       "19729  tt0113002                en                              Midnight Man   \n",
       "19730          0             104.0  [{'iso_639_1': 'en', 'name': 'English'}]   \n",
       "29502  tt2423504                ja                          マルドゥック・スクランブル 排気   \n",
       "29503          0              68.0      [{'iso_639_1': 'ja', 'name': '日本語'}]   \n",
       "35586  tt2622826                en                          Avalanche Sharks   \n",
       "35587          0              82.0  [{'iso_639_1': 'en', 'name': 'English'}]   \n",
       "\n",
       "                                                overview  \\\n",
       "19729  British soldiers force a recently captured IRA...   \n",
       "19730                                           Released   \n",
       "29502         Third film of the Mardock Scramble series.   \n",
       "29503                                           Released   \n",
       "35586  A group of skiers are terrorized during spring...   \n",
       "35587                                           Released   \n",
       "\n",
       "                  popularity                          poster_path  \\\n",
       "19729                    NaN                                  NaN   \n",
       "19730                    NaN                         Midnight Man   \n",
       "29502                    NaN                                  NaN   \n",
       "29503                    NaN  Mardock Scramble: The Third Exhaust   \n",
       "35586                    NaN                                  NaN   \n",
       "35587  Beware Of Frost Bites                     Avalanche Sharks   \n",
       "\n",
       "      production_companies production_countries release_date  revenue  \\\n",
       "19729                  NaN                  NaN          NaN      NaN   \n",
       "19730                False                  6.0            1      NaN   \n",
       "29502                  NaN                  NaN          NaN      NaN   \n",
       "29503                False                  7.0           12      NaN   \n",
       "35586                  NaN                  NaN          NaN      NaN   \n",
       "35587                False                  4.3           22      NaN   \n",
       "\n",
       "       runtime spoken_languages status tagline title video  vote_average  \\\n",
       "19729      NaN              NaN    NaN     NaN   NaN   NaN           NaN   \n",
       "19730      NaN              NaN    NaN     NaN   NaN   NaN           NaN   \n",
       "29502      NaN              NaN    NaN     NaN   NaN   NaN           NaN   \n",
       "29503      NaN              NaN    NaN     NaN   NaN   NaN           NaN   \n",
       "35586      NaN              NaN    NaN     NaN   NaN   NaN           NaN   \n",
       "35587      NaN              NaN    NaN     NaN   NaN   NaN           NaN   \n",
       "\n",
       "       vote_count  \n",
       "19729         NaN  \n",
       "19730         NaN  \n",
       "29502         NaN  \n",
       "29503         NaN  \n",
       "35586         NaN  \n",
       "35587         NaN  "
      ]
     },
     "execution_count": 27,
     "metadata": {},
     "output_type": "execute_result"
    }
   ],
   "source": [
    "df_movies[df_movies['revenue'].isna()]"
   ]
  },
  {
   "cell_type": "code",
   "execution_count": 28,
   "id": "970f5bf0",
   "metadata": {
    "execution": {
     "iopub.execute_input": "2023-02-23T17:24:24.116772Z",
     "iopub.status.busy": "2023-02-23T17:24:24.116328Z",
     "iopub.status.idle": "2023-02-23T17:24:24.139906Z",
     "shell.execute_reply": "2023-02-23T17:24:24.138649Z"
    },
    "papermill": {
     "duration": 0.05206,
     "end_time": "2023-02-23T17:24:24.142822",
     "exception": false,
     "start_time": "2023-02-23T17:24:24.090762",
     "status": "completed"
    },
    "tags": []
   },
   "outputs": [],
   "source": [
    "df_movies.dropna(subset=['revenue'],inplace=True)"
   ]
  },
  {
   "cell_type": "code",
   "execution_count": 29,
   "id": "e4dc3d24",
   "metadata": {
    "execution": {
     "iopub.execute_input": "2023-02-23T17:24:24.191576Z",
     "iopub.status.busy": "2023-02-23T17:24:24.191184Z",
     "iopub.status.idle": "2023-02-23T17:24:24.213725Z",
     "shell.execute_reply": "2023-02-23T17:24:24.212647Z"
    },
    "papermill": {
     "duration": 0.050437,
     "end_time": "2023-02-23T17:24:24.216436",
     "exception": false,
     "start_time": "2023-02-23T17:24:24.165999",
     "status": "completed"
    },
    "tags": []
   },
   "outputs": [],
   "source": [
    "df_movies['budget']=df_movies['budget'].astype(float)"
   ]
  },
  {
   "cell_type": "code",
   "execution_count": 30,
   "id": "e473fed1",
   "metadata": {
    "execution": {
     "iopub.execute_input": "2023-02-23T17:24:24.266815Z",
     "iopub.status.busy": "2023-02-23T17:24:24.265849Z",
     "iopub.status.idle": "2023-02-23T17:24:24.272347Z",
     "shell.execute_reply": "2023-02-23T17:24:24.271380Z"
    },
    "papermill": {
     "duration": 0.03447,
     "end_time": "2023-02-23T17:24:24.274950",
     "exception": false,
     "start_time": "2023-02-23T17:24:24.240480",
     "status": "completed"
    },
    "tags": []
   },
   "outputs": [],
   "source": [
    "#Creating a new column - Movie earnings subtracting budget cost\n",
    "df_movies['earnings']=df_movies['revenue']-df_movies['budget']"
   ]
  },
  {
   "cell_type": "code",
   "execution_count": 31,
   "id": "f78c712a",
   "metadata": {
    "execution": {
     "iopub.execute_input": "2023-02-23T17:24:24.324997Z",
     "iopub.status.busy": "2023-02-23T17:24:24.324277Z",
     "iopub.status.idle": "2023-02-23T17:24:24.357112Z",
     "shell.execute_reply": "2023-02-23T17:24:24.355813Z"
    },
    "papermill": {
     "duration": 0.06135,
     "end_time": "2023-02-23T17:24:24.360011",
     "exception": false,
     "start_time": "2023-02-23T17:24:24.298661",
     "status": "completed"
    },
    "tags": []
   },
   "outputs": [
    {
     "data": {
      "text/html": [
       "<div>\n",
       "<style scoped>\n",
       "    .dataframe tbody tr th:only-of-type {\n",
       "        vertical-align: middle;\n",
       "    }\n",
       "\n",
       "    .dataframe tbody tr th {\n",
       "        vertical-align: top;\n",
       "    }\n",
       "\n",
       "    .dataframe thead th {\n",
       "        text-align: right;\n",
       "    }\n",
       "</style>\n",
       "<table border=\"1\" class=\"dataframe\">\n",
       "  <thead>\n",
       "    <tr style=\"text-align: right;\">\n",
       "      <th></th>\n",
       "      <th>adult</th>\n",
       "      <th>belongs_to_collection</th>\n",
       "      <th>budget</th>\n",
       "      <th>genres</th>\n",
       "      <th>homepage</th>\n",
       "      <th>id</th>\n",
       "      <th>imdb_id</th>\n",
       "      <th>original_language</th>\n",
       "      <th>original_title</th>\n",
       "      <th>overview</th>\n",
       "      <th>popularity</th>\n",
       "      <th>poster_path</th>\n",
       "      <th>production_companies</th>\n",
       "      <th>production_countries</th>\n",
       "      <th>release_date</th>\n",
       "      <th>revenue</th>\n",
       "      <th>runtime</th>\n",
       "      <th>spoken_languages</th>\n",
       "      <th>status</th>\n",
       "      <th>tagline</th>\n",
       "      <th>title</th>\n",
       "      <th>video</th>\n",
       "      <th>vote_average</th>\n",
       "      <th>vote_count</th>\n",
       "      <th>earnings</th>\n",
       "    </tr>\n",
       "  </thead>\n",
       "  <tbody>\n",
       "    <tr>\n",
       "      <th>0</th>\n",
       "      <td>False</td>\n",
       "      <td>{'id': 10194, 'name': 'Toy Story Collection', ...</td>\n",
       "      <td>30000000.0</td>\n",
       "      <td>[{'id': 16, 'name': 'Animation'}, {'id': 35, '...</td>\n",
       "      <td>http://toystory.disney.com/toy-story</td>\n",
       "      <td>862</td>\n",
       "      <td>tt0114709</td>\n",
       "      <td>en</td>\n",
       "      <td>Toy Story</td>\n",
       "      <td>Led by Woody, Andy's toys live happily in his ...</td>\n",
       "      <td>21.946943</td>\n",
       "      <td>/rhIRbceoE9lR4veEXuwCC2wARtG.jpg</td>\n",
       "      <td>[{'name': 'Pixar Animation Studios', 'id': 3}]</td>\n",
       "      <td>[{'iso_3166_1': 'US', 'name': 'United States o...</td>\n",
       "      <td>1995-10-30</td>\n",
       "      <td>373554033.0</td>\n",
       "      <td>81.0</td>\n",
       "      <td>[{'iso_639_1': 'en', 'name': 'English'}]</td>\n",
       "      <td>Released</td>\n",
       "      <td>NaN</td>\n",
       "      <td>Toy Story</td>\n",
       "      <td>False</td>\n",
       "      <td>7.7</td>\n",
       "      <td>5415.0</td>\n",
       "      <td>343554033.0</td>\n",
       "    </tr>\n",
       "    <tr>\n",
       "      <th>1</th>\n",
       "      <td>False</td>\n",
       "      <td>NaN</td>\n",
       "      <td>65000000.0</td>\n",
       "      <td>[{'id': 12, 'name': 'Adventure'}, {'id': 14, '...</td>\n",
       "      <td>NaN</td>\n",
       "      <td>8844</td>\n",
       "      <td>tt0113497</td>\n",
       "      <td>en</td>\n",
       "      <td>Jumanji</td>\n",
       "      <td>When siblings Judy and Peter discover an encha...</td>\n",
       "      <td>17.015539</td>\n",
       "      <td>/vzmL6fP7aPKNKPRTFnZmiUfciyV.jpg</td>\n",
       "      <td>[{'name': 'TriStar Pictures', 'id': 559}, {'na...</td>\n",
       "      <td>[{'iso_3166_1': 'US', 'name': 'United States o...</td>\n",
       "      <td>1995-12-15</td>\n",
       "      <td>262797249.0</td>\n",
       "      <td>104.0</td>\n",
       "      <td>[{'iso_639_1': 'en', 'name': 'English'}, {'iso...</td>\n",
       "      <td>Released</td>\n",
       "      <td>Roll the dice and unleash the excitement!</td>\n",
       "      <td>Jumanji</td>\n",
       "      <td>False</td>\n",
       "      <td>6.9</td>\n",
       "      <td>2413.0</td>\n",
       "      <td>197797249.0</td>\n",
       "    </tr>\n",
       "    <tr>\n",
       "      <th>2</th>\n",
       "      <td>False</td>\n",
       "      <td>{'id': 119050, 'name': 'Grumpy Old Men Collect...</td>\n",
       "      <td>0.0</td>\n",
       "      <td>[{'id': 10749, 'name': 'Romance'}, {'id': 35, ...</td>\n",
       "      <td>NaN</td>\n",
       "      <td>15602</td>\n",
       "      <td>tt0113228</td>\n",
       "      <td>en</td>\n",
       "      <td>Grumpier Old Men</td>\n",
       "      <td>A family wedding reignites the ancient feud be...</td>\n",
       "      <td>11.7129</td>\n",
       "      <td>/6ksm1sjKMFLbO7UY2i6G1ju9SML.jpg</td>\n",
       "      <td>[{'name': 'Warner Bros.', 'id': 6194}, {'name'...</td>\n",
       "      <td>[{'iso_3166_1': 'US', 'name': 'United States o...</td>\n",
       "      <td>1995-12-22</td>\n",
       "      <td>0.0</td>\n",
       "      <td>101.0</td>\n",
       "      <td>[{'iso_639_1': 'en', 'name': 'English'}]</td>\n",
       "      <td>Released</td>\n",
       "      <td>Still Yelling. Still Fighting. Still Ready for...</td>\n",
       "      <td>Grumpier Old Men</td>\n",
       "      <td>False</td>\n",
       "      <td>6.5</td>\n",
       "      <td>92.0</td>\n",
       "      <td>0.0</td>\n",
       "    </tr>\n",
       "  </tbody>\n",
       "</table>\n",
       "</div>"
      ],
      "text/plain": [
       "   adult                              belongs_to_collection      budget  \\\n",
       "0  False  {'id': 10194, 'name': 'Toy Story Collection', ...  30000000.0   \n",
       "1  False                                                NaN  65000000.0   \n",
       "2  False  {'id': 119050, 'name': 'Grumpy Old Men Collect...         0.0   \n",
       "\n",
       "                                              genres  \\\n",
       "0  [{'id': 16, 'name': 'Animation'}, {'id': 35, '...   \n",
       "1  [{'id': 12, 'name': 'Adventure'}, {'id': 14, '...   \n",
       "2  [{'id': 10749, 'name': 'Romance'}, {'id': 35, ...   \n",
       "\n",
       "                               homepage     id    imdb_id original_language  \\\n",
       "0  http://toystory.disney.com/toy-story    862  tt0114709                en   \n",
       "1                                   NaN   8844  tt0113497                en   \n",
       "2                                   NaN  15602  tt0113228                en   \n",
       "\n",
       "     original_title                                           overview  \\\n",
       "0         Toy Story  Led by Woody, Andy's toys live happily in his ...   \n",
       "1           Jumanji  When siblings Judy and Peter discover an encha...   \n",
       "2  Grumpier Old Men  A family wedding reignites the ancient feud be...   \n",
       "\n",
       "  popularity                       poster_path  \\\n",
       "0  21.946943  /rhIRbceoE9lR4veEXuwCC2wARtG.jpg   \n",
       "1  17.015539  /vzmL6fP7aPKNKPRTFnZmiUfciyV.jpg   \n",
       "2    11.7129  /6ksm1sjKMFLbO7UY2i6G1ju9SML.jpg   \n",
       "\n",
       "                                production_companies  \\\n",
       "0     [{'name': 'Pixar Animation Studios', 'id': 3}]   \n",
       "1  [{'name': 'TriStar Pictures', 'id': 559}, {'na...   \n",
       "2  [{'name': 'Warner Bros.', 'id': 6194}, {'name'...   \n",
       "\n",
       "                                production_countries release_date  \\\n",
       "0  [{'iso_3166_1': 'US', 'name': 'United States o...   1995-10-30   \n",
       "1  [{'iso_3166_1': 'US', 'name': 'United States o...   1995-12-15   \n",
       "2  [{'iso_3166_1': 'US', 'name': 'United States o...   1995-12-22   \n",
       "\n",
       "       revenue  runtime                                   spoken_languages  \\\n",
       "0  373554033.0     81.0           [{'iso_639_1': 'en', 'name': 'English'}]   \n",
       "1  262797249.0    104.0  [{'iso_639_1': 'en', 'name': 'English'}, {'iso...   \n",
       "2          0.0    101.0           [{'iso_639_1': 'en', 'name': 'English'}]   \n",
       "\n",
       "     status                                            tagline  \\\n",
       "0  Released                                                NaN   \n",
       "1  Released          Roll the dice and unleash the excitement!   \n",
       "2  Released  Still Yelling. Still Fighting. Still Ready for...   \n",
       "\n",
       "              title  video  vote_average  vote_count     earnings  \n",
       "0         Toy Story  False           7.7      5415.0  343554033.0  \n",
       "1           Jumanji  False           6.9      2413.0  197797249.0  \n",
       "2  Grumpier Old Men  False           6.5        92.0          0.0  "
      ]
     },
     "execution_count": 31,
     "metadata": {},
     "output_type": "execute_result"
    }
   ],
   "source": [
    "df_movies.head(3)"
   ]
  },
  {
   "cell_type": "code",
   "execution_count": 32,
   "id": "bd28e42d",
   "metadata": {
    "execution": {
     "iopub.execute_input": "2023-02-23T17:24:24.410825Z",
     "iopub.status.busy": "2023-02-23T17:24:24.410001Z",
     "iopub.status.idle": "2023-02-23T17:24:24.417827Z",
     "shell.execute_reply": "2023-02-23T17:24:24.416796Z"
    },
    "papermill": {
     "duration": 0.035634,
     "end_time": "2023-02-23T17:24:24.420259",
     "exception": false,
     "start_time": "2023-02-23T17:24:24.384625",
     "status": "completed"
    },
    "tags": []
   },
   "outputs": [
    {
     "data": {
      "text/plain": [
       "Index(['adult', 'belongs_to_collection', 'budget', 'genres', 'homepage', 'id',\n",
       "       'imdb_id', 'original_language', 'original_title', 'overview',\n",
       "       'popularity', 'poster_path', 'production_companies',\n",
       "       'production_countries', 'release_date', 'revenue', 'runtime',\n",
       "       'spoken_languages', 'status', 'tagline', 'title', 'video',\n",
       "       'vote_average', 'vote_count', 'earnings'],\n",
       "      dtype='object')"
      ]
     },
     "execution_count": 32,
     "metadata": {},
     "output_type": "execute_result"
    }
   ],
   "source": [
    "df_movies.columns"
   ]
  },
  {
   "cell_type": "code",
   "execution_count": 33,
   "id": "b05a9142",
   "metadata": {
    "execution": {
     "iopub.execute_input": "2023-02-23T17:24:24.471399Z",
     "iopub.status.busy": "2023-02-23T17:24:24.470548Z",
     "iopub.status.idle": "2023-02-23T17:24:24.485731Z",
     "shell.execute_reply": "2023-02-23T17:24:24.484153Z"
    },
    "papermill": {
     "duration": 0.043977,
     "end_time": "2023-02-23T17:24:24.488706",
     "exception": false,
     "start_time": "2023-02-23T17:24:24.444729",
     "status": "completed"
    },
    "tags": []
   },
   "outputs": [],
   "source": [
    "df_movies.drop(['belongs_to_collection','budget','homepage','imdb_id','poster_path','production_countries','status','tagline','video','original_language','revenue','production_companies','popularity'],axis=1,inplace=True)"
   ]
  },
  {
   "cell_type": "code",
   "execution_count": 34,
   "id": "d5b2f9a0",
   "metadata": {
    "execution": {
     "iopub.execute_input": "2023-02-23T17:24:24.540320Z",
     "iopub.status.busy": "2023-02-23T17:24:24.539927Z",
     "iopub.status.idle": "2023-02-23T17:24:24.547156Z",
     "shell.execute_reply": "2023-02-23T17:24:24.545703Z"
    },
    "papermill": {
     "duration": 0.037093,
     "end_time": "2023-02-23T17:24:24.549920",
     "exception": false,
     "start_time": "2023-02-23T17:24:24.512827",
     "status": "completed"
    },
    "tags": []
   },
   "outputs": [
    {
     "data": {
      "text/plain": [
       "(45460, 12)"
      ]
     },
     "execution_count": 34,
     "metadata": {},
     "output_type": "execute_result"
    }
   ],
   "source": [
    "df_movies.shape"
   ]
  },
  {
   "cell_type": "code",
   "execution_count": 35,
   "id": "298a0451",
   "metadata": {
    "execution": {
     "iopub.execute_input": "2023-02-23T17:24:24.601544Z",
     "iopub.status.busy": "2023-02-23T17:24:24.601076Z",
     "iopub.status.idle": "2023-02-23T17:24:24.634048Z",
     "shell.execute_reply": "2023-02-23T17:24:24.632667Z"
    },
    "papermill": {
     "duration": 0.061822,
     "end_time": "2023-02-23T17:24:24.637276",
     "exception": false,
     "start_time": "2023-02-23T17:24:24.575454",
     "status": "completed"
    },
    "tags": []
   },
   "outputs": [
    {
     "data": {
      "text/plain": [
       "adult                 0\n",
       "genres                0\n",
       "id                    0\n",
       "original_title        0\n",
       "overview            954\n",
       "release_date         84\n",
       "runtime             257\n",
       "spoken_languages      0\n",
       "title                 0\n",
       "vote_average          0\n",
       "vote_count            0\n",
       "earnings              0\n",
       "dtype: int64"
      ]
     },
     "execution_count": 35,
     "metadata": {},
     "output_type": "execute_result"
    }
   ],
   "source": [
    "df_movies.isnull().sum()"
   ]
  },
  {
   "cell_type": "code",
   "execution_count": 36,
   "id": "9beb4ad0",
   "metadata": {
    "execution": {
     "iopub.execute_input": "2023-02-23T17:24:24.689980Z",
     "iopub.status.busy": "2023-02-23T17:24:24.689520Z",
     "iopub.status.idle": "2023-02-23T17:24:24.734124Z",
     "shell.execute_reply": "2023-02-23T17:24:24.732930Z"
    },
    "papermill": {
     "duration": 0.074475,
     "end_time": "2023-02-23T17:24:24.736891",
     "exception": false,
     "start_time": "2023-02-23T17:24:24.662416",
     "status": "completed"
    },
    "tags": []
   },
   "outputs": [],
   "source": [
    "df_movies.dropna(inplace=True)"
   ]
  },
  {
   "cell_type": "code",
   "execution_count": 37,
   "id": "0863137c",
   "metadata": {
    "execution": {
     "iopub.execute_input": "2023-02-23T17:24:24.790862Z",
     "iopub.status.busy": "2023-02-23T17:24:24.790133Z",
     "iopub.status.idle": "2023-02-23T17:24:24.811584Z",
     "shell.execute_reply": "2023-02-23T17:24:24.809787Z"
    },
    "papermill": {
     "duration": 0.051447,
     "end_time": "2023-02-23T17:24:24.814278",
     "exception": false,
     "start_time": "2023-02-23T17:24:24.762831",
     "status": "completed"
    },
    "tags": []
   },
   "outputs": [
    {
     "data": {
      "text/html": [
       "<div>\n",
       "<style scoped>\n",
       "    .dataframe tbody tr th:only-of-type {\n",
       "        vertical-align: middle;\n",
       "    }\n",
       "\n",
       "    .dataframe tbody tr th {\n",
       "        vertical-align: top;\n",
       "    }\n",
       "\n",
       "    .dataframe thead th {\n",
       "        text-align: right;\n",
       "    }\n",
       "</style>\n",
       "<table border=\"1\" class=\"dataframe\">\n",
       "  <thead>\n",
       "    <tr style=\"text-align: right;\">\n",
       "      <th></th>\n",
       "      <th>adult</th>\n",
       "      <th>genres</th>\n",
       "      <th>id</th>\n",
       "      <th>original_title</th>\n",
       "      <th>overview</th>\n",
       "      <th>release_date</th>\n",
       "      <th>runtime</th>\n",
       "      <th>spoken_languages</th>\n",
       "      <th>title</th>\n",
       "      <th>vote_average</th>\n",
       "      <th>vote_count</th>\n",
       "      <th>earnings</th>\n",
       "    </tr>\n",
       "  </thead>\n",
       "  <tbody>\n",
       "    <tr>\n",
       "      <th>0</th>\n",
       "      <td>False</td>\n",
       "      <td>[{'id': 16, 'name': 'Animation'}, {'id': 35, '...</td>\n",
       "      <td>862</td>\n",
       "      <td>Toy Story</td>\n",
       "      <td>Led by Woody, Andy's toys live happily in his ...</td>\n",
       "      <td>1995-10-30</td>\n",
       "      <td>81.0</td>\n",
       "      <td>[{'iso_639_1': 'en', 'name': 'English'}]</td>\n",
       "      <td>Toy Story</td>\n",
       "      <td>7.7</td>\n",
       "      <td>5415.0</td>\n",
       "      <td>343554033.0</td>\n",
       "    </tr>\n",
       "    <tr>\n",
       "      <th>1</th>\n",
       "      <td>False</td>\n",
       "      <td>[{'id': 12, 'name': 'Adventure'}, {'id': 14, '...</td>\n",
       "      <td>8844</td>\n",
       "      <td>Jumanji</td>\n",
       "      <td>When siblings Judy and Peter discover an encha...</td>\n",
       "      <td>1995-12-15</td>\n",
       "      <td>104.0</td>\n",
       "      <td>[{'iso_639_1': 'en', 'name': 'English'}, {'iso...</td>\n",
       "      <td>Jumanji</td>\n",
       "      <td>6.9</td>\n",
       "      <td>2413.0</td>\n",
       "      <td>197797249.0</td>\n",
       "    </tr>\n",
       "    <tr>\n",
       "      <th>2</th>\n",
       "      <td>False</td>\n",
       "      <td>[{'id': 10749, 'name': 'Romance'}, {'id': 35, ...</td>\n",
       "      <td>15602</td>\n",
       "      <td>Grumpier Old Men</td>\n",
       "      <td>A family wedding reignites the ancient feud be...</td>\n",
       "      <td>1995-12-22</td>\n",
       "      <td>101.0</td>\n",
       "      <td>[{'iso_639_1': 'en', 'name': 'English'}]</td>\n",
       "      <td>Grumpier Old Men</td>\n",
       "      <td>6.5</td>\n",
       "      <td>92.0</td>\n",
       "      <td>0.0</td>\n",
       "    </tr>\n",
       "  </tbody>\n",
       "</table>\n",
       "</div>"
      ],
      "text/plain": [
       "   adult                                             genres     id  \\\n",
       "0  False  [{'id': 16, 'name': 'Animation'}, {'id': 35, '...    862   \n",
       "1  False  [{'id': 12, 'name': 'Adventure'}, {'id': 14, '...   8844   \n",
       "2  False  [{'id': 10749, 'name': 'Romance'}, {'id': 35, ...  15602   \n",
       "\n",
       "     original_title                                           overview  \\\n",
       "0         Toy Story  Led by Woody, Andy's toys live happily in his ...   \n",
       "1           Jumanji  When siblings Judy and Peter discover an encha...   \n",
       "2  Grumpier Old Men  A family wedding reignites the ancient feud be...   \n",
       "\n",
       "  release_date  runtime                                   spoken_languages  \\\n",
       "0   1995-10-30     81.0           [{'iso_639_1': 'en', 'name': 'English'}]   \n",
       "1   1995-12-15    104.0  [{'iso_639_1': 'en', 'name': 'English'}, {'iso...   \n",
       "2   1995-12-22    101.0           [{'iso_639_1': 'en', 'name': 'English'}]   \n",
       "\n",
       "              title  vote_average  vote_count     earnings  \n",
       "0         Toy Story           7.7      5415.0  343554033.0  \n",
       "1           Jumanji           6.9      2413.0  197797249.0  \n",
       "2  Grumpier Old Men           6.5        92.0          0.0  "
      ]
     },
     "execution_count": 37,
     "metadata": {},
     "output_type": "execute_result"
    }
   ],
   "source": [
    "df_movies.head(3)"
   ]
  },
  {
   "cell_type": "code",
   "execution_count": 38,
   "id": "93081adc",
   "metadata": {
    "execution": {
     "iopub.execute_input": "2023-02-23T17:24:24.871231Z",
     "iopub.status.busy": "2023-02-23T17:24:24.869982Z",
     "iopub.status.idle": "2023-02-23T17:24:26.326214Z",
     "shell.execute_reply": "2023-02-23T17:24:26.324865Z"
    },
    "papermill": {
     "duration": 1.487695,
     "end_time": "2023-02-23T17:24:26.330094",
     "exception": false,
     "start_time": "2023-02-23T17:24:24.842399",
     "status": "completed"
    },
    "tags": []
   },
   "outputs": [],
   "source": [
    "df_movies['genres']=df_movies['genres'].apply(convert)"
   ]
  },
  {
   "cell_type": "code",
   "execution_count": 39,
   "id": "96d4f38e",
   "metadata": {
    "execution": {
     "iopub.execute_input": "2023-02-23T17:24:26.389442Z",
     "iopub.status.busy": "2023-02-23T17:24:26.388969Z",
     "iopub.status.idle": "2023-02-23T17:24:26.408969Z",
     "shell.execute_reply": "2023-02-23T17:24:26.407697Z"
    },
    "papermill": {
     "duration": 0.054494,
     "end_time": "2023-02-23T17:24:26.411785",
     "exception": false,
     "start_time": "2023-02-23T17:24:26.357291",
     "status": "completed"
    },
    "tags": []
   },
   "outputs": [
    {
     "data": {
      "text/html": [
       "<div>\n",
       "<style scoped>\n",
       "    .dataframe tbody tr th:only-of-type {\n",
       "        vertical-align: middle;\n",
       "    }\n",
       "\n",
       "    .dataframe tbody tr th {\n",
       "        vertical-align: top;\n",
       "    }\n",
       "\n",
       "    .dataframe thead th {\n",
       "        text-align: right;\n",
       "    }\n",
       "</style>\n",
       "<table border=\"1\" class=\"dataframe\">\n",
       "  <thead>\n",
       "    <tr style=\"text-align: right;\">\n",
       "      <th></th>\n",
       "      <th>adult</th>\n",
       "      <th>genres</th>\n",
       "      <th>id</th>\n",
       "      <th>original_title</th>\n",
       "      <th>overview</th>\n",
       "      <th>release_date</th>\n",
       "      <th>runtime</th>\n",
       "      <th>spoken_languages</th>\n",
       "      <th>title</th>\n",
       "      <th>vote_average</th>\n",
       "      <th>vote_count</th>\n",
       "      <th>earnings</th>\n",
       "    </tr>\n",
       "  </thead>\n",
       "  <tbody>\n",
       "    <tr>\n",
       "      <th>0</th>\n",
       "      <td>False</td>\n",
       "      <td>[Animation, Comedy, Family]</td>\n",
       "      <td>862</td>\n",
       "      <td>Toy Story</td>\n",
       "      <td>Led by Woody, Andy's toys live happily in his ...</td>\n",
       "      <td>1995-10-30</td>\n",
       "      <td>81.0</td>\n",
       "      <td>[{'iso_639_1': 'en', 'name': 'English'}]</td>\n",
       "      <td>Toy Story</td>\n",
       "      <td>7.7</td>\n",
       "      <td>5415.0</td>\n",
       "      <td>343554033.0</td>\n",
       "    </tr>\n",
       "    <tr>\n",
       "      <th>1</th>\n",
       "      <td>False</td>\n",
       "      <td>[Adventure, Fantasy, Family]</td>\n",
       "      <td>8844</td>\n",
       "      <td>Jumanji</td>\n",
       "      <td>When siblings Judy and Peter discover an encha...</td>\n",
       "      <td>1995-12-15</td>\n",
       "      <td>104.0</td>\n",
       "      <td>[{'iso_639_1': 'en', 'name': 'English'}, {'iso...</td>\n",
       "      <td>Jumanji</td>\n",
       "      <td>6.9</td>\n",
       "      <td>2413.0</td>\n",
       "      <td>197797249.0</td>\n",
       "    </tr>\n",
       "  </tbody>\n",
       "</table>\n",
       "</div>"
      ],
      "text/plain": [
       "   adult                        genres    id original_title  \\\n",
       "0  False   [Animation, Comedy, Family]   862      Toy Story   \n",
       "1  False  [Adventure, Fantasy, Family]  8844        Jumanji   \n",
       "\n",
       "                                            overview release_date  runtime  \\\n",
       "0  Led by Woody, Andy's toys live happily in his ...   1995-10-30     81.0   \n",
       "1  When siblings Judy and Peter discover an encha...   1995-12-15    104.0   \n",
       "\n",
       "                                    spoken_languages      title  vote_average  \\\n",
       "0           [{'iso_639_1': 'en', 'name': 'English'}]  Toy Story           7.7   \n",
       "1  [{'iso_639_1': 'en', 'name': 'English'}, {'iso...    Jumanji           6.9   \n",
       "\n",
       "   vote_count     earnings  \n",
       "0      5415.0  343554033.0  \n",
       "1      2413.0  197797249.0  "
      ]
     },
     "execution_count": 39,
     "metadata": {},
     "output_type": "execute_result"
    }
   ],
   "source": [
    "df_movies.head(2)"
   ]
  },
  {
   "cell_type": "code",
   "execution_count": 40,
   "id": "bddc58db",
   "metadata": {
    "execution": {
     "iopub.execute_input": "2023-02-23T17:24:26.464904Z",
     "iopub.status.busy": "2023-02-23T17:24:26.464383Z",
     "iopub.status.idle": "2023-02-23T17:24:27.323900Z",
     "shell.execute_reply": "2023-02-23T17:24:27.322389Z"
    },
    "papermill": {
     "duration": 0.88965,
     "end_time": "2023-02-23T17:24:27.326963",
     "exception": false,
     "start_time": "2023-02-23T17:24:26.437313",
     "status": "completed"
    },
    "tags": []
   },
   "outputs": [],
   "source": [
    "df_movies['spoken_languages']=df_movies['spoken_languages'].apply(convert)"
   ]
  },
  {
   "cell_type": "code",
   "execution_count": 41,
   "id": "92a5da82",
   "metadata": {
    "execution": {
     "iopub.execute_input": "2023-02-23T17:24:27.379364Z",
     "iopub.status.busy": "2023-02-23T17:24:27.378871Z",
     "iopub.status.idle": "2023-02-23T17:24:27.398213Z",
     "shell.execute_reply": "2023-02-23T17:24:27.397333Z"
    },
    "papermill": {
     "duration": 0.047748,
     "end_time": "2023-02-23T17:24:27.400764",
     "exception": false,
     "start_time": "2023-02-23T17:24:27.353016",
     "status": "completed"
    },
    "tags": []
   },
   "outputs": [
    {
     "data": {
      "text/html": [
       "<div>\n",
       "<style scoped>\n",
       "    .dataframe tbody tr th:only-of-type {\n",
       "        vertical-align: middle;\n",
       "    }\n",
       "\n",
       "    .dataframe tbody tr th {\n",
       "        vertical-align: top;\n",
       "    }\n",
       "\n",
       "    .dataframe thead th {\n",
       "        text-align: right;\n",
       "    }\n",
       "</style>\n",
       "<table border=\"1\" class=\"dataframe\">\n",
       "  <thead>\n",
       "    <tr style=\"text-align: right;\">\n",
       "      <th></th>\n",
       "      <th>adult</th>\n",
       "      <th>genres</th>\n",
       "      <th>id</th>\n",
       "      <th>original_title</th>\n",
       "      <th>overview</th>\n",
       "      <th>release_date</th>\n",
       "      <th>runtime</th>\n",
       "      <th>spoken_languages</th>\n",
       "      <th>title</th>\n",
       "      <th>vote_average</th>\n",
       "      <th>vote_count</th>\n",
       "      <th>earnings</th>\n",
       "    </tr>\n",
       "  </thead>\n",
       "  <tbody>\n",
       "    <tr>\n",
       "      <th>0</th>\n",
       "      <td>False</td>\n",
       "      <td>[Animation, Comedy, Family]</td>\n",
       "      <td>862</td>\n",
       "      <td>Toy Story</td>\n",
       "      <td>Led by Woody, Andy's toys live happily in his ...</td>\n",
       "      <td>1995-10-30</td>\n",
       "      <td>81.0</td>\n",
       "      <td>[English]</td>\n",
       "      <td>Toy Story</td>\n",
       "      <td>7.7</td>\n",
       "      <td>5415.0</td>\n",
       "      <td>343554033.0</td>\n",
       "    </tr>\n",
       "    <tr>\n",
       "      <th>1</th>\n",
       "      <td>False</td>\n",
       "      <td>[Adventure, Fantasy, Family]</td>\n",
       "      <td>8844</td>\n",
       "      <td>Jumanji</td>\n",
       "      <td>When siblings Judy and Peter discover an encha...</td>\n",
       "      <td>1995-12-15</td>\n",
       "      <td>104.0</td>\n",
       "      <td>[English, Français]</td>\n",
       "      <td>Jumanji</td>\n",
       "      <td>6.9</td>\n",
       "      <td>2413.0</td>\n",
       "      <td>197797249.0</td>\n",
       "    </tr>\n",
       "  </tbody>\n",
       "</table>\n",
       "</div>"
      ],
      "text/plain": [
       "   adult                        genres    id original_title  \\\n",
       "0  False   [Animation, Comedy, Family]   862      Toy Story   \n",
       "1  False  [Adventure, Fantasy, Family]  8844        Jumanji   \n",
       "\n",
       "                                            overview release_date  runtime  \\\n",
       "0  Led by Woody, Andy's toys live happily in his ...   1995-10-30     81.0   \n",
       "1  When siblings Judy and Peter discover an encha...   1995-12-15    104.0   \n",
       "\n",
       "      spoken_languages      title  vote_average  vote_count     earnings  \n",
       "0            [English]  Toy Story           7.7      5415.0  343554033.0  \n",
       "1  [English, Français]    Jumanji           6.9      2413.0  197797249.0  "
      ]
     },
     "execution_count": 41,
     "metadata": {},
     "output_type": "execute_result"
    }
   ],
   "source": [
    "df_movies.head(2)"
   ]
  },
  {
   "cell_type": "code",
   "execution_count": 42,
   "id": "cf1b81b6",
   "metadata": {
    "execution": {
     "iopub.execute_input": "2023-02-23T17:24:27.456689Z",
     "iopub.status.busy": "2023-02-23T17:24:27.456190Z",
     "iopub.status.idle": "2023-02-23T17:24:27.470314Z",
     "shell.execute_reply": "2023-02-23T17:24:27.468862Z"
    },
    "papermill": {
     "duration": 0.044135,
     "end_time": "2023-02-23T17:24:27.473351",
     "exception": false,
     "start_time": "2023-02-23T17:24:27.429216",
     "status": "completed"
    },
    "tags": []
   },
   "outputs": [],
   "source": [
    "df_movies['adult']=df_movies['adult'].astype(bool).astype(int)\n",
    "df_movies['adult']=df_movies['adult'].replace(1,0)"
   ]
  },
  {
   "cell_type": "code",
   "execution_count": 43,
   "id": "aebb143c",
   "metadata": {
    "execution": {
     "iopub.execute_input": "2023-02-23T17:24:27.527383Z",
     "iopub.status.busy": "2023-02-23T17:24:27.526965Z",
     "iopub.status.idle": "2023-02-23T17:24:27.548117Z",
     "shell.execute_reply": "2023-02-23T17:24:27.546655Z"
    },
    "papermill": {
     "duration": 0.053449,
     "end_time": "2023-02-23T17:24:27.551912",
     "exception": false,
     "start_time": "2023-02-23T17:24:27.498463",
     "status": "completed"
    },
    "tags": []
   },
   "outputs": [
    {
     "data": {
      "text/html": [
       "<div>\n",
       "<style scoped>\n",
       "    .dataframe tbody tr th:only-of-type {\n",
       "        vertical-align: middle;\n",
       "    }\n",
       "\n",
       "    .dataframe tbody tr th {\n",
       "        vertical-align: top;\n",
       "    }\n",
       "\n",
       "    .dataframe thead th {\n",
       "        text-align: right;\n",
       "    }\n",
       "</style>\n",
       "<table border=\"1\" class=\"dataframe\">\n",
       "  <thead>\n",
       "    <tr style=\"text-align: right;\">\n",
       "      <th></th>\n",
       "      <th>adult</th>\n",
       "      <th>genres</th>\n",
       "      <th>id</th>\n",
       "      <th>original_title</th>\n",
       "      <th>overview</th>\n",
       "      <th>release_date</th>\n",
       "      <th>runtime</th>\n",
       "      <th>spoken_languages</th>\n",
       "      <th>title</th>\n",
       "      <th>vote_average</th>\n",
       "      <th>vote_count</th>\n",
       "      <th>earnings</th>\n",
       "    </tr>\n",
       "  </thead>\n",
       "  <tbody>\n",
       "    <tr>\n",
       "      <th>0</th>\n",
       "      <td>0</td>\n",
       "      <td>[Animation, Comedy, Family]</td>\n",
       "      <td>862</td>\n",
       "      <td>Toy Story</td>\n",
       "      <td>Led by Woody, Andy's toys live happily in his ...</td>\n",
       "      <td>1995-10-30</td>\n",
       "      <td>81.0</td>\n",
       "      <td>[English]</td>\n",
       "      <td>Toy Story</td>\n",
       "      <td>7.7</td>\n",
       "      <td>5415.0</td>\n",
       "      <td>343554033.0</td>\n",
       "    </tr>\n",
       "    <tr>\n",
       "      <th>1</th>\n",
       "      <td>0</td>\n",
       "      <td>[Adventure, Fantasy, Family]</td>\n",
       "      <td>8844</td>\n",
       "      <td>Jumanji</td>\n",
       "      <td>When siblings Judy and Peter discover an encha...</td>\n",
       "      <td>1995-12-15</td>\n",
       "      <td>104.0</td>\n",
       "      <td>[English, Français]</td>\n",
       "      <td>Jumanji</td>\n",
       "      <td>6.9</td>\n",
       "      <td>2413.0</td>\n",
       "      <td>197797249.0</td>\n",
       "    </tr>\n",
       "  </tbody>\n",
       "</table>\n",
       "</div>"
      ],
      "text/plain": [
       "   adult                        genres    id original_title  \\\n",
       "0      0   [Animation, Comedy, Family]   862      Toy Story   \n",
       "1      0  [Adventure, Fantasy, Family]  8844        Jumanji   \n",
       "\n",
       "                                            overview release_date  runtime  \\\n",
       "0  Led by Woody, Andy's toys live happily in his ...   1995-10-30     81.0   \n",
       "1  When siblings Judy and Peter discover an encha...   1995-12-15    104.0   \n",
       "\n",
       "      spoken_languages      title  vote_average  vote_count     earnings  \n",
       "0            [English]  Toy Story           7.7      5415.0  343554033.0  \n",
       "1  [English, Français]    Jumanji           6.9      2413.0  197797249.0  "
      ]
     },
     "execution_count": 43,
     "metadata": {},
     "output_type": "execute_result"
    }
   ],
   "source": [
    "df_movies.head(2)"
   ]
  },
  {
   "cell_type": "code",
   "execution_count": 44,
   "id": "4f27fc64",
   "metadata": {
    "execution": {
     "iopub.execute_input": "2023-02-23T17:24:27.607301Z",
     "iopub.status.busy": "2023-02-23T17:24:27.606887Z",
     "iopub.status.idle": "2023-02-23T17:24:28.136034Z",
     "shell.execute_reply": "2023-02-23T17:24:28.134669Z"
    },
    "papermill": {
     "duration": 0.560128,
     "end_time": "2023-02-23T17:24:28.139068",
     "exception": false,
     "start_time": "2023-02-23T17:24:27.578940",
     "status": "completed"
    },
    "tags": []
   },
   "outputs": [],
   "source": [
    "df_movies['overview']=df_movies['overview'].apply(lambda x:x.split())"
   ]
  },
  {
   "cell_type": "code",
   "execution_count": 45,
   "id": "dfd14dc6",
   "metadata": {
    "execution": {
     "iopub.execute_input": "2023-02-23T17:24:28.190898Z",
     "iopub.status.busy": "2023-02-23T17:24:28.190444Z",
     "iopub.status.idle": "2023-02-23T17:24:28.215249Z",
     "shell.execute_reply": "2023-02-23T17:24:28.213140Z"
    },
    "papermill": {
     "duration": 0.054842,
     "end_time": "2023-02-23T17:24:28.218721",
     "exception": false,
     "start_time": "2023-02-23T17:24:28.163879",
     "status": "completed"
    },
    "tags": []
   },
   "outputs": [
    {
     "data": {
      "text/html": [
       "<div>\n",
       "<style scoped>\n",
       "    .dataframe tbody tr th:only-of-type {\n",
       "        vertical-align: middle;\n",
       "    }\n",
       "\n",
       "    .dataframe tbody tr th {\n",
       "        vertical-align: top;\n",
       "    }\n",
       "\n",
       "    .dataframe thead th {\n",
       "        text-align: right;\n",
       "    }\n",
       "</style>\n",
       "<table border=\"1\" class=\"dataframe\">\n",
       "  <thead>\n",
       "    <tr style=\"text-align: right;\">\n",
       "      <th></th>\n",
       "      <th>adult</th>\n",
       "      <th>genres</th>\n",
       "      <th>id</th>\n",
       "      <th>original_title</th>\n",
       "      <th>overview</th>\n",
       "      <th>release_date</th>\n",
       "      <th>runtime</th>\n",
       "      <th>spoken_languages</th>\n",
       "      <th>title</th>\n",
       "      <th>vote_average</th>\n",
       "      <th>vote_count</th>\n",
       "      <th>earnings</th>\n",
       "    </tr>\n",
       "  </thead>\n",
       "  <tbody>\n",
       "    <tr>\n",
       "      <th>0</th>\n",
       "      <td>0</td>\n",
       "      <td>[Animation, Comedy, Family]</td>\n",
       "      <td>862</td>\n",
       "      <td>Toy Story</td>\n",
       "      <td>[Led, by, Woody,, Andy's, toys, live, happily,...</td>\n",
       "      <td>1995-10-30</td>\n",
       "      <td>81.0</td>\n",
       "      <td>[English]</td>\n",
       "      <td>Toy Story</td>\n",
       "      <td>7.7</td>\n",
       "      <td>5415.0</td>\n",
       "      <td>343554033.0</td>\n",
       "    </tr>\n",
       "    <tr>\n",
       "      <th>1</th>\n",
       "      <td>0</td>\n",
       "      <td>[Adventure, Fantasy, Family]</td>\n",
       "      <td>8844</td>\n",
       "      <td>Jumanji</td>\n",
       "      <td>[When, siblings, Judy, and, Peter, discover, a...</td>\n",
       "      <td>1995-12-15</td>\n",
       "      <td>104.0</td>\n",
       "      <td>[English, Français]</td>\n",
       "      <td>Jumanji</td>\n",
       "      <td>6.9</td>\n",
       "      <td>2413.0</td>\n",
       "      <td>197797249.0</td>\n",
       "    </tr>\n",
       "  </tbody>\n",
       "</table>\n",
       "</div>"
      ],
      "text/plain": [
       "   adult                        genres    id original_title  \\\n",
       "0      0   [Animation, Comedy, Family]   862      Toy Story   \n",
       "1      0  [Adventure, Fantasy, Family]  8844        Jumanji   \n",
       "\n",
       "                                            overview release_date  runtime  \\\n",
       "0  [Led, by, Woody,, Andy's, toys, live, happily,...   1995-10-30     81.0   \n",
       "1  [When, siblings, Judy, and, Peter, discover, a...   1995-12-15    104.0   \n",
       "\n",
       "      spoken_languages      title  vote_average  vote_count     earnings  \n",
       "0            [English]  Toy Story           7.7      5415.0  343554033.0  \n",
       "1  [English, Français]    Jumanji           6.9      2413.0  197797249.0  "
      ]
     },
     "execution_count": 45,
     "metadata": {},
     "output_type": "execute_result"
    }
   ],
   "source": [
    "df_movies.head(2)"
   ]
  },
  {
   "cell_type": "code",
   "execution_count": 46,
   "id": "50e796cc",
   "metadata": {
    "execution": {
     "iopub.execute_input": "2023-02-23T17:24:28.272393Z",
     "iopub.status.busy": "2023-02-23T17:24:28.271905Z",
     "iopub.status.idle": "2023-02-23T17:24:28.286256Z",
     "shell.execute_reply": "2023-02-23T17:24:28.284911Z"
    },
    "papermill": {
     "duration": 0.044422,
     "end_time": "2023-02-23T17:24:28.288481",
     "exception": false,
     "start_time": "2023-02-23T17:24:28.244059",
     "status": "completed"
    },
    "tags": []
   },
   "outputs": [
    {
     "data": {
      "text/html": [
       "<div>\n",
       "<style scoped>\n",
       "    .dataframe tbody tr th:only-of-type {\n",
       "        vertical-align: middle;\n",
       "    }\n",
       "\n",
       "    .dataframe tbody tr th {\n",
       "        vertical-align: top;\n",
       "    }\n",
       "\n",
       "    .dataframe thead th {\n",
       "        text-align: right;\n",
       "    }\n",
       "</style>\n",
       "<table border=\"1\" class=\"dataframe\">\n",
       "  <thead>\n",
       "    <tr style=\"text-align: right;\">\n",
       "      <th></th>\n",
       "      <th>id</th>\n",
       "      <th>director</th>\n",
       "      <th>cast</th>\n",
       "    </tr>\n",
       "  </thead>\n",
       "  <tbody>\n",
       "    <tr>\n",
       "      <th>0</th>\n",
       "      <td>862</td>\n",
       "      <td>[John Lasseter]</td>\n",
       "      <td>[Tom Hanks, Tim Allen, Don Rickles]</td>\n",
       "    </tr>\n",
       "    <tr>\n",
       "      <th>1</th>\n",
       "      <td>8844</td>\n",
       "      <td>[Joe Johnston]</td>\n",
       "      <td>[Robin Williams, Jonathan Hyde, Kirsten Dunst]</td>\n",
       "    </tr>\n",
       "  </tbody>\n",
       "</table>\n",
       "</div>"
      ],
      "text/plain": [
       "     id         director                                            cast\n",
       "0   862  [John Lasseter]             [Tom Hanks, Tim Allen, Don Rickles]\n",
       "1  8844   [Joe Johnston]  [Robin Williams, Jonathan Hyde, Kirsten Dunst]"
      ]
     },
     "execution_count": 46,
     "metadata": {},
     "output_type": "execute_result"
    }
   ],
   "source": [
    "df_credits.head(2)"
   ]
  },
  {
   "cell_type": "code",
   "execution_count": 47,
   "id": "c37e2117",
   "metadata": {
    "execution": {
     "iopub.execute_input": "2023-02-23T17:24:28.341988Z",
     "iopub.status.busy": "2023-02-23T17:24:28.341564Z",
     "iopub.status.idle": "2023-02-23T17:24:28.353001Z",
     "shell.execute_reply": "2023-02-23T17:24:28.351506Z"
    },
    "papermill": {
     "duration": 0.04104,
     "end_time": "2023-02-23T17:24:28.355688",
     "exception": false,
     "start_time": "2023-02-23T17:24:28.314648",
     "status": "completed"
    },
    "tags": []
   },
   "outputs": [
    {
     "data": {
      "text/html": [
       "<div>\n",
       "<style scoped>\n",
       "    .dataframe tbody tr th:only-of-type {\n",
       "        vertical-align: middle;\n",
       "    }\n",
       "\n",
       "    .dataframe tbody tr th {\n",
       "        vertical-align: top;\n",
       "    }\n",
       "\n",
       "    .dataframe thead th {\n",
       "        text-align: right;\n",
       "    }\n",
       "</style>\n",
       "<table border=\"1\" class=\"dataframe\">\n",
       "  <thead>\n",
       "    <tr style=\"text-align: right;\">\n",
       "      <th></th>\n",
       "      <th>id</th>\n",
       "      <th>keywords</th>\n",
       "    </tr>\n",
       "  </thead>\n",
       "  <tbody>\n",
       "    <tr>\n",
       "      <th>0</th>\n",
       "      <td>862</td>\n",
       "      <td>[jealousy, toy, boy, friendship, friends, riva...</td>\n",
       "    </tr>\n",
       "    <tr>\n",
       "      <th>1</th>\n",
       "      <td>8844</td>\n",
       "      <td>[board game, disappearance, based on children'...</td>\n",
       "    </tr>\n",
       "  </tbody>\n",
       "</table>\n",
       "</div>"
      ],
      "text/plain": [
       "     id                                           keywords\n",
       "0   862  [jealousy, toy, boy, friendship, friends, riva...\n",
       "1  8844  [board game, disappearance, based on children'..."
      ]
     },
     "execution_count": 47,
     "metadata": {},
     "output_type": "execute_result"
    }
   ],
   "source": [
    "df_keywords.head(2)"
   ]
  },
  {
   "cell_type": "code",
   "execution_count": 48,
   "id": "374df770",
   "metadata": {
    "execution": {
     "iopub.execute_input": "2023-02-23T17:24:28.411320Z",
     "iopub.status.busy": "2023-02-23T17:24:28.410411Z",
     "iopub.status.idle": "2023-02-23T17:24:28.432808Z",
     "shell.execute_reply": "2023-02-23T17:24:28.431299Z"
    },
    "papermill": {
     "duration": 0.053519,
     "end_time": "2023-02-23T17:24:28.435307",
     "exception": false,
     "start_time": "2023-02-23T17:24:28.381788",
     "status": "completed"
    },
    "tags": []
   },
   "outputs": [
    {
     "data": {
      "text/html": [
       "<div>\n",
       "<style scoped>\n",
       "    .dataframe tbody tr th:only-of-type {\n",
       "        vertical-align: middle;\n",
       "    }\n",
       "\n",
       "    .dataframe tbody tr th {\n",
       "        vertical-align: top;\n",
       "    }\n",
       "\n",
       "    .dataframe thead th {\n",
       "        text-align: right;\n",
       "    }\n",
       "</style>\n",
       "<table border=\"1\" class=\"dataframe\">\n",
       "  <thead>\n",
       "    <tr style=\"text-align: right;\">\n",
       "      <th></th>\n",
       "      <th>adult</th>\n",
       "      <th>genres</th>\n",
       "      <th>id</th>\n",
       "      <th>original_title</th>\n",
       "      <th>overview</th>\n",
       "      <th>release_date</th>\n",
       "      <th>runtime</th>\n",
       "      <th>spoken_languages</th>\n",
       "      <th>title</th>\n",
       "      <th>vote_average</th>\n",
       "      <th>vote_count</th>\n",
       "      <th>earnings</th>\n",
       "    </tr>\n",
       "  </thead>\n",
       "  <tbody>\n",
       "    <tr>\n",
       "      <th>0</th>\n",
       "      <td>0</td>\n",
       "      <td>[Animation, Comedy, Family]</td>\n",
       "      <td>862</td>\n",
       "      <td>Toy Story</td>\n",
       "      <td>[Led, by, Woody,, Andy's, toys, live, happily,...</td>\n",
       "      <td>1995-10-30</td>\n",
       "      <td>81.0</td>\n",
       "      <td>[English]</td>\n",
       "      <td>Toy Story</td>\n",
       "      <td>7.7</td>\n",
       "      <td>5415.0</td>\n",
       "      <td>343554033.0</td>\n",
       "    </tr>\n",
       "    <tr>\n",
       "      <th>1</th>\n",
       "      <td>0</td>\n",
       "      <td>[Adventure, Fantasy, Family]</td>\n",
       "      <td>8844</td>\n",
       "      <td>Jumanji</td>\n",
       "      <td>[When, siblings, Judy, and, Peter, discover, a...</td>\n",
       "      <td>1995-12-15</td>\n",
       "      <td>104.0</td>\n",
       "      <td>[English, Français]</td>\n",
       "      <td>Jumanji</td>\n",
       "      <td>6.9</td>\n",
       "      <td>2413.0</td>\n",
       "      <td>197797249.0</td>\n",
       "    </tr>\n",
       "  </tbody>\n",
       "</table>\n",
       "</div>"
      ],
      "text/plain": [
       "   adult                        genres    id original_title  \\\n",
       "0      0   [Animation, Comedy, Family]   862      Toy Story   \n",
       "1      0  [Adventure, Fantasy, Family]  8844        Jumanji   \n",
       "\n",
       "                                            overview release_date  runtime  \\\n",
       "0  [Led, by, Woody,, Andy's, toys, live, happily,...   1995-10-30     81.0   \n",
       "1  [When, siblings, Judy, and, Peter, discover, a...   1995-12-15    104.0   \n",
       "\n",
       "      spoken_languages      title  vote_average  vote_count     earnings  \n",
       "0            [English]  Toy Story           7.7      5415.0  343554033.0  \n",
       "1  [English, Français]    Jumanji           6.9      2413.0  197797249.0  "
      ]
     },
     "execution_count": 48,
     "metadata": {},
     "output_type": "execute_result"
    }
   ],
   "source": [
    "df_movies.head(2)"
   ]
  },
  {
   "cell_type": "markdown",
   "id": "ebb04e89",
   "metadata": {
    "execution": {
     "iopub.execute_input": "2023-02-21T16:41:32.642229Z",
     "iopub.status.busy": "2023-02-21T16:41:32.641769Z",
     "iopub.status.idle": "2023-02-21T16:41:32.646878Z",
     "shell.execute_reply": "2023-02-21T16:41:32.645950Z",
     "shell.execute_reply.started": "2023-02-21T16:41:32.642191Z"
    },
    "papermill": {
     "duration": 0.025644,
     "end_time": "2023-02-23T17:24:28.487483",
     "exception": false,
     "start_time": "2023-02-23T17:24:28.461839",
     "status": "completed"
    },
    "tags": []
   },
   "source": [
    "### Merging "
   ]
  },
  {
   "cell_type": "code",
   "execution_count": 49,
   "id": "631ee3b6",
   "metadata": {
    "execution": {
     "iopub.execute_input": "2023-02-23T17:24:28.544969Z",
     "iopub.status.busy": "2023-02-23T17:24:28.544201Z",
     "iopub.status.idle": "2023-02-23T17:24:28.581850Z",
     "shell.execute_reply": "2023-02-23T17:24:28.580340Z"
    },
    "papermill": {
     "duration": 0.070485,
     "end_time": "2023-02-23T17:24:28.584837",
     "exception": false,
     "start_time": "2023-02-23T17:24:28.514352",
     "status": "completed"
    },
    "tags": []
   },
   "outputs": [],
   "source": [
    "final_df1=pd.merge(df_credits,df_keywords,on='id')"
   ]
  },
  {
   "cell_type": "code",
   "execution_count": 50,
   "id": "76d55e5f",
   "metadata": {
    "execution": {
     "iopub.execute_input": "2023-02-23T17:24:28.640216Z",
     "iopub.status.busy": "2023-02-23T17:24:28.639588Z",
     "iopub.status.idle": "2023-02-23T17:24:28.655796Z",
     "shell.execute_reply": "2023-02-23T17:24:28.654499Z"
    },
    "papermill": {
     "duration": 0.046394,
     "end_time": "2023-02-23T17:24:28.658424",
     "exception": false,
     "start_time": "2023-02-23T17:24:28.612030",
     "status": "completed"
    },
    "tags": []
   },
   "outputs": [
    {
     "data": {
      "text/html": [
       "<div>\n",
       "<style scoped>\n",
       "    .dataframe tbody tr th:only-of-type {\n",
       "        vertical-align: middle;\n",
       "    }\n",
       "\n",
       "    .dataframe tbody tr th {\n",
       "        vertical-align: top;\n",
       "    }\n",
       "\n",
       "    .dataframe thead th {\n",
       "        text-align: right;\n",
       "    }\n",
       "</style>\n",
       "<table border=\"1\" class=\"dataframe\">\n",
       "  <thead>\n",
       "    <tr style=\"text-align: right;\">\n",
       "      <th></th>\n",
       "      <th>id</th>\n",
       "      <th>director</th>\n",
       "      <th>cast</th>\n",
       "      <th>keywords</th>\n",
       "    </tr>\n",
       "  </thead>\n",
       "  <tbody>\n",
       "    <tr>\n",
       "      <th>0</th>\n",
       "      <td>862</td>\n",
       "      <td>[John Lasseter]</td>\n",
       "      <td>[Tom Hanks, Tim Allen, Don Rickles]</td>\n",
       "      <td>[jealousy, toy, boy, friendship, friends, riva...</td>\n",
       "    </tr>\n",
       "    <tr>\n",
       "      <th>1</th>\n",
       "      <td>8844</td>\n",
       "      <td>[Joe Johnston]</td>\n",
       "      <td>[Robin Williams, Jonathan Hyde, Kirsten Dunst]</td>\n",
       "      <td>[board game, disappearance, based on children'...</td>\n",
       "    </tr>\n",
       "    <tr>\n",
       "      <th>2</th>\n",
       "      <td>15602</td>\n",
       "      <td>[Howard Deutch]</td>\n",
       "      <td>[Walter Matthau, Jack Lemmon, Ann-Margret]</td>\n",
       "      <td>[fishing, best friend, duringcreditsstinger, o...</td>\n",
       "    </tr>\n",
       "  </tbody>\n",
       "</table>\n",
       "</div>"
      ],
      "text/plain": [
       "      id         director                                            cast  \\\n",
       "0    862  [John Lasseter]             [Tom Hanks, Tim Allen, Don Rickles]   \n",
       "1   8844   [Joe Johnston]  [Robin Williams, Jonathan Hyde, Kirsten Dunst]   \n",
       "2  15602  [Howard Deutch]      [Walter Matthau, Jack Lemmon, Ann-Margret]   \n",
       "\n",
       "                                            keywords  \n",
       "0  [jealousy, toy, boy, friendship, friends, riva...  \n",
       "1  [board game, disappearance, based on children'...  \n",
       "2  [fishing, best friend, duringcreditsstinger, o...  "
      ]
     },
     "execution_count": 50,
     "metadata": {},
     "output_type": "execute_result"
    }
   ],
   "source": [
    "final_df1.head(3)"
   ]
  },
  {
   "cell_type": "code",
   "execution_count": 51,
   "id": "26ed80e7",
   "metadata": {
    "execution": {
     "iopub.execute_input": "2023-02-23T17:24:28.714138Z",
     "iopub.status.busy": "2023-02-23T17:24:28.712888Z",
     "iopub.status.idle": "2023-02-23T17:24:28.722238Z",
     "shell.execute_reply": "2023-02-23T17:24:28.720899Z"
    },
    "papermill": {
     "duration": 0.03983,
     "end_time": "2023-02-23T17:24:28.724830",
     "exception": false,
     "start_time": "2023-02-23T17:24:28.685000",
     "status": "completed"
    },
    "tags": []
   },
   "outputs": [
    {
     "data": {
      "text/plain": [
       "adult                 int64\n",
       "genres               object\n",
       "id                   object\n",
       "original_title       object\n",
       "overview             object\n",
       "release_date         object\n",
       "runtime             float64\n",
       "spoken_languages     object\n",
       "title                object\n",
       "vote_average        float64\n",
       "vote_count          float64\n",
       "earnings            float64\n",
       "dtype: object"
      ]
     },
     "execution_count": 51,
     "metadata": {},
     "output_type": "execute_result"
    }
   ],
   "source": [
    "df_movies.dtypes"
   ]
  },
  {
   "cell_type": "code",
   "execution_count": 52,
   "id": "a109d5f0",
   "metadata": {
    "execution": {
     "iopub.execute_input": "2023-02-23T17:24:28.780734Z",
     "iopub.status.busy": "2023-02-23T17:24:28.779467Z",
     "iopub.status.idle": "2023-02-23T17:24:28.820254Z",
     "shell.execute_reply": "2023-02-23T17:24:28.819064Z"
    },
    "papermill": {
     "duration": 0.072371,
     "end_time": "2023-02-23T17:24:28.823040",
     "exception": false,
     "start_time": "2023-02-23T17:24:28.750669",
     "status": "completed"
    },
    "tags": []
   },
   "outputs": [],
   "source": [
    "df_movies['id']=df_movies['id'].astype(int)\n",
    "df_movies['release_date']=pd.to_datetime(df_movies['release_date'])"
   ]
  },
  {
   "cell_type": "code",
   "execution_count": 53,
   "id": "9032c3d2",
   "metadata": {
    "execution": {
     "iopub.execute_input": "2023-02-23T17:24:28.881750Z",
     "iopub.status.busy": "2023-02-23T17:24:28.880186Z",
     "iopub.status.idle": "2023-02-23T17:24:28.901049Z",
     "shell.execute_reply": "2023-02-23T17:24:28.899817Z"
    },
    "papermill": {
     "duration": 0.05289,
     "end_time": "2023-02-23T17:24:28.903850",
     "exception": false,
     "start_time": "2023-02-23T17:24:28.850960",
     "status": "completed"
    },
    "tags": []
   },
   "outputs": [
    {
     "data": {
      "text/html": [
       "<div>\n",
       "<style scoped>\n",
       "    .dataframe tbody tr th:only-of-type {\n",
       "        vertical-align: middle;\n",
       "    }\n",
       "\n",
       "    .dataframe tbody tr th {\n",
       "        vertical-align: top;\n",
       "    }\n",
       "\n",
       "    .dataframe thead th {\n",
       "        text-align: right;\n",
       "    }\n",
       "</style>\n",
       "<table border=\"1\" class=\"dataframe\">\n",
       "  <thead>\n",
       "    <tr style=\"text-align: right;\">\n",
       "      <th></th>\n",
       "      <th>adult</th>\n",
       "      <th>genres</th>\n",
       "      <th>id</th>\n",
       "      <th>original_title</th>\n",
       "      <th>overview</th>\n",
       "      <th>release_date</th>\n",
       "      <th>runtime</th>\n",
       "      <th>spoken_languages</th>\n",
       "      <th>title</th>\n",
       "      <th>vote_average</th>\n",
       "      <th>vote_count</th>\n",
       "      <th>earnings</th>\n",
       "    </tr>\n",
       "  </thead>\n",
       "  <tbody>\n",
       "    <tr>\n",
       "      <th>0</th>\n",
       "      <td>0</td>\n",
       "      <td>[Animation, Comedy, Family]</td>\n",
       "      <td>862</td>\n",
       "      <td>Toy Story</td>\n",
       "      <td>[Led, by, Woody,, Andy's, toys, live, happily,...</td>\n",
       "      <td>1995-10-30</td>\n",
       "      <td>81.0</td>\n",
       "      <td>[English]</td>\n",
       "      <td>Toy Story</td>\n",
       "      <td>7.7</td>\n",
       "      <td>5415.0</td>\n",
       "      <td>343554033.0</td>\n",
       "    </tr>\n",
       "  </tbody>\n",
       "</table>\n",
       "</div>"
      ],
      "text/plain": [
       "   adult                       genres   id original_title  \\\n",
       "0      0  [Animation, Comedy, Family]  862      Toy Story   \n",
       "\n",
       "                                            overview release_date  runtime  \\\n",
       "0  [Led, by, Woody,, Andy's, toys, live, happily,...   1995-10-30     81.0   \n",
       "\n",
       "  spoken_languages      title  vote_average  vote_count     earnings  \n",
       "0        [English]  Toy Story           7.7      5415.0  343554033.0  "
      ]
     },
     "execution_count": 53,
     "metadata": {},
     "output_type": "execute_result"
    }
   ],
   "source": [
    "df_movies.head(1)"
   ]
  },
  {
   "cell_type": "code",
   "execution_count": 54,
   "id": "d2d270e6",
   "metadata": {
    "execution": {
     "iopub.execute_input": "2023-02-23T17:24:28.959816Z",
     "iopub.status.busy": "2023-02-23T17:24:28.959356Z",
     "iopub.status.idle": "2023-02-23T17:24:29.011785Z",
     "shell.execute_reply": "2023-02-23T17:24:29.010506Z"
    },
    "papermill": {
     "duration": 0.083852,
     "end_time": "2023-02-23T17:24:29.014916",
     "exception": false,
     "start_time": "2023-02-23T17:24:28.931064",
     "status": "completed"
    },
    "tags": []
   },
   "outputs": [],
   "source": [
    "final_df=pd.merge(final_df1,df_movies,on='id')"
   ]
  },
  {
   "cell_type": "code",
   "execution_count": 55,
   "id": "e308414e",
   "metadata": {
    "execution": {
     "iopub.execute_input": "2023-02-23T17:24:29.070463Z",
     "iopub.status.busy": "2023-02-23T17:24:29.069995Z",
     "iopub.status.idle": "2023-02-23T17:24:29.096001Z",
     "shell.execute_reply": "2023-02-23T17:24:29.094773Z"
    },
    "papermill": {
     "duration": 0.056758,
     "end_time": "2023-02-23T17:24:29.098551",
     "exception": false,
     "start_time": "2023-02-23T17:24:29.041793",
     "status": "completed"
    },
    "tags": []
   },
   "outputs": [
    {
     "data": {
      "text/html": [
       "<div>\n",
       "<style scoped>\n",
       "    .dataframe tbody tr th:only-of-type {\n",
       "        vertical-align: middle;\n",
       "    }\n",
       "\n",
       "    .dataframe tbody tr th {\n",
       "        vertical-align: top;\n",
       "    }\n",
       "\n",
       "    .dataframe thead th {\n",
       "        text-align: right;\n",
       "    }\n",
       "</style>\n",
       "<table border=\"1\" class=\"dataframe\">\n",
       "  <thead>\n",
       "    <tr style=\"text-align: right;\">\n",
       "      <th></th>\n",
       "      <th>id</th>\n",
       "      <th>director</th>\n",
       "      <th>cast</th>\n",
       "      <th>keywords</th>\n",
       "      <th>adult</th>\n",
       "      <th>genres</th>\n",
       "      <th>original_title</th>\n",
       "      <th>overview</th>\n",
       "      <th>release_date</th>\n",
       "      <th>runtime</th>\n",
       "      <th>spoken_languages</th>\n",
       "      <th>title</th>\n",
       "      <th>vote_average</th>\n",
       "      <th>vote_count</th>\n",
       "      <th>earnings</th>\n",
       "    </tr>\n",
       "  </thead>\n",
       "  <tbody>\n",
       "    <tr>\n",
       "      <th>0</th>\n",
       "      <td>862</td>\n",
       "      <td>[John Lasseter]</td>\n",
       "      <td>[Tom Hanks, Tim Allen, Don Rickles]</td>\n",
       "      <td>[jealousy, toy, boy, friendship, friends, riva...</td>\n",
       "      <td>0</td>\n",
       "      <td>[Animation, Comedy, Family]</td>\n",
       "      <td>Toy Story</td>\n",
       "      <td>[Led, by, Woody,, Andy's, toys, live, happily,...</td>\n",
       "      <td>1995-10-30</td>\n",
       "      <td>81.0</td>\n",
       "      <td>[English]</td>\n",
       "      <td>Toy Story</td>\n",
       "      <td>7.7</td>\n",
       "      <td>5415.0</td>\n",
       "      <td>343554033.0</td>\n",
       "    </tr>\n",
       "    <tr>\n",
       "      <th>1</th>\n",
       "      <td>8844</td>\n",
       "      <td>[Joe Johnston]</td>\n",
       "      <td>[Robin Williams, Jonathan Hyde, Kirsten Dunst]</td>\n",
       "      <td>[board game, disappearance, based on children'...</td>\n",
       "      <td>0</td>\n",
       "      <td>[Adventure, Fantasy, Family]</td>\n",
       "      <td>Jumanji</td>\n",
       "      <td>[When, siblings, Judy, and, Peter, discover, a...</td>\n",
       "      <td>1995-12-15</td>\n",
       "      <td>104.0</td>\n",
       "      <td>[English, Français]</td>\n",
       "      <td>Jumanji</td>\n",
       "      <td>6.9</td>\n",
       "      <td>2413.0</td>\n",
       "      <td>197797249.0</td>\n",
       "    </tr>\n",
       "  </tbody>\n",
       "</table>\n",
       "</div>"
      ],
      "text/plain": [
       "     id         director                                            cast  \\\n",
       "0   862  [John Lasseter]             [Tom Hanks, Tim Allen, Don Rickles]   \n",
       "1  8844   [Joe Johnston]  [Robin Williams, Jonathan Hyde, Kirsten Dunst]   \n",
       "\n",
       "                                            keywords  adult  \\\n",
       "0  [jealousy, toy, boy, friendship, friends, riva...      0   \n",
       "1  [board game, disappearance, based on children'...      0   \n",
       "\n",
       "                         genres original_title  \\\n",
       "0   [Animation, Comedy, Family]      Toy Story   \n",
       "1  [Adventure, Fantasy, Family]        Jumanji   \n",
       "\n",
       "                                            overview release_date  runtime  \\\n",
       "0  [Led, by, Woody,, Andy's, toys, live, happily,...   1995-10-30     81.0   \n",
       "1  [When, siblings, Judy, and, Peter, discover, a...   1995-12-15    104.0   \n",
       "\n",
       "      spoken_languages      title  vote_average  vote_count     earnings  \n",
       "0            [English]  Toy Story           7.7      5415.0  343554033.0  \n",
       "1  [English, Français]    Jumanji           6.9      2413.0  197797249.0  "
      ]
     },
     "execution_count": 55,
     "metadata": {},
     "output_type": "execute_result"
    }
   ],
   "source": [
    "final_df.head(2)"
   ]
  },
  {
   "cell_type": "code",
   "execution_count": 56,
   "id": "43ec95c9",
   "metadata": {
    "execution": {
     "iopub.execute_input": "2023-02-23T17:24:29.155284Z",
     "iopub.status.busy": "2023-02-23T17:24:29.154847Z",
     "iopub.status.idle": "2023-02-23T17:24:29.163219Z",
     "shell.execute_reply": "2023-02-23T17:24:29.161890Z"
    },
    "papermill": {
     "duration": 0.040777,
     "end_time": "2023-02-23T17:24:29.165857",
     "exception": false,
     "start_time": "2023-02-23T17:24:29.125080",
     "status": "completed"
    },
    "tags": []
   },
   "outputs": [
    {
     "data": {
      "text/plain": [
       "Index(['id', 'director', 'cast', 'keywords', 'adult', 'genres',\n",
       "       'original_title', 'overview', 'release_date', 'runtime',\n",
       "       'spoken_languages', 'title', 'vote_average', 'vote_count', 'earnings'],\n",
       "      dtype='object')"
      ]
     },
     "execution_count": 56,
     "metadata": {},
     "output_type": "execute_result"
    }
   ],
   "source": [
    "final_df.columns"
   ]
  },
  {
   "cell_type": "code",
   "execution_count": 57,
   "id": "232ee985",
   "metadata": {
    "execution": {
     "iopub.execute_input": "2023-02-23T17:24:29.224074Z",
     "iopub.status.busy": "2023-02-23T17:24:29.223647Z",
     "iopub.status.idle": "2023-02-23T17:24:29.249896Z",
     "shell.execute_reply": "2023-02-23T17:24:29.248844Z"
    },
    "papermill": {
     "duration": 0.058493,
     "end_time": "2023-02-23T17:24:29.252865",
     "exception": false,
     "start_time": "2023-02-23T17:24:29.194372",
     "status": "completed"
    },
    "tags": []
   },
   "outputs": [],
   "source": [
    "df1=final_df[['id','title','overview','genres','keywords','cast','director']]"
   ]
  },
  {
   "cell_type": "code",
   "execution_count": 58,
   "id": "204bdaf2",
   "metadata": {
    "execution": {
     "iopub.execute_input": "2023-02-23T17:24:29.309730Z",
     "iopub.status.busy": "2023-02-23T17:24:29.309302Z",
     "iopub.status.idle": "2023-02-23T17:24:29.325972Z",
     "shell.execute_reply": "2023-02-23T17:24:29.324362Z"
    },
    "papermill": {
     "duration": 0.049832,
     "end_time": "2023-02-23T17:24:29.329538",
     "exception": false,
     "start_time": "2023-02-23T17:24:29.279706",
     "status": "completed"
    },
    "tags": []
   },
   "outputs": [
    {
     "data": {
      "text/html": [
       "<div>\n",
       "<style scoped>\n",
       "    .dataframe tbody tr th:only-of-type {\n",
       "        vertical-align: middle;\n",
       "    }\n",
       "\n",
       "    .dataframe tbody tr th {\n",
       "        vertical-align: top;\n",
       "    }\n",
       "\n",
       "    .dataframe thead th {\n",
       "        text-align: right;\n",
       "    }\n",
       "</style>\n",
       "<table border=\"1\" class=\"dataframe\">\n",
       "  <thead>\n",
       "    <tr style=\"text-align: right;\">\n",
       "      <th></th>\n",
       "      <th>id</th>\n",
       "      <th>title</th>\n",
       "      <th>overview</th>\n",
       "      <th>genres</th>\n",
       "      <th>keywords</th>\n",
       "      <th>cast</th>\n",
       "      <th>director</th>\n",
       "    </tr>\n",
       "  </thead>\n",
       "  <tbody>\n",
       "    <tr>\n",
       "      <th>0</th>\n",
       "      <td>862</td>\n",
       "      <td>Toy Story</td>\n",
       "      <td>[Led, by, Woody,, Andy's, toys, live, happily,...</td>\n",
       "      <td>[Animation, Comedy, Family]</td>\n",
       "      <td>[jealousy, toy, boy, friendship, friends, riva...</td>\n",
       "      <td>[Tom Hanks, Tim Allen, Don Rickles]</td>\n",
       "      <td>[John Lasseter]</td>\n",
       "    </tr>\n",
       "  </tbody>\n",
       "</table>\n",
       "</div>"
      ],
      "text/plain": [
       "    id      title                                           overview  \\\n",
       "0  862  Toy Story  [Led, by, Woody,, Andy's, toys, live, happily,...   \n",
       "\n",
       "                        genres  \\\n",
       "0  [Animation, Comedy, Family]   \n",
       "\n",
       "                                            keywords  \\\n",
       "0  [jealousy, toy, boy, friendship, friends, riva...   \n",
       "\n",
       "                                  cast         director  \n",
       "0  [Tom Hanks, Tim Allen, Don Rickles]  [John Lasseter]  "
      ]
     },
     "execution_count": 58,
     "metadata": {},
     "output_type": "execute_result"
    }
   ],
   "source": [
    "df1.head(1)"
   ]
  },
  {
   "cell_type": "code",
   "execution_count": 59,
   "id": "9069020d",
   "metadata": {
    "execution": {
     "iopub.execute_input": "2023-02-23T17:24:29.386816Z",
     "iopub.status.busy": "2023-02-23T17:24:29.386346Z",
     "iopub.status.idle": "2023-02-23T17:24:29.909324Z",
     "shell.execute_reply": "2023-02-23T17:24:29.907675Z"
    },
    "papermill": {
     "duration": 0.555733,
     "end_time": "2023-02-23T17:24:29.912257",
     "exception": false,
     "start_time": "2023-02-23T17:24:29.356524",
     "status": "completed"
    },
    "tags": []
   },
   "outputs": [],
   "source": [
    "df1['genres']=df1['genres'].apply(lambda x:[i.replace(\" \",'')for i in x])\n",
    "df1['keywords']=df1['keywords'].apply(lambda x:[i.replace(\" \",'')for i in x])\n",
    "df1['cast']=df1['cast'].apply(lambda x:[i.replace(\" \",'')for i in x])\n",
    "df1['director']=df1['director'].apply(lambda x:[i.replace(\" \",'')for i in x])"
   ]
  },
  {
   "cell_type": "code",
   "execution_count": 60,
   "id": "e56268b5",
   "metadata": {
    "execution": {
     "iopub.execute_input": "2023-02-23T17:24:29.971543Z",
     "iopub.status.busy": "2023-02-23T17:24:29.970570Z",
     "iopub.status.idle": "2023-02-23T17:24:29.992874Z",
     "shell.execute_reply": "2023-02-23T17:24:29.991893Z"
    },
    "papermill": {
     "duration": 0.054946,
     "end_time": "2023-02-23T17:24:29.995749",
     "exception": false,
     "start_time": "2023-02-23T17:24:29.940803",
     "status": "completed"
    },
    "tags": []
   },
   "outputs": [
    {
     "data": {
      "text/html": [
       "<div>\n",
       "<style scoped>\n",
       "    .dataframe tbody tr th:only-of-type {\n",
       "        vertical-align: middle;\n",
       "    }\n",
       "\n",
       "    .dataframe tbody tr th {\n",
       "        vertical-align: top;\n",
       "    }\n",
       "\n",
       "    .dataframe thead th {\n",
       "        text-align: right;\n",
       "    }\n",
       "</style>\n",
       "<table border=\"1\" class=\"dataframe\">\n",
       "  <thead>\n",
       "    <tr style=\"text-align: right;\">\n",
       "      <th></th>\n",
       "      <th>id</th>\n",
       "      <th>title</th>\n",
       "      <th>overview</th>\n",
       "      <th>genres</th>\n",
       "      <th>keywords</th>\n",
       "      <th>cast</th>\n",
       "      <th>director</th>\n",
       "    </tr>\n",
       "  </thead>\n",
       "  <tbody>\n",
       "    <tr>\n",
       "      <th>0</th>\n",
       "      <td>862</td>\n",
       "      <td>Toy Story</td>\n",
       "      <td>[Led, by, Woody,, Andy's, toys, live, happily,...</td>\n",
       "      <td>[Animation, Comedy, Family]</td>\n",
       "      <td>[jealousy, toy, boy, friendship, friends, riva...</td>\n",
       "      <td>[TomHanks, TimAllen, DonRickles]</td>\n",
       "      <td>[JohnLasseter]</td>\n",
       "    </tr>\n",
       "    <tr>\n",
       "      <th>1</th>\n",
       "      <td>8844</td>\n",
       "      <td>Jumanji</td>\n",
       "      <td>[When, siblings, Judy, and, Peter, discover, a...</td>\n",
       "      <td>[Adventure, Fantasy, Family]</td>\n",
       "      <td>[boardgame, disappearance, basedonchildren'sbo...</td>\n",
       "      <td>[RobinWilliams, JonathanHyde, KirstenDunst]</td>\n",
       "      <td>[JoeJohnston]</td>\n",
       "    </tr>\n",
       "  </tbody>\n",
       "</table>\n",
       "</div>"
      ],
      "text/plain": [
       "     id      title                                           overview  \\\n",
       "0   862  Toy Story  [Led, by, Woody,, Andy's, toys, live, happily,...   \n",
       "1  8844    Jumanji  [When, siblings, Judy, and, Peter, discover, a...   \n",
       "\n",
       "                         genres  \\\n",
       "0   [Animation, Comedy, Family]   \n",
       "1  [Adventure, Fantasy, Family]   \n",
       "\n",
       "                                            keywords  \\\n",
       "0  [jealousy, toy, boy, friendship, friends, riva...   \n",
       "1  [boardgame, disappearance, basedonchildren'sbo...   \n",
       "\n",
       "                                          cast        director  \n",
       "0             [TomHanks, TimAllen, DonRickles]  [JohnLasseter]  \n",
       "1  [RobinWilliams, JonathanHyde, KirstenDunst]   [JoeJohnston]  "
      ]
     },
     "execution_count": 60,
     "metadata": {},
     "output_type": "execute_result"
    }
   ],
   "source": [
    "df1.head(2)"
   ]
  },
  {
   "cell_type": "markdown",
   "id": "97f25e58",
   "metadata": {
    "papermill": {
     "duration": 0.030189,
     "end_time": "2023-02-23T17:24:30.061770",
     "exception": false,
     "start_time": "2023-02-23T17:24:30.031581",
     "status": "completed"
    },
    "tags": []
   },
   "source": [
    "### Creating a new column concattenating all columns except id and title"
   ]
  },
  {
   "cell_type": "code",
   "execution_count": 61,
   "id": "9712d4d3",
   "metadata": {
    "execution": {
     "iopub.execute_input": "2023-02-23T17:24:30.123778Z",
     "iopub.status.busy": "2023-02-23T17:24:30.123044Z",
     "iopub.status.idle": "2023-02-23T17:24:31.190273Z",
     "shell.execute_reply": "2023-02-23T17:24:31.189001Z"
    },
    "papermill": {
     "duration": 1.102021,
     "end_time": "2023-02-23T17:24:31.193446",
     "exception": false,
     "start_time": "2023-02-23T17:24:30.091425",
     "status": "completed"
    },
    "tags": []
   },
   "outputs": [],
   "source": [
    "df1['strings']=df1['overview']+df1['genres']+df1['keywords']+df1['cast']+df1['director']"
   ]
  },
  {
   "cell_type": "code",
   "execution_count": 62,
   "id": "ade62774",
   "metadata": {
    "execution": {
     "iopub.execute_input": "2023-02-23T17:24:31.261786Z",
     "iopub.status.busy": "2023-02-23T17:24:31.261041Z",
     "iopub.status.idle": "2023-02-23T17:24:31.280048Z",
     "shell.execute_reply": "2023-02-23T17:24:31.277880Z"
    },
    "papermill": {
     "duration": 0.055451,
     "end_time": "2023-02-23T17:24:31.283698",
     "exception": false,
     "start_time": "2023-02-23T17:24:31.228247",
     "status": "completed"
    },
    "tags": []
   },
   "outputs": [
    {
     "data": {
      "text/html": [
       "<div>\n",
       "<style scoped>\n",
       "    .dataframe tbody tr th:only-of-type {\n",
       "        vertical-align: middle;\n",
       "    }\n",
       "\n",
       "    .dataframe tbody tr th {\n",
       "        vertical-align: top;\n",
       "    }\n",
       "\n",
       "    .dataframe thead th {\n",
       "        text-align: right;\n",
       "    }\n",
       "</style>\n",
       "<table border=\"1\" class=\"dataframe\">\n",
       "  <thead>\n",
       "    <tr style=\"text-align: right;\">\n",
       "      <th></th>\n",
       "      <th>id</th>\n",
       "      <th>title</th>\n",
       "      <th>overview</th>\n",
       "      <th>genres</th>\n",
       "      <th>keywords</th>\n",
       "      <th>cast</th>\n",
       "      <th>director</th>\n",
       "      <th>strings</th>\n",
       "    </tr>\n",
       "  </thead>\n",
       "  <tbody>\n",
       "    <tr>\n",
       "      <th>0</th>\n",
       "      <td>862</td>\n",
       "      <td>Toy Story</td>\n",
       "      <td>[Led, by, Woody,, Andy's, toys, live, happily,...</td>\n",
       "      <td>[Animation, Comedy, Family]</td>\n",
       "      <td>[jealousy, toy, boy, friendship, friends, riva...</td>\n",
       "      <td>[TomHanks, TimAllen, DonRickles]</td>\n",
       "      <td>[JohnLasseter]</td>\n",
       "      <td>[Led, by, Woody,, Andy's, toys, live, happily,...</td>\n",
       "    </tr>\n",
       "  </tbody>\n",
       "</table>\n",
       "</div>"
      ],
      "text/plain": [
       "    id      title                                           overview  \\\n",
       "0  862  Toy Story  [Led, by, Woody,, Andy's, toys, live, happily,...   \n",
       "\n",
       "                        genres  \\\n",
       "0  [Animation, Comedy, Family]   \n",
       "\n",
       "                                            keywords  \\\n",
       "0  [jealousy, toy, boy, friendship, friends, riva...   \n",
       "\n",
       "                               cast        director  \\\n",
       "0  [TomHanks, TimAllen, DonRickles]  [JohnLasseter]   \n",
       "\n",
       "                                             strings  \n",
       "0  [Led, by, Woody,, Andy's, toys, live, happily,...  "
      ]
     },
     "execution_count": 62,
     "metadata": {},
     "output_type": "execute_result"
    }
   ],
   "source": [
    "df1.head(1)"
   ]
  },
  {
   "cell_type": "code",
   "execution_count": 63,
   "id": "5db88ee9",
   "metadata": {
    "execution": {
     "iopub.execute_input": "2023-02-23T17:24:31.343875Z",
     "iopub.status.busy": "2023-02-23T17:24:31.343389Z",
     "iopub.status.idle": "2023-02-23T17:24:31.374314Z",
     "shell.execute_reply": "2023-02-23T17:24:31.372313Z"
    },
    "papermill": {
     "duration": 0.066189,
     "end_time": "2023-02-23T17:24:31.377428",
     "exception": false,
     "start_time": "2023-02-23T17:24:31.311239",
     "status": "completed"
    },
    "tags": []
   },
   "outputs": [
    {
     "data": {
      "text/html": [
       "<div>\n",
       "<style scoped>\n",
       "    .dataframe tbody tr th:only-of-type {\n",
       "        vertical-align: middle;\n",
       "    }\n",
       "\n",
       "    .dataframe tbody tr th {\n",
       "        vertical-align: top;\n",
       "    }\n",
       "\n",
       "    .dataframe thead th {\n",
       "        text-align: right;\n",
       "    }\n",
       "</style>\n",
       "<table border=\"1\" class=\"dataframe\">\n",
       "  <thead>\n",
       "    <tr style=\"text-align: right;\">\n",
       "      <th></th>\n",
       "      <th>id</th>\n",
       "      <th>title</th>\n",
       "      <th>strings</th>\n",
       "    </tr>\n",
       "  </thead>\n",
       "  <tbody>\n",
       "    <tr>\n",
       "      <th>0</th>\n",
       "      <td>862</td>\n",
       "      <td>Toy Story</td>\n",
       "      <td>[Led, by, Woody,, Andy's, toys, live, happily,...</td>\n",
       "    </tr>\n",
       "    <tr>\n",
       "      <th>1</th>\n",
       "      <td>8844</td>\n",
       "      <td>Jumanji</td>\n",
       "      <td>[When, siblings, Judy, and, Peter, discover, a...</td>\n",
       "    </tr>\n",
       "    <tr>\n",
       "      <th>2</th>\n",
       "      <td>15602</td>\n",
       "      <td>Grumpier Old Men</td>\n",
       "      <td>[A, family, wedding, reignites, the, ancient, ...</td>\n",
       "    </tr>\n",
       "    <tr>\n",
       "      <th>3</th>\n",
       "      <td>31357</td>\n",
       "      <td>Waiting to Exhale</td>\n",
       "      <td>[Cheated, on,, mistreated, and, stepped, on,, ...</td>\n",
       "    </tr>\n",
       "    <tr>\n",
       "      <th>4</th>\n",
       "      <td>11862</td>\n",
       "      <td>Father of the Bride Part II</td>\n",
       "      <td>[Just, when, George, Banks, has, recovered, fr...</td>\n",
       "    </tr>\n",
       "  </tbody>\n",
       "</table>\n",
       "</div>"
      ],
      "text/plain": [
       "      id                        title  \\\n",
       "0    862                    Toy Story   \n",
       "1   8844                      Jumanji   \n",
       "2  15602             Grumpier Old Men   \n",
       "3  31357            Waiting to Exhale   \n",
       "4  11862  Father of the Bride Part II   \n",
       "\n",
       "                                             strings  \n",
       "0  [Led, by, Woody,, Andy's, toys, live, happily,...  \n",
       "1  [When, siblings, Judy, and, Peter, discover, a...  \n",
       "2  [A, family, wedding, reignites, the, ancient, ...  \n",
       "3  [Cheated, on,, mistreated, and, stepped, on,, ...  \n",
       "4  [Just, when, George, Banks, has, recovered, fr...  "
      ]
     },
     "execution_count": 63,
     "metadata": {},
     "output_type": "execute_result"
    }
   ],
   "source": [
    "new_df=df1[['id','title','strings']]\n",
    "new_df.head()"
   ]
  },
  {
   "cell_type": "markdown",
   "id": "2bae05fd",
   "metadata": {
    "papermill": {
     "duration": 0.038594,
     "end_time": "2023-02-23T17:24:31.449557",
     "exception": false,
     "start_time": "2023-02-23T17:24:31.410963",
     "status": "completed"
    },
    "tags": []
   },
   "source": [
    "### Converting the list data type to string"
   ]
  },
  {
   "cell_type": "code",
   "execution_count": 64,
   "id": "60a7fdbd",
   "metadata": {
    "execution": {
     "iopub.execute_input": "2023-02-23T17:24:31.516194Z",
     "iopub.status.busy": "2023-02-23T17:24:31.515378Z",
     "iopub.status.idle": "2023-02-23T17:24:31.636434Z",
     "shell.execute_reply": "2023-02-23T17:24:31.634910Z"
    },
    "papermill": {
     "duration": 0.157818,
     "end_time": "2023-02-23T17:24:31.639954",
     "exception": false,
     "start_time": "2023-02-23T17:24:31.482136",
     "status": "completed"
    },
    "tags": []
   },
   "outputs": [],
   "source": [
    "new_df['strings']=new_df['strings'].apply(lambda x:\" \".join(x))"
   ]
  },
  {
   "cell_type": "code",
   "execution_count": 65,
   "id": "6046a6f7",
   "metadata": {
    "execution": {
     "iopub.execute_input": "2023-02-23T17:24:31.707034Z",
     "iopub.status.busy": "2023-02-23T17:24:31.706423Z",
     "iopub.status.idle": "2023-02-23T17:24:31.718333Z",
     "shell.execute_reply": "2023-02-23T17:24:31.716110Z"
    },
    "papermill": {
     "duration": 0.049618,
     "end_time": "2023-02-23T17:24:31.721779",
     "exception": false,
     "start_time": "2023-02-23T17:24:31.672161",
     "status": "completed"
    },
    "tags": []
   },
   "outputs": [
    {
     "data": {
      "text/plain": [
       "\"A family wedding reignites the ancient feud between next-door neighbors and fishing buddies John and Max. Meanwhile, a sultry Italian divorcée opens a restaurant at the local bait shop, alarming the locals who worry she'll scare the fish away. But she's less interested in seafood than she is in cooking up a hot time with Max. Romance Comedy fishing bestfriend duringcreditsstinger oldmen WalterMatthau JackLemmon Ann-Margret HowardDeutch\""
      ]
     },
     "execution_count": 65,
     "metadata": {},
     "output_type": "execute_result"
    }
   ],
   "source": [
    "new_df['strings'][2]"
   ]
  },
  {
   "cell_type": "markdown",
   "id": "3102eb13",
   "metadata": {
    "papermill": {
     "duration": 0.027619,
     "end_time": "2023-02-23T17:24:31.780209",
     "exception": false,
     "start_time": "2023-02-23T17:24:31.752590",
     "status": "completed"
    },
    "tags": []
   },
   "source": [
    "### Converting the text in strings column to lower case"
   ]
  },
  {
   "cell_type": "code",
   "execution_count": 66,
   "id": "831449ce",
   "metadata": {
    "execution": {
     "iopub.execute_input": "2023-02-23T17:24:31.848545Z",
     "iopub.status.busy": "2023-02-23T17:24:31.847814Z",
     "iopub.status.idle": "2023-02-23T17:24:31.935160Z",
     "shell.execute_reply": "2023-02-23T17:24:31.931983Z"
    },
    "papermill": {
     "duration": 0.129443,
     "end_time": "2023-02-23T17:24:31.940229",
     "exception": false,
     "start_time": "2023-02-23T17:24:31.810786",
     "status": "completed"
    },
    "tags": []
   },
   "outputs": [],
   "source": [
    "new_df['strings']=new_df['strings'].apply(lambda x:x.lower())"
   ]
  },
  {
   "cell_type": "code",
   "execution_count": 67,
   "id": "119475e3",
   "metadata": {
    "execution": {
     "iopub.execute_input": "2023-02-23T17:24:32.036578Z",
     "iopub.status.busy": "2023-02-23T17:24:32.035751Z",
     "iopub.status.idle": "2023-02-23T17:24:32.058662Z",
     "shell.execute_reply": "2023-02-23T17:24:32.056998Z"
    },
    "papermill": {
     "duration": 0.069115,
     "end_time": "2023-02-23T17:24:32.061450",
     "exception": false,
     "start_time": "2023-02-23T17:24:31.992335",
     "status": "completed"
    },
    "tags": []
   },
   "outputs": [
    {
     "data": {
      "text/html": [
       "<div>\n",
       "<style scoped>\n",
       "    .dataframe tbody tr th:only-of-type {\n",
       "        vertical-align: middle;\n",
       "    }\n",
       "\n",
       "    .dataframe tbody tr th {\n",
       "        vertical-align: top;\n",
       "    }\n",
       "\n",
       "    .dataframe thead th {\n",
       "        text-align: right;\n",
       "    }\n",
       "</style>\n",
       "<table border=\"1\" class=\"dataframe\">\n",
       "  <thead>\n",
       "    <tr style=\"text-align: right;\">\n",
       "      <th></th>\n",
       "      <th>id</th>\n",
       "      <th>title</th>\n",
       "      <th>strings</th>\n",
       "    </tr>\n",
       "  </thead>\n",
       "  <tbody>\n",
       "    <tr>\n",
       "      <th>0</th>\n",
       "      <td>862</td>\n",
       "      <td>Toy Story</td>\n",
       "      <td>led by woody, andy's toys live happily in his ...</td>\n",
       "    </tr>\n",
       "    <tr>\n",
       "      <th>1</th>\n",
       "      <td>8844</td>\n",
       "      <td>Jumanji</td>\n",
       "      <td>when siblings judy and peter discover an encha...</td>\n",
       "    </tr>\n",
       "    <tr>\n",
       "      <th>2</th>\n",
       "      <td>15602</td>\n",
       "      <td>Grumpier Old Men</td>\n",
       "      <td>a family wedding reignites the ancient feud be...</td>\n",
       "    </tr>\n",
       "    <tr>\n",
       "      <th>3</th>\n",
       "      <td>31357</td>\n",
       "      <td>Waiting to Exhale</td>\n",
       "      <td>cheated on, mistreated and stepped on, the wom...</td>\n",
       "    </tr>\n",
       "    <tr>\n",
       "      <th>4</th>\n",
       "      <td>11862</td>\n",
       "      <td>Father of the Bride Part II</td>\n",
       "      <td>just when george banks has recovered from his ...</td>\n",
       "    </tr>\n",
       "  </tbody>\n",
       "</table>\n",
       "</div>"
      ],
      "text/plain": [
       "      id                        title  \\\n",
       "0    862                    Toy Story   \n",
       "1   8844                      Jumanji   \n",
       "2  15602             Grumpier Old Men   \n",
       "3  31357            Waiting to Exhale   \n",
       "4  11862  Father of the Bride Part II   \n",
       "\n",
       "                                             strings  \n",
       "0  led by woody, andy's toys live happily in his ...  \n",
       "1  when siblings judy and peter discover an encha...  \n",
       "2  a family wedding reignites the ancient feud be...  \n",
       "3  cheated on, mistreated and stepped on, the wom...  \n",
       "4  just when george banks has recovered from his ...  "
      ]
     },
     "execution_count": 67,
     "metadata": {},
     "output_type": "execute_result"
    }
   ],
   "source": [
    "new_df.head()"
   ]
  },
  {
   "cell_type": "markdown",
   "id": "8364cbfb",
   "metadata": {
    "papermill": {
     "duration": 0.036392,
     "end_time": "2023-02-23T17:24:32.133834",
     "exception": false,
     "start_time": "2023-02-23T17:24:32.097442",
     "status": "completed"
    },
    "tags": []
   },
   "source": [
    "## Text vectorisation"
   ]
  },
  {
   "cell_type": "markdown",
   "id": "882502d9",
   "metadata": {
    "papermill": {
     "duration": 0.032767,
     "end_time": "2023-02-23T17:24:32.203497",
     "exception": false,
     "start_time": "2023-02-23T17:24:32.170730",
     "status": "completed"
    },
    "tags": []
   },
   "source": [
    "### Converting the text into vectors which will be needed for calculation cosine similarity\n",
    "### Removing the stop words like and,the,are,of etc which won't be required for our project"
   ]
  },
  {
   "cell_type": "code",
   "execution_count": 68,
   "id": "f9988090",
   "metadata": {
    "execution": {
     "iopub.execute_input": "2023-02-23T17:24:32.277563Z",
     "iopub.status.busy": "2023-02-23T17:24:32.275965Z",
     "iopub.status.idle": "2023-02-23T17:24:33.811563Z",
     "shell.execute_reply": "2023-02-23T17:24:33.809158Z"
    },
    "papermill": {
     "duration": 1.573823,
     "end_time": "2023-02-23T17:24:33.814375",
     "exception": false,
     "start_time": "2023-02-23T17:24:32.240552",
     "status": "completed"
    },
    "tags": []
   },
   "outputs": [],
   "source": [
    "from sklearn.feature_extraction.text import CountVectorizer\n",
    "cv=CountVectorizer(max_features=5000,stop_words='english')"
   ]
  },
  {
   "cell_type": "code",
   "execution_count": 69,
   "id": "2e7134a3",
   "metadata": {
    "execution": {
     "iopub.execute_input": "2023-02-23T17:24:33.878481Z",
     "iopub.status.busy": "2023-02-23T17:24:33.878010Z",
     "iopub.status.idle": "2023-02-23T17:24:38.546581Z",
     "shell.execute_reply": "2023-02-23T17:24:38.545358Z"
    },
    "papermill": {
     "duration": 4.705412,
     "end_time": "2023-02-23T17:24:38.549572",
     "exception": false,
     "start_time": "2023-02-23T17:24:33.844160",
     "status": "completed"
    },
    "tags": []
   },
   "outputs": [],
   "source": [
    "vectors=cv.fit_transform(new_df['strings']).toarray()"
   ]
  },
  {
   "cell_type": "code",
   "execution_count": 70,
   "id": "243b93ef",
   "metadata": {
    "execution": {
     "iopub.execute_input": "2023-02-23T17:24:38.607994Z",
     "iopub.status.busy": "2023-02-23T17:24:38.607550Z",
     "iopub.status.idle": "2023-02-23T17:24:43.362622Z",
     "shell.execute_reply": "2023-02-23T17:24:43.361305Z"
    },
    "papermill": {
     "duration": 4.78742,
     "end_time": "2023-02-23T17:24:43.365579",
     "exception": false,
     "start_time": "2023-02-23T17:24:38.578159",
     "status": "completed"
    },
    "tags": []
   },
   "outputs": [
    {
     "data": {
      "text/plain": [
       "(45558, 5000)"
      ]
     },
     "execution_count": 70,
     "metadata": {},
     "output_type": "execute_result"
    }
   ],
   "source": [
    "cv.fit_transform(new_df['strings']).toarray().shape"
   ]
  },
  {
   "cell_type": "code",
   "execution_count": 71,
   "id": "a3821c77",
   "metadata": {
    "execution": {
     "iopub.execute_input": "2023-02-23T17:24:43.426270Z",
     "iopub.status.busy": "2023-02-23T17:24:43.425861Z",
     "iopub.status.idle": "2023-02-23T17:24:43.454751Z",
     "shell.execute_reply": "2023-02-23T17:24:43.453587Z"
    },
    "papermill": {
     "duration": 0.062468,
     "end_time": "2023-02-23T17:24:43.457625",
     "exception": false,
     "start_time": "2023-02-23T17:24:43.395157",
     "status": "completed"
    },
    "tags": []
   },
   "outputs": [
    {
     "data": {
      "text/plain": [
       "['000',\n",
       " '10',\n",
       " '100',\n",
       " '11',\n",
       " '12',\n",
       " '13',\n",
       " '14',\n",
       " '15',\n",
       " '16',\n",
       " '17',\n",
       " '17th',\n",
       " '18',\n",
       " '18th',\n",
       " '19',\n",
       " '1920s',\n",
       " '1930',\n",
       " '1930s',\n",
       " '1940',\n",
       " '1940s',\n",
       " '1941',\n",
       " '1942',\n",
       " '1943',\n",
       " '1944',\n",
       " '1945',\n",
       " '1950',\n",
       " '1950s',\n",
       " '1960',\n",
       " '1960s',\n",
       " '1964',\n",
       " '1968',\n",
       " '1969',\n",
       " '1970',\n",
       " '1970s',\n",
       " '1971',\n",
       " '1973',\n",
       " '1974',\n",
       " '1976',\n",
       " '1979',\n",
       " '1980',\n",
       " '1980s',\n",
       " '1989',\n",
       " '1990',\n",
       " '1990s',\n",
       " '1994',\n",
       " '1999',\n",
       " '19th',\n",
       " '19thcentury',\n",
       " '20',\n",
       " '200',\n",
       " '2000',\n",
       " '2001',\n",
       " '2002',\n",
       " '2003',\n",
       " '2004',\n",
       " '2005',\n",
       " '2006',\n",
       " '2008',\n",
       " '2009',\n",
       " '2010',\n",
       " '2011',\n",
       " '2012',\n",
       " '20th',\n",
       " '21',\n",
       " '21st',\n",
       " '22',\n",
       " '23',\n",
       " '24',\n",
       " '25',\n",
       " '28',\n",
       " '30',\n",
       " '300',\n",
       " '35',\n",
       " '3d',\n",
       " '40',\n",
       " '50',\n",
       " '500',\n",
       " '60',\n",
       " '60s',\n",
       " '70',\n",
       " '70s',\n",
       " '80',\n",
       " '80s',\n",
       " '90',\n",
       " 'aaron',\n",
       " 'abandoned',\n",
       " 'abandons',\n",
       " 'abducted',\n",
       " 'abilities',\n",
       " 'ability',\n",
       " 'able',\n",
       " 'aboard',\n",
       " 'abortion',\n",
       " 'abroad',\n",
       " 'absence',\n",
       " 'absurd',\n",
       " 'abuse',\n",
       " 'abused',\n",
       " 'abusive',\n",
       " 'academy',\n",
       " 'accept',\n",
       " 'acceptance',\n",
       " 'accepted',\n",
       " 'accepts',\n",
       " 'access',\n",
       " 'accident',\n",
       " 'accidental',\n",
       " 'accidentally',\n",
       " 'accidents',\n",
       " 'acclaimed',\n",
       " 'accompanied',\n",
       " 'accompany',\n",
       " 'according',\n",
       " 'account',\n",
       " 'accountant',\n",
       " 'accused',\n",
       " 'ace',\n",
       " 'achieve',\n",
       " 'act',\n",
       " 'acting',\n",
       " 'action',\n",
       " 'actions',\n",
       " 'activist',\n",
       " 'activists',\n",
       " 'activities',\n",
       " 'activity',\n",
       " 'actor',\n",
       " 'actors',\n",
       " 'actress',\n",
       " 'acts',\n",
       " 'actual',\n",
       " 'actually',\n",
       " 'ad',\n",
       " 'adam',\n",
       " 'adams',\n",
       " 'adaptation',\n",
       " 'adapted',\n",
       " 'add',\n",
       " 'addict',\n",
       " 'addicted',\n",
       " 'addiction',\n",
       " 'addition',\n",
       " 'adolescence',\n",
       " 'adolescent',\n",
       " 'adopt',\n",
       " 'adopted',\n",
       " 'adoption',\n",
       " 'adopts',\n",
       " 'adult',\n",
       " 'adultanimation',\n",
       " 'adultery',\n",
       " 'adulthood',\n",
       " 'adults',\n",
       " 'advanced',\n",
       " 'advances',\n",
       " 'advantage',\n",
       " 'adventure',\n",
       " 'adventurer',\n",
       " 'adventures',\n",
       " 'adventurous',\n",
       " 'advertising',\n",
       " 'advice',\n",
       " 'affair',\n",
       " 'affairs',\n",
       " 'affected',\n",
       " 'affection',\n",
       " 'affections',\n",
       " 'afghanistan',\n",
       " 'afraid',\n",
       " 'africa',\n",
       " 'african',\n",
       " 'aftercreditsstinger',\n",
       " 'afterlife',\n",
       " 'aftermath',\n",
       " 'afternoon',\n",
       " 'age',\n",
       " 'aged',\n",
       " 'agency',\n",
       " 'agenda',\n",
       " 'agent',\n",
       " 'agents',\n",
       " 'ages',\n",
       " 'aggressive',\n",
       " 'aging',\n",
       " 'ago',\n",
       " 'agree',\n",
       " 'agrees',\n",
       " 'ah',\n",
       " 'ahead',\n",
       " 'aid',\n",
       " 'aided',\n",
       " 'aids',\n",
       " 'ailing',\n",
       " 'aim',\n",
       " 'air',\n",
       " 'aircraft',\n",
       " 'aires',\n",
       " 'airplane',\n",
       " 'airport',\n",
       " 'ajay',\n",
       " 'aka',\n",
       " 'akshaykumar',\n",
       " 'al',\n",
       " 'alan',\n",
       " 'alaska',\n",
       " 'albert',\n",
       " 'album',\n",
       " 'alcohol',\n",
       " 'alcoholic',\n",
       " 'alcoholism',\n",
       " 'alecbaldwin',\n",
       " 'alex',\n",
       " 'alexander',\n",
       " 'alfred',\n",
       " 'alfredhitchcock',\n",
       " 'ali',\n",
       " 'alice',\n",
       " 'alien',\n",
       " 'alieninvasion',\n",
       " 'aliens',\n",
       " 'alike',\n",
       " 'alive',\n",
       " 'allen',\n",
       " 'alliance',\n",
       " 'allied',\n",
       " 'allies',\n",
       " 'allow',\n",
       " 'allowed',\n",
       " 'allowing',\n",
       " 'allows',\n",
       " 'ally',\n",
       " 'alongside',\n",
       " 'alps',\n",
       " 'alter',\n",
       " 'alternative',\n",
       " 'amanda',\n",
       " 'amateur',\n",
       " 'amazing',\n",
       " 'amazon',\n",
       " 'ambassador',\n",
       " 'ambition',\n",
       " 'ambitions',\n",
       " 'ambitious',\n",
       " 'ambush',\n",
       " 'america',\n",
       " 'american',\n",
       " 'americanfootball',\n",
       " 'americans',\n",
       " 'amid',\n",
       " 'amidst',\n",
       " 'amnesia',\n",
       " 'amp',\n",
       " 'amsterdam',\n",
       " 'amy',\n",
       " 'ana',\n",
       " 'ancient',\n",
       " 'anderson',\n",
       " 'andrea',\n",
       " 'andrew',\n",
       " 'android',\n",
       " 'andy',\n",
       " 'angel',\n",
       " 'angela',\n",
       " 'angeles',\n",
       " 'angels',\n",
       " 'anger',\n",
       " 'angry',\n",
       " 'animal',\n",
       " 'animals',\n",
       " 'animated',\n",
       " 'animation',\n",
       " 'anime',\n",
       " 'ann',\n",
       " 'anna',\n",
       " 'anne',\n",
       " 'annie',\n",
       " 'anniversary',\n",
       " 'announces',\n",
       " 'annual',\n",
       " 'anonymous',\n",
       " 'answer',\n",
       " 'answers',\n",
       " 'anthology',\n",
       " 'anthony',\n",
       " 'anthonyhopkins',\n",
       " 'anthonyquinn',\n",
       " 'anti',\n",
       " 'antics',\n",
       " 'antoine',\n",
       " 'antonio',\n",
       " 'antoniobanderas',\n",
       " 'anymore',\n",
       " 'apache',\n",
       " 'apart',\n",
       " 'apartment',\n",
       " 'apocalypse',\n",
       " 'apocalyptic',\n",
       " 'apparent',\n",
       " 'apparently',\n",
       " 'appear',\n",
       " 'appearance',\n",
       " 'appearances',\n",
       " 'appeared',\n",
       " 'appears',\n",
       " 'apple',\n",
       " 'appointed',\n",
       " 'apprentice',\n",
       " 'approach',\n",
       " 'approaches',\n",
       " 'approaching',\n",
       " 'april',\n",
       " 'arab',\n",
       " 'arch',\n",
       " 'archaeologist',\n",
       " 'architect',\n",
       " 'archival',\n",
       " 'archive',\n",
       " 'arctic',\n",
       " 'area',\n",
       " 'aren',\n",
       " 'arena',\n",
       " 'argentina',\n",
       " 'argument',\n",
       " 'arise',\n",
       " 'aristocrat',\n",
       " 'aristocratic',\n",
       " 'arizona',\n",
       " 'arm',\n",
       " 'armed',\n",
       " 'arms',\n",
       " 'army',\n",
       " 'arnold',\n",
       " 'arranged',\n",
       " 'arranges',\n",
       " 'arrest',\n",
       " 'arrested',\n",
       " 'arrival',\n",
       " 'arrive',\n",
       " 'arrived',\n",
       " 'arrives',\n",
       " 'arriving',\n",
       " 'arrogant',\n",
       " 'art',\n",
       " 'arthur',\n",
       " 'artist',\n",
       " 'artistic',\n",
       " 'artists',\n",
       " 'arts',\n",
       " 'ash',\n",
       " 'ashley',\n",
       " 'asia',\n",
       " 'asian',\n",
       " 'aside',\n",
       " 'ask',\n",
       " 'asked',\n",
       " 'asking',\n",
       " 'asks',\n",
       " 'aspects',\n",
       " 'aspiring',\n",
       " 'assassin',\n",
       " 'assassinate',\n",
       " 'assassination',\n",
       " 'assassins',\n",
       " 'assault',\n",
       " 'assigned',\n",
       " 'assignment',\n",
       " 'assistance',\n",
       " 'assistant',\n",
       " 'assumes',\n",
       " 'astronaut',\n",
       " 'astronauts',\n",
       " 'asylum',\n",
       " 'athens',\n",
       " 'athlete',\n",
       " 'atmosphere',\n",
       " 'atomic',\n",
       " 'attack',\n",
       " 'attacked',\n",
       " 'attacks',\n",
       " 'attempt',\n",
       " 'attempted',\n",
       " 'attempting',\n",
       " 'attempts',\n",
       " 'attend',\n",
       " 'attendant',\n",
       " 'attending',\n",
       " 'attends',\n",
       " 'attention',\n",
       " 'attitude',\n",
       " 'attorney',\n",
       " 'attracted',\n",
       " 'attraction',\n",
       " 'attractive',\n",
       " 'audience',\n",
       " 'audiences',\n",
       " 'august',\n",
       " 'aunt',\n",
       " 'austin',\n",
       " 'australia',\n",
       " 'australian',\n",
       " 'austria',\n",
       " 'austrian',\n",
       " 'author',\n",
       " 'authorities',\n",
       " 'authority',\n",
       " 'autism',\n",
       " 'auto',\n",
       " 'autobiographical',\n",
       " 'available',\n",
       " 'avenge',\n",
       " 'average',\n",
       " 'aviation',\n",
       " 'avoid',\n",
       " 'awaits',\n",
       " 'awakening',\n",
       " 'awakens',\n",
       " 'award',\n",
       " 'awards',\n",
       " 'aware',\n",
       " 'away',\n",
       " 'awkward',\n",
       " 'awry',\n",
       " 'baby',\n",
       " 'babysitter',\n",
       " 'bachelor',\n",
       " 'backdrop',\n",
       " 'background',\n",
       " 'backgrounds',\n",
       " 'bad',\n",
       " 'badly',\n",
       " 'bag',\n",
       " 'baker',\n",
       " 'balance',\n",
       " 'ball',\n",
       " 'ballet',\n",
       " 'band',\n",
       " 'bandit',\n",
       " 'bandits',\n",
       " 'bands',\n",
       " 'bangkok',\n",
       " 'bank',\n",
       " 'banker',\n",
       " 'bankrobbery',\n",
       " 'banks',\n",
       " 'banned',\n",
       " 'bar',\n",
       " 'barbara',\n",
       " 'barbarastanwyck',\n",
       " 'barbie',\n",
       " 'barely',\n",
       " 'bargained',\n",
       " 'baron',\n",
       " 'barry',\n",
       " 'bars',\n",
       " 'bartender',\n",
       " 'base',\n",
       " 'baseball',\n",
       " 'based',\n",
       " 'basedoncomic',\n",
       " 'basedonnovel',\n",
       " 'basedonplayormusical',\n",
       " 'basedontrueevents',\n",
       " 'basedontruestory',\n",
       " 'basedontvseries',\n",
       " 'basedonvideogame',\n",
       " 'basedonyoungadultnovel',\n",
       " 'basement',\n",
       " 'basketball',\n",
       " 'batman',\n",
       " 'battle',\n",
       " 'battles',\n",
       " 'battling',\n",
       " 'bay',\n",
       " 'beach',\n",
       " 'bear',\n",
       " 'bears',\n",
       " 'beast',\n",
       " 'beat',\n",
       " 'beaten',\n",
       " 'beating',\n",
       " 'beautiful',\n",
       " 'beauty',\n",
       " 'bed',\n",
       " 'bedroom',\n",
       " 'beer',\n",
       " 'befriended',\n",
       " 'befriends',\n",
       " 'began',\n",
       " 'begin',\n",
       " 'beginning',\n",
       " 'begins',\n",
       " 'begun',\n",
       " 'behavior',\n",
       " 'behaviour',\n",
       " 'beings',\n",
       " 'belgium',\n",
       " 'belief',\n",
       " 'beliefs',\n",
       " 'believe',\n",
       " 'believed',\n",
       " 'believes',\n",
       " 'believing',\n",
       " 'bell',\n",
       " 'belle',\n",
       " 'belongs',\n",
       " 'beloved',\n",
       " 'ben',\n",
       " 'beneath',\n",
       " 'benjamin',\n",
       " 'bent',\n",
       " 'berlin',\n",
       " 'bernard',\n",
       " 'best',\n",
       " 'bestfriend',\n",
       " 'bet',\n",
       " 'beth',\n",
       " 'betrayal',\n",
       " 'betrayed',\n",
       " 'bettedavis',\n",
       " 'better',\n",
       " 'betty',\n",
       " 'beverly',\n",
       " 'bible',\n",
       " 'bicycle',\n",
       " 'big',\n",
       " 'bigger',\n",
       " 'biggest',\n",
       " 'bike',\n",
       " 'biker',\n",
       " 'bikini',\n",
       " 'billion',\n",
       " 'billionaire',\n",
       " 'billy',\n",
       " 'biography',\n",
       " 'biological',\n",
       " 'biopic',\n",
       " 'bird',\n",
       " 'birds',\n",
       " 'birth',\n",
       " 'birthday',\n",
       " 'bishop',\n",
       " 'bit',\n",
       " 'bitter',\n",
       " 'bizarre',\n",
       " 'black',\n",
       " 'blackandwhite',\n",
       " 'blackmail',\n",
       " 'blade',\n",
       " 'blake',\n",
       " 'blame',\n",
       " 'blaxploitation',\n",
       " 'blind',\n",
       " 'block',\n",
       " 'blonde',\n",
       " 'blood',\n",
       " 'bloodthirsty',\n",
       " 'bloody',\n",
       " 'blow',\n",
       " 'blue',\n",
       " 'blues',\n",
       " 'bmovie',\n",
       " 'bo',\n",
       " 'board',\n",
       " 'boarding',\n",
       " 'boardingschool',\n",
       " 'boat',\n",
       " 'bob',\n",
       " 'bobby',\n",
       " 'bodies',\n",
       " 'body',\n",
       " 'bodyguard',\n",
       " 'bold',\n",
       " 'bollywood',\n",
       " 'bomb',\n",
       " 'bombing',\n",
       " 'bond',\n",
       " 'bonds',\n",
       " 'bone',\n",
       " 'book',\n",
       " 'books',\n",
       " 'booze',\n",
       " 'border',\n",
       " 'bored',\n",
       " 'boring',\n",
       " 'boriskarloff',\n",
       " 'born',\n",
       " 'boss',\n",
       " 'boston',\n",
       " 'bought',\n",
       " 'bound',\n",
       " 'boundaries',\n",
       " 'bounty',\n",
       " 'box',\n",
       " 'boxer',\n",
       " 'boxing',\n",
       " 'boy',\n",
       " 'boyfriend',\n",
       " 'boys',\n",
       " 'brad',\n",
       " 'brain',\n",
       " 'brand',\n",
       " 'brash',\n",
       " 'brave',\n",
       " 'brazil',\n",
       " 'brazilian',\n",
       " 'break',\n",
       " 'breakdown',\n",
       " 'breaking',\n",
       " 'breaks',\n",
       " 'brian',\n",
       " 'bride',\n",
       " 'bridge',\n",
       " 'brief',\n",
       " 'brien',\n",
       " 'bright',\n",
       " 'brilliant',\n",
       " 'bring',\n",
       " 'bringing',\n",
       " 'brings',\n",
       " 'brink',\n",
       " 'britain',\n",
       " 'british',\n",
       " 'broadcast',\n",
       " 'broadway',\n",
       " 'broke',\n",
       " 'broken',\n",
       " 'brooklyn',\n",
       " 'brooks',\n",
       " 'brothel',\n",
       " 'brother',\n",
       " 'brotherbrotherrelationship',\n",
       " 'brothers',\n",
       " 'brothersisterrelationship',\n",
       " 'brought',\n",
       " 'brown',\n",
       " 'bruce',\n",
       " 'brucewillis',\n",
       " 'bruno',\n",
       " 'brutal',\n",
       " 'brutality',\n",
       " 'brutally',\n",
       " 'buck',\n",
       " 'bud',\n",
       " 'buddies',\n",
       " 'buddy',\n",
       " 'budget',\n",
       " 'buenos',\n",
       " 'bugs',\n",
       " 'build',\n",
       " 'building',\n",
       " 'builds',\n",
       " 'built',\n",
       " 'bull',\n",
       " 'bullet',\n",
       " 'bullied',\n",
       " 'bully',\n",
       " 'bullying',\n",
       " 'bumbling',\n",
       " 'bunch',\n",
       " 'burglar',\n",
       " 'buried',\n",
       " 'burned',\n",
       " 'burning',\n",
       " 'burns',\n",
       " 'burtlancaster',\n",
       " 'burtreynolds',\n",
       " 'bus',\n",
       " 'bush',\n",
       " 'business',\n",
       " 'businessman',\n",
       " 'busterkeaton',\n",
       " 'busy',\n",
       " 'butcher',\n",
       " 'butler',\n",
       " 'butterfly',\n",
       " 'buy',\n",
       " 'buys',\n",
       " 'cab',\n",
       " 'cabaret',\n",
       " 'cabin',\n",
       " 'cafe',\n",
       " 'california',\n",
       " 'called',\n",
       " 'calling',\n",
       " 'calls',\n",
       " 'came',\n",
       " 'camera',\n",
       " 'cameras',\n",
       " 'camp',\n",
       " 'campaign',\n",
       " 'campbell',\n",
       " 'camping',\n",
       " 'campus',\n",
       " 'canada',\n",
       " 'canadian',\n",
       " 'cancer',\n",
       " 'candidate',\n",
       " 'candy',\n",
       " 'cannibal',\n",
       " 'cannibalism',\n",
       " 'canuxploitation',\n",
       " 'capable',\n",
       " 'capital',\n",
       " 'capitalism',\n",
       " 'captain',\n",
       " 'captive',\n",
       " 'capture',\n",
       " 'captured',\n",
       " 'captures',\n",
       " 'car',\n",
       " 'caraccident',\n",
       " 'carchase',\n",
       " 'carcrash',\n",
       " 'card',\n",
       " 'cards',\n",
       " 'care',\n",
       " 'career',\n",
       " 'careers',\n",
       " 'carefree',\n",
       " 'carefully',\n",
       " 'cares',\n",
       " 'caretaker',\n",
       " 'cargo',\n",
       " 'caribbean',\n",
       " 'caring',\n",
       " 'carl',\n",
       " 'carlo',\n",
       " 'carlos',\n",
       " 'carmen',\n",
       " 'carnival',\n",
       " 'carol',\n",
       " 'carolina',\n",
       " 'carpenter',\n",
       " 'carrie',\n",
       " 'carried',\n",
       " 'carries',\n",
       " 'carry',\n",
       " 'carrying',\n",
       " 'cars',\n",
       " 'carter',\n",
       " 'cartoon',\n",
       " 'carygrant',\n",
       " 'case',\n",
       " 'cases',\n",
       " 'casey',\n",
       " 'cash',\n",
       " 'casino',\n",
       " 'cast',\n",
       " 'castle',\n",
       " 'cat',\n",
       " 'catastrophe',\n",
       " 'catch',\n",
       " 'catches',\n",
       " 'catherine',\n",
       " 'catherinedeneuve',\n",
       " 'catholic',\n",
       " 'cats',\n",
       " 'cattle',\n",
       " 'caught',\n",
       " 'cause',\n",
       " 'caused',\n",
       " 'causes',\n",
       " 'causing',\n",
       " 'cavalry',\n",
       " 'cave',\n",
       " 'celebrate',\n",
       " 'celebrated',\n",
       " 'celebration',\n",
       " 'celebrity',\n",
       " 'cell',\n",
       " 'cemetery',\n",
       " 'center',\n",
       " 'centered',\n",
       " 'centers',\n",
       " 'central',\n",
       " 'centre',\n",
       " 'centuries',\n",
       " 'century',\n",
       " 'ceremony',\n",
       " 'certain',\n",
       " 'chain',\n",
       " 'chair',\n",
       " 'challenge',\n",
       " 'challenged',\n",
       " 'challenges',\n",
       " 'challenging',\n",
       " 'champion',\n",
       " 'championship',\n",
       " 'chan',\n",
       " 'chance',\n",
       " 'change',\n",
       " 'changed',\n",
       " 'changes',\n",
       " 'changing',\n",
       " 'channel',\n",
       " 'chaos',\n",
       " 'chaotic',\n",
       " 'character',\n",
       " 'characters',\n",
       " 'charge',\n",
       " 'charged',\n",
       " 'charges',\n",
       " 'charismatic',\n",
       " 'charles',\n",
       " 'charlie',\n",
       " 'charliechaplin',\n",
       " 'charlotte',\n",
       " 'charm',\n",
       " 'charming',\n",
       " 'charms',\n",
       " 'chase',\n",
       " 'chased',\n",
       " 'chases',\n",
       " 'chasing',\n",
       " 'chauffeur',\n",
       " 'cheap',\n",
       " 'cheating',\n",
       " 'check',\n",
       " 'cheerleader',\n",
       " 'chef',\n",
       " 'chemical',\n",
       " 'chen',\n",
       " 'chess',\n",
       " 'chi',\n",
       " 'chicago',\n",
       " 'chicken',\n",
       " 'chief',\n",
       " 'child',\n",
       " 'childabuse',\n",
       " 'childhood',\n",
       " 'children',\n",
       " 'chilling',\n",
       " 'china',\n",
       " 'chinese',\n",
       " 'chip',\n",
       " 'choice',\n",
       " 'choices',\n",
       " 'choose',\n",
       " 'chooses',\n",
       " 'chosen',\n",
       " 'chris',\n",
       " 'christ',\n",
       " 'christian',\n",
       " 'christianity',\n",
       " 'christine',\n",
       " 'christmas',\n",
       " 'christopher',\n",
       " 'christopherlee',\n",
       " 'christopherwalken',\n",
       " 'chronicle',\n",
       " 'chronicles',\n",
       " 'chuck',\n",
       " 'church',\n",
       " 'cia',\n",
       " 'cinderella',\n",
       " 'cinema',\n",
       " 'cinematic',\n",
       " 'circle',\n",
       " 'circumstances',\n",
       " 'circus',\n",
       " 'cities',\n",
       " 'citizen',\n",
       " 'citizens',\n",
       " 'city',\n",
       " 'civil',\n",
       " 'civilian',\n",
       " 'civilization',\n",
       " 'civilwar',\n",
       " 'claim',\n",
       " 'claiming',\n",
       " 'claims',\n",
       " 'claire',\n",
       " 'clan',\n",
       " 'clara',\n",
       " 'clark',\n",
       " 'clash',\n",
       " 'class',\n",
       " 'classes',\n",
       " 'classic',\n",
       " 'classicnoir',\n",
       " 'classmate',\n",
       " 'classmates',\n",
       " 'classroom',\n",
       " 'claude',\n",
       " 'claus',\n",
       " 'clay',\n",
       " 'clean',\n",
       " 'cleaning',\n",
       " 'clear',\n",
       " 'clearly',\n",
       " 'clerk',\n",
       " 'clever',\n",
       " 'client',\n",
       " 'clients',\n",
       " 'cliff',\n",
       " 'climb',\n",
       " 'climbing',\n",
       " 'clinic',\n",
       " 'clinteastwood',\n",
       " 'clips',\n",
       " 'clock',\n",
       " 'clone',\n",
       " 'close',\n",
       " 'closed',\n",
       " 'closely',\n",
       " 'closer',\n",
       " 'closest',\n",
       " 'closing',\n",
       " 'clothes',\n",
       " 'clown',\n",
       " 'club',\n",
       " 'clubs',\n",
       " 'clue',\n",
       " 'clues',\n",
       " 'clutches',\n",
       " 'coach',\n",
       " 'coal',\n",
       " 'coast',\n",
       " 'coastal',\n",
       " 'cocaine',\n",
       " 'code',\n",
       " 'coffee',\n",
       " 'coffin',\n",
       " 'cold',\n",
       " 'coldwar',\n",
       " 'cole',\n",
       " 'collapse',\n",
       " 'colleague',\n",
       " 'colleagues',\n",
       " 'collect',\n",
       " 'collection',\n",
       " 'collector',\n",
       " 'college',\n",
       " 'collide',\n",
       " 'collins',\n",
       " 'collision',\n",
       " 'colonel',\n",
       " 'colonial',\n",
       " 'colony',\n",
       " 'color',\n",
       " 'colorful',\n",
       " 'com',\n",
       " 'coma',\n",
       " 'combat',\n",
       " 'combination',\n",
       " 'come',\n",
       " 'comeback',\n",
       " 'comedian',\n",
       " 'comedic',\n",
       " 'comedy',\n",
       " 'comes',\n",
       " 'comet',\n",
       " 'comfort',\n",
       " 'comfortable',\n",
       " 'comic',\n",
       " 'comics',\n",
       " 'coming',\n",
       " 'comingofage',\n",
       " 'comingout',\n",
       " 'command',\n",
       " 'commander',\n",
       " 'commentary',\n",
       " 'commercial',\n",
       " 'commit',\n",
       " 'commitment',\n",
       " 'commits',\n",
       " 'committed',\n",
       " 'committing',\n",
       " 'common',\n",
       " 'communicate',\n",
       " 'communication',\n",
       " 'communism',\n",
       " 'communist',\n",
       " 'community',\n",
       " 'companion',\n",
       " 'companions',\n",
       " 'company',\n",
       " 'compelling',\n",
       " 'compete',\n",
       " 'competing',\n",
       " 'competition',\n",
       " 'complete',\n",
       " 'completely',\n",
       " 'complex',\n",
       " 'complicated',\n",
       " 'complications',\n",
       " 'composed',\n",
       " 'composer',\n",
       " 'computer',\n",
       " 'concentration',\n",
       " 'concerned',\n",
       " 'concerns',\n",
       " 'concert',\n",
       " 'conclusion',\n",
       " 'condemned',\n",
       " 'condition',\n",
       " 'conditions',\n",
       " 'conductor',\n",
       " 'confederate',\n",
       " 'confession',\n",
       " 'confidence',\n",
       " ...]"
      ]
     },
     "execution_count": 71,
     "metadata": {},
     "output_type": "execute_result"
    }
   ],
   "source": [
    "cv.get_feature_names()"
   ]
  },
  {
   "cell_type": "markdown",
   "id": "3a383c68",
   "metadata": {
    "papermill": {
     "duration": 0.030561,
     "end_time": "2023-02-23T17:24:43.521129",
     "exception": false,
     "start_time": "2023-02-23T17:24:43.490568",
     "status": "completed"
    },
    "tags": []
   },
   "source": [
    "### These are same type of words like began,begins,begin etc. We will apply stammen\n",
    "### Stammen will replace same type of words into root word eg.'beat','beaten','beating';The root word would be beat"
   ]
  },
  {
   "cell_type": "code",
   "execution_count": 72,
   "id": "57bc332d",
   "metadata": {
    "execution": {
     "iopub.execute_input": "2023-02-23T17:24:43.584113Z",
     "iopub.status.busy": "2023-02-23T17:24:43.583729Z",
     "iopub.status.idle": "2023-02-23T17:24:44.378725Z",
     "shell.execute_reply": "2023-02-23T17:24:44.377399Z"
    },
    "papermill": {
     "duration": 0.830575,
     "end_time": "2023-02-23T17:24:44.381960",
     "exception": false,
     "start_time": "2023-02-23T17:24:43.551385",
     "status": "completed"
    },
    "tags": []
   },
   "outputs": [],
   "source": [
    "import nltk\n",
    "from nltk.stem.porter import PorterStemmer\n",
    "ps=PorterStemmer()"
   ]
  },
  {
   "cell_type": "code",
   "execution_count": 73,
   "id": "eab865d3",
   "metadata": {
    "execution": {
     "iopub.execute_input": "2023-02-23T17:24:44.443570Z",
     "iopub.status.busy": "2023-02-23T17:24:44.443141Z",
     "iopub.status.idle": "2023-02-23T17:24:44.449228Z",
     "shell.execute_reply": "2023-02-23T17:24:44.447892Z"
    },
    "papermill": {
     "duration": 0.039642,
     "end_time": "2023-02-23T17:24:44.451531",
     "exception": false,
     "start_time": "2023-02-23T17:24:44.411889",
     "status": "completed"
    },
    "tags": []
   },
   "outputs": [],
   "source": [
    "def stem(text):\n",
    "    y=[]\n",
    "    for i in text.split():\n",
    "        y.append(ps.stem(i))\n",
    "    return \" \".join(y)"
   ]
  },
  {
   "cell_type": "code",
   "execution_count": 74,
   "id": "13431dee",
   "metadata": {
    "execution": {
     "iopub.execute_input": "2023-02-23T17:24:44.514809Z",
     "iopub.status.busy": "2023-02-23T17:24:44.513975Z",
     "iopub.status.idle": "2023-02-23T17:25:55.211491Z",
     "shell.execute_reply": "2023-02-23T17:25:55.210196Z"
    },
    "papermill": {
     "duration": 70.732369,
     "end_time": "2023-02-23T17:25:55.214618",
     "exception": false,
     "start_time": "2023-02-23T17:24:44.482249",
     "status": "completed"
    },
    "tags": []
   },
   "outputs": [],
   "source": [
    "new_df['strings']=new_df['strings'].apply(stem)"
   ]
  },
  {
   "cell_type": "code",
   "execution_count": 75,
   "id": "74b6a12a",
   "metadata": {
    "execution": {
     "iopub.execute_input": "2023-02-23T17:25:55.277492Z",
     "iopub.status.busy": "2023-02-23T17:25:55.277026Z",
     "iopub.status.idle": "2023-02-23T17:25:55.284468Z",
     "shell.execute_reply": "2023-02-23T17:25:55.283094Z"
    },
    "papermill": {
     "duration": 0.04206,
     "end_time": "2023-02-23T17:25:55.287092",
     "exception": false,
     "start_time": "2023-02-23T17:25:55.245032",
     "status": "completed"
    },
    "tags": []
   },
   "outputs": [
    {
     "data": {
      "text/plain": [
       "\"in the year 2035, convict jame cole reluctantli volunt to be sent back in time to discov the origin of a deadli viru that wipe out nearli all of the earth' popul and forc the survivor into underground communities. but when cole is mistakenli sent to 1990 instead of 1996, he' arrest and lock up in a mental hospital. there he meet psychiatrist dr. kathryn railly, and patient jeffrey goines, the son of a famou viru expert, who may hold the key to the mysteri rogu group, the armi of the 12 monkeys, thought to be respons for unleash the killer disease. sciencefict thriller mysteri schizophrenia philadelphia cassandrasyndrom stockholmsyndrom timetravel post-apocalypt dystopia lethalviru monkey subterranean brucewilli madeleinestow bradpitt terrygilliam\""
      ]
     },
     "execution_count": 75,
     "metadata": {},
     "output_type": "execute_result"
    }
   ],
   "source": [
    "new_df['strings'][31]"
   ]
  },
  {
   "cell_type": "markdown",
   "id": "60f19135",
   "metadata": {
    "papermill": {
     "duration": 0.028667,
     "end_time": "2023-02-23T17:25:55.347815",
     "exception": false,
     "start_time": "2023-02-23T17:25:55.319148",
     "status": "completed"
    },
    "tags": []
   },
   "source": [
    "### We have 45558 movies i.e.., 45558 vectors and in every vector we have 5000 numbers. We need to calculate the distance between each vector with every other vector. We can do this using Cosine Distance, it calculated the distance between vectors by calculating the angle between the vectors.\n",
    "### Cosine distance and cosine similarity are inversely proportional i.e.., more the distance,less is the similarity between vectors;here movies"
   ]
  },
  {
   "cell_type": "code",
   "execution_count": 76,
   "id": "15f51360",
   "metadata": {
    "execution": {
     "iopub.execute_input": "2023-02-23T17:25:55.407957Z",
     "iopub.status.busy": "2023-02-23T17:25:55.407487Z",
     "iopub.status.idle": "2023-02-23T17:25:55.413369Z",
     "shell.execute_reply": "2023-02-23T17:25:55.411987Z"
    },
    "papermill": {
     "duration": 0.03949,
     "end_time": "2023-02-23T17:25:55.415937",
     "exception": false,
     "start_time": "2023-02-23T17:25:55.376447",
     "status": "completed"
    },
    "tags": []
   },
   "outputs": [],
   "source": [
    "from sklearn.metrics.pairwise import cosine_similarity"
   ]
  },
  {
   "cell_type": "code",
   "execution_count": 77,
   "id": "4a550595",
   "metadata": {
    "execution": {
     "iopub.execute_input": "2023-02-23T17:25:55.476170Z",
     "iopub.status.busy": "2023-02-23T17:25:55.475773Z",
     "iopub.status.idle": "2023-02-23T17:28:48.129813Z",
     "shell.execute_reply": "2023-02-23T17:28:48.126898Z"
    },
    "papermill": {
     "duration": 172.690573,
     "end_time": "2023-02-23T17:28:48.135563",
     "exception": false,
     "start_time": "2023-02-23T17:25:55.444990",
     "status": "completed"
    },
    "tags": []
   },
   "outputs": [],
   "source": [
    "similarity=cosine_similarity(vectors)"
   ]
  },
  {
   "cell_type": "code",
   "execution_count": 78,
   "id": "ac3ff0db",
   "metadata": {
    "execution": {
     "iopub.execute_input": "2023-02-23T17:28:48.201928Z",
     "iopub.status.busy": "2023-02-23T17:28:48.200413Z",
     "iopub.status.idle": "2023-02-23T17:28:48.212574Z",
     "shell.execute_reply": "2023-02-23T17:28:48.211380Z"
    },
    "papermill": {
     "duration": 0.045926,
     "end_time": "2023-02-23T17:28:48.215113",
     "exception": false,
     "start_time": "2023-02-23T17:28:48.169187",
     "status": "completed"
    },
    "tags": []
   },
   "outputs": [
    {
     "data": {
      "text/plain": [
       "array([[1.        , 0.048795  , 0.05423261, ..., 0.        , 0.01767767,\n",
       "        0.        ],\n",
       "       [0.048795  , 1.        , 0.07938842, ..., 0.        , 0.03450328,\n",
       "        0.04279605],\n",
       "       [0.05423261, 0.07938842, 1.        , ..., 0.        , 0.01917412,\n",
       "        0.        ],\n",
       "       ...,\n",
       "       [0.        , 0.        , 0.        , ..., 1.        , 0.        ,\n",
       "        0.        ],\n",
       "       [0.01767767, 0.03450328, 0.01917412, ..., 0.        , 1.        ,\n",
       "        0.        ],\n",
       "       [0.        , 0.04279605, 0.        , ..., 0.        , 0.        ,\n",
       "        1.        ]])"
      ]
     },
     "execution_count": 78,
     "metadata": {},
     "output_type": "execute_result"
    }
   ],
   "source": [
    "similarity"
   ]
  },
  {
   "cell_type": "code",
   "execution_count": 79,
   "id": "1152fa3f",
   "metadata": {
    "execution": {
     "iopub.execute_input": "2023-02-23T17:28:48.275864Z",
     "iopub.status.busy": "2023-02-23T17:28:48.275384Z",
     "iopub.status.idle": "2023-02-23T17:28:48.327497Z",
     "shell.execute_reply": "2023-02-23T17:28:48.326671Z"
    },
    "papermill": {
     "duration": 0.085199,
     "end_time": "2023-02-23T17:28:48.329820",
     "exception": false,
     "start_time": "2023-02-23T17:28:48.244621",
     "status": "completed"
    },
    "tags": []
   },
   "outputs": [
    {
     "data": {
      "text/plain": [
       "[(15446, 0.40069384267237695),\n",
       " (3004, 0.3879701448994927),\n",
       " (10354, 0.3529432893783948),\n",
       " (8381, 0.3408228586736446),\n",
       " (43632, 0.32791291789197646)]"
      ]
     },
     "execution_count": 79,
     "metadata": {},
     "output_type": "execute_result"
    }
   ],
   "source": [
    "sorted(list(enumerate(similarity[0])),reverse=True,key=lambda x:x[1])[1:6]"
   ]
  },
  {
   "cell_type": "code",
   "execution_count": 80,
   "id": "eb6389d4",
   "metadata": {
    "execution": {
     "iopub.execute_input": "2023-02-23T17:28:48.391197Z",
     "iopub.status.busy": "2023-02-23T17:28:48.390484Z",
     "iopub.status.idle": "2023-02-23T17:28:48.397171Z",
     "shell.execute_reply": "2023-02-23T17:28:48.395859Z"
    },
    "papermill": {
     "duration": 0.040321,
     "end_time": "2023-02-23T17:28:48.399877",
     "exception": false,
     "start_time": "2023-02-23T17:28:48.359556",
     "status": "completed"
    },
    "tags": []
   },
   "outputs": [],
   "source": [
    "def recommend(movie):\n",
    "    movie_index=new_df[new_df['title']==movie].index[0]\n",
    "    distance=similarity[movie_index]\n",
    "    movies_list=sorted(list(enumerate(distance)),reverse=True,key=lambda x:x[1])[1:6]\n",
    "    for i in movies_list:\n",
    "        print(new_df.iloc[i[0]].title)"
   ]
  },
  {
   "cell_type": "code",
   "execution_count": 81,
   "id": "36c62b0f",
   "metadata": {
    "execution": {
     "iopub.execute_input": "2023-02-23T17:28:48.461365Z",
     "iopub.status.busy": "2023-02-23T17:28:48.460887Z",
     "iopub.status.idle": "2023-02-23T17:28:48.515104Z",
     "shell.execute_reply": "2023-02-23T17:28:48.513812Z"
    },
    "papermill": {
     "duration": 0.088418,
     "end_time": "2023-02-23T17:28:48.518255",
     "exception": false,
     "start_time": "2023-02-23T17:28:48.429837",
     "status": "completed"
    },
    "tags": []
   },
   "outputs": [
    {
     "name": "stdout",
     "output_type": "stream",
     "text": [
      "The War in Space\n",
      "The War in Space\n",
      "Aliens vs Predator: Requiem\n",
      "Abraxas, Guardian of the Universe\n",
      "Project Moon Base\n"
     ]
    }
   ],
   "source": [
    "recommend('Avatar')"
   ]
  },
  {
   "cell_type": "code",
   "execution_count": 82,
   "id": "12677dc7",
   "metadata": {
    "execution": {
     "iopub.execute_input": "2023-02-23T17:28:48.579849Z",
     "iopub.status.busy": "2023-02-23T17:28:48.578685Z",
     "iopub.status.idle": "2023-02-23T17:28:48.631866Z",
     "shell.execute_reply": "2023-02-23T17:28:48.630229Z"
    },
    "papermill": {
     "duration": 0.086759,
     "end_time": "2023-02-23T17:28:48.634662",
     "exception": false,
     "start_time": "2023-02-23T17:28:48.547903",
     "status": "completed"
    },
    "tags": []
   },
   "outputs": [
    {
     "name": "stdout",
     "output_type": "stream",
     "text": [
      "Batman: The Dark Knight Returns, Part 1\n",
      "The Dark Knight\n",
      "Batman: Under the Red Hood\n",
      "Bablo\n",
      "Batman & Robin\n"
     ]
    }
   ],
   "source": [
    "recommend('Batman Begins')"
   ]
  },
  {
   "cell_type": "markdown",
   "id": "0eb81ecc",
   "metadata": {
    "papermill": {
     "duration": 0.0301,
     "end_time": "2023-02-23T17:28:48.695671",
     "exception": false,
     "start_time": "2023-02-23T17:28:48.665571",
     "status": "completed"
    },
    "tags": []
   },
   "source": [
    "### Credits : Sonali Thakur\n",
    "https://www.linkedin.com/feed/update/urn:li:activity:7017390515587313664/"
   ]
  },
  {
   "cell_type": "code",
   "execution_count": null,
   "id": "042ad167",
   "metadata": {
    "papermill": {
     "duration": 0.031079,
     "end_time": "2023-02-23T17:28:48.757975",
     "exception": false,
     "start_time": "2023-02-23T17:28:48.726896",
     "status": "completed"
    },
    "tags": []
   },
   "outputs": [],
   "source": []
  }
 ],
 "metadata": {
  "kernelspec": {
   "display_name": "Python 3",
   "language": "python",
   "name": "python3"
  },
  "language_info": {
   "codemirror_mode": {
    "name": "ipython",
    "version": 3
   },
   "file_extension": ".py",
   "mimetype": "text/x-python",
   "name": "python",
   "nbconvert_exporter": "python",
   "pygments_lexer": "ipython3",
   "version": "3.7.12"
  },
  "papermill": {
   "default_parameters": {},
   "duration": 346.402781,
   "end_time": "2023-02-23T17:28:50.717926",
   "environment_variables": {},
   "exception": null,
   "input_path": "__notebook__.ipynb",
   "output_path": "__notebook__.ipynb",
   "parameters": {},
   "start_time": "2023-02-23T17:23:04.315145",
   "version": "2.3.4"
  }
 },
 "nbformat": 4,
 "nbformat_minor": 5
}
